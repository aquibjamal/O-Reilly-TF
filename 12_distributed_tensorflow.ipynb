{
  "nbformat": 4,
  "nbformat_minor": 0,
  "metadata": {
    "colab": {
      "name": "12_distributed_tensorflow.ipynb",
      "provenance": [],
      "collapsed_sections": []
    },
    "kernelspec": {
      "name": "python3",
      "display_name": "Python 3"
    }
  },
  "cells": [
    {
      "cell_type": "code",
      "metadata": {
        "id": "4p5IX3qigGMy",
        "colab_type": "code",
        "colab": {
          "base_uri": "https://localhost:8080/",
          "height": 83
        },
        "outputId": "5d25937b-020a-4805-bd31-1580d57210a4"
      },
      "source": [
        "from __future__ import print_function, division, unicode_literals\n",
        "\n",
        "import numpy as np\n",
        "import tensorflow as tf\n",
        "import os\n",
        "\n",
        "def reset_graph(seed=42):\n",
        "  tf.reset_default_graph()\n",
        "  tf.set_random_seed(seed)\n",
        "  np.random.seed(seed)\n",
        "\n",
        "%matplotlib inline\n",
        "import matplotlib\n",
        "import matplotlib.pyplot as plt\n",
        "\n",
        "plt.rcParams['axes.labelsize'] = 14\n",
        "plt.rcParams['xtick.labelsize'] = 12\n",
        "plt.rcParams['ytick.labelsize'] = 12\n",
        "\n",
        "PROJECT_ROOT_DIR = \"/tmp/\"\n",
        "CHAPTER_ID = \"distributed\"\n",
        "\n",
        "def save_fig(fig_id, tight_layout=True):\n",
        "    path = os.path.join(PROJECT_ROOT_DIR, \"images\", CHAPTER_ID, fig_id + \".png\")\n",
        "    print(\"Saving figure\", fig_id)\n",
        "    if tight_layout:\n",
        "        plt.tight_layout()\n",
        "    plt.savefig(path, format='png', dpi=300)"
      ],
      "execution_count": 1,
      "outputs": [
        {
          "output_type": "display_data",
          "data": {
            "text/html": [
              "<p style=\"color: red;\">\n",
              "The default version of TensorFlow in Colab will soon switch to TensorFlow 2.x.<br>\n",
              "We recommend you <a href=\"https://www.tensorflow.org/guide/migrate\" target=\"_blank\">upgrade</a> now \n",
              "or ensure your notebook will continue to use TensorFlow 1.x via the <code>%tensorflow_version 1.x</code> magic:\n",
              "<a href=\"https://colab.research.google.com/notebooks/tensorflow_version.ipynb\" target=\"_blank\">more info</a>.</p>\n"
            ],
            "text/plain": [
              "<IPython.core.display.HTML object>"
            ]
          },
          "metadata": {
            "tags": []
          }
        }
      ]
    },
    {
      "cell_type": "markdown",
      "metadata": {
        "id": "QdQzivC4nbh3",
        "colab_type": "text"
      },
      "source": [
        "Local server"
      ]
    },
    {
      "cell_type": "code",
      "metadata": {
        "id": "kBJkta0Mncuz",
        "colab_type": "code",
        "colab": {}
      },
      "source": [
        "c=tf.constant(\"Hello distributed Tensorflow\")\n",
        "server = tf.train.Server.create_local_server()"
      ],
      "execution_count": 0,
      "outputs": []
    },
    {
      "cell_type": "code",
      "metadata": {
        "id": "6Irx1F06nZYT",
        "colab_type": "code",
        "colab": {
          "base_uri": "https://localhost:8080/",
          "height": 35
        },
        "outputId": "c33496ec-fa14-4089-f193-bc84394cb537"
      },
      "source": [
        "with tf.Session(server.target) as sess:\n",
        "  print(sess.run(c))"
      ],
      "execution_count": 3,
      "outputs": [
        {
          "output_type": "stream",
          "text": [
            "b'Hello distributed Tensorflow'\n"
          ],
          "name": "stdout"
        }
      ]
    },
    {
      "cell_type": "markdown",
      "metadata": {
        "id": "ZP_71KAnoIEd",
        "colab_type": "text"
      },
      "source": [
        "Cluster"
      ]
    },
    {
      "cell_type": "code",
      "metadata": {
        "id": "Ylbb03vvoIeR",
        "colab_type": "code",
        "colab": {}
      },
      "source": [
        "cluster_spec = tf.train.ClusterSpec({\n",
        "    \"ps\": [\n",
        "           \"127.0.0.1:2221\",  # /job:ps/task:0\n",
        "        \"127.0.0.1:2222\",  # /job:ps/task:1\n",
        "    ],\n",
        "    \"worker\": [\n",
        "        \"127.0.0.1:2223\",  # /job:worker/task:0\n",
        "        \"127.0.0.1:2224\",  # /job:worker/task:1\n",
        "        \"127.0.0.1:2225\",  # /job:worker/task:2\n",
        "    ]})"
      ],
      "execution_count": 0,
      "outputs": []
    },
    {
      "cell_type": "code",
      "metadata": {
        "id": "a__YuYrzoUiU",
        "colab_type": "code",
        "colab": {}
      },
      "source": [
        "task_ps0= tf.train.Server(cluster_spec, job_name=\"ps\", task_index=0)\n",
        "task_ps1= tf.train.Server(cluster_spec, job_name=\"ps\", task_index=1)\n",
        "task_worker0=tf.train.Server(cluster_spec, job_name=\"worker\", task_index=0)\n",
        "task_worker1=tf.train.Server(cluster_spec, job_name=\"worker\", task_index=1)\n",
        "task_worker2=tf.train.Server(cluster_spec, job_name=\"worker\", task_index=2)"
      ],
      "execution_count": 0,
      "outputs": []
    },
    {
      "cell_type": "markdown",
      "metadata": {
        "id": "1pWV-PFDoqDa",
        "colab_type": "text"
      },
      "source": [
        "Pinning operations across devices and servers"
      ]
    },
    {
      "cell_type": "code",
      "metadata": {
        "id": "lpX8BxCWoqm5",
        "colab_type": "code",
        "colab": {}
      },
      "source": [
        "\n",
        "reset_graph()\n",
        "\n",
        "with tf.device(\"/job:ps\"):\n",
        "    a = tf.Variable(1.0, name=\"a\")\n",
        "\n",
        "with tf.device(\"/job:worker\"):\n",
        "    b = a + 2\n",
        "\n",
        "with tf.device(\"/job:worker/task:1\"):\n",
        "    c = a + b"
      ],
      "execution_count": 0,
      "outputs": []
    },
    {
      "cell_type": "code",
      "metadata": {
        "id": "ZbzEZWyMpGOZ",
        "colab_type": "code",
        "colab": {
          "base_uri": "https://localhost:8080/",
          "height": 35
        },
        "outputId": "0525219c-fe12-451c-decc-7a36bfb2541b"
      },
      "source": [
        "with tf.Session(\"grpc://127.0.0.1:2221\") as sess:\n",
        "    sess.run(a.initializer)\n",
        "    print(c.eval())"
      ],
      "execution_count": 8,
      "outputs": [
        {
          "output_type": "stream",
          "text": [
            "4.0\n"
          ],
          "name": "stdout"
        }
      ]
    },
    {
      "cell_type": "code",
      "metadata": {
        "id": "hnJXhu09pQMy",
        "colab_type": "code",
        "colab": {}
      },
      "source": [
        "reset_graph()\n",
        "\n",
        "with tf.device(tf.train.replica_device_setter(\n",
        "        ps_tasks=2,\n",
        "        ps_device=\"/job:ps\",\n",
        "        worker_device=\"/job:worker\")):\n",
        "    v1 = tf.Variable(1.0, name=\"v1\")  # pinned to /job:ps/task:0 (defaults to /cpu:0)\n",
        "    v2 = tf.Variable(2.0, name=\"v2\")  # pinned to /job:ps/task:1 (defaults to /cpu:0)\n",
        "    v3 = tf.Variable(3.0, name=\"v3\")  # pinned to /job:ps/task:0 (defaults to /cpu:0)\n",
        "    s = v1 + v2            # pinned to /job:worker (defaults to task:0/cpu:0)\n",
        "    with tf.device(\"/task:1\"):\n",
        "        p1 = 2 * s         # pinned to /job:worker/task:1 (defaults to /cpu:0)\n",
        "        with tf.device(\"/cpu:0\"):\n",
        "            p2 = 3 * s     # pinned to /job:worker/task:1/cpu:0\n",
        "\n",
        "config = tf.ConfigProto()\n",
        "config.log_device_placement = True\n",
        "\n",
        "with tf.Session(\"grpc://127.0.0.1:2221\", config=config) as sess:\n",
        "    v1.initializer.run()"
      ],
      "execution_count": 0,
      "outputs": []
    },
    {
      "cell_type": "markdown",
      "metadata": {
        "id": "kB4awtkapSPu",
        "colab_type": "text"
      },
      "source": [
        "Readers – the old way"
      ]
    },
    {
      "cell_type": "code",
      "metadata": {
        "id": "LmIyc_2bpSwv",
        "colab_type": "code",
        "colab": {}
      },
      "source": [
        "reset_graph()"
      ],
      "execution_count": 0,
      "outputs": []
    },
    {
      "cell_type": "code",
      "metadata": {
        "id": "cFDil3FlpVXo",
        "colab_type": "code",
        "colab": {
          "base_uri": "https://localhost:8080/",
          "height": 35
        },
        "outputId": "f5ad77e0-d335-43ed-ebf2-3be94c257a45"
      },
      "source": [
        "default1 = tf.constant([5.])\n",
        "default2 = tf.constant([6])\n",
        "default3 = tf.constant([7])\n",
        "dec = tf.decode_csv(tf.constant(\"1.,,44\"),\n",
        "                    record_defaults=[default1, default2, default3])\n",
        "with tf.Session() as sess:\n",
        "    print(sess.run(dec))"
      ],
      "execution_count": 11,
      "outputs": [
        {
          "output_type": "stream",
          "text": [
            "[1.0, 6, 44]\n"
          ],
          "name": "stdout"
        }
      ]
    },
    {
      "cell_type": "code",
      "metadata": {
        "id": "ltRcuZwrpYJe",
        "colab_type": "code",
        "colab": {
          "base_uri": "https://localhost:8080/",
          "height": 182
        },
        "outputId": "8e8f8fa5-91c5-4c84-8cd6-77342dcb4fd0"
      },
      "source": [
        "reset_graph()\n",
        "\n",
        "test_csv = open(\"my_test.csv\", \"w\")\n",
        "test_csv.write(\"x1, x2 , target\\n\")\n",
        "test_csv.write(\"1.,, 0\\n\")\n",
        "test_csv.write(\"4., 5. , 1\\n\")\n",
        "test_csv.write(\"7., 8. , 0\\n\")\n",
        "test_csv.close()\n",
        "\n",
        "filename_queue = tf.FIFOQueue(capacity=10, dtypes=[tf.string], shapes=[()])\n",
        "filename = tf.placeholder(tf.string)\n",
        "enqueue_filename = filename_queue.enqueue([filename])\n",
        "close_filename_queue = filename_queue.close()\n",
        "\n",
        "reader = tf.TextLineReader(skip_header_lines=1)\n",
        "key, value = reader.read(filename_queue)\n",
        "\n",
        "x1, x2, target = tf.decode_csv(value, record_defaults=[[-1.], [-1.], [-1]])\n",
        "features = tf.stack([x1, x2])\n",
        "\n",
        "instance_queue = tf.RandomShuffleQueue(\n",
        "    capacity=10, min_after_dequeue=2,\n",
        "    dtypes=[tf.float32, tf.int32], shapes=[[2],[]],\n",
        "    name=\"instance_q\", shared_name=\"shared_instance_q\")\n",
        "enqueue_instance = instance_queue.enqueue([features, target])\n",
        "close_instance_queue = instance_queue.close()\n",
        "\n",
        "minibatch_instances, minibatch_targets = instance_queue.dequeue_up_to(2)\n",
        "\n",
        "with tf.Session() as sess:\n",
        "    sess.run(enqueue_filename, feed_dict={filename: \"my_test.csv\"})\n",
        "    sess.run(close_filename_queue)\n",
        "    try:\n",
        "        while True:\n",
        "            sess.run(enqueue_instance)\n",
        "    except tf.errors.OutOfRangeError as ex:\n",
        "        print(\"No more files to read\")\n",
        "    sess.run(close_instance_queue)\n",
        "    try:\n",
        "        while True:\n",
        "            print(sess.run([minibatch_instances, minibatch_targets]))\n",
        "    except tf.errors.OutOfRangeError as ex:\n",
        "        print(\"No more training instances\")"
      ],
      "execution_count": 12,
      "outputs": [
        {
          "output_type": "stream",
          "text": [
            "WARNING:tensorflow:From <ipython-input-12-80d0fc178d22>:15: TextLineReader.__init__ (from tensorflow.python.ops.io_ops) is deprecated and will be removed in a future version.\n",
            "Instructions for updating:\n",
            "Queue-based input pipelines have been replaced by `tf.data`. Use `tf.data.TextLineDataset`.\n",
            "No more files to read\n",
            "[array([[ 4.,  5.],\n",
            "       [ 1., -1.]], dtype=float32), array([1, 0], dtype=int32)]\n",
            "[array([[7., 8.]], dtype=float32), array([0], dtype=int32)]\n",
            "No more training instances\n"
          ],
          "name": "stdout"
        }
      ]
    },
    {
      "cell_type": "markdown",
      "metadata": {
        "id": "GrnlflKIpaKT",
        "colab_type": "text"
      },
      "source": [
        "Queue runners and coordinators"
      ]
    },
    {
      "cell_type": "code",
      "metadata": {
        "id": "Lx3qz9KCpcSr",
        "colab_type": "code",
        "colab": {
          "base_uri": "https://localhost:8080/",
          "height": 164
        },
        "outputId": "687adc0a-4699-4dd7-e898-1a86fb9f24e9"
      },
      "source": [
        "reset_graph()\n",
        "\n",
        "filename_queue = tf.FIFOQueue(capacity=10, dtypes=[tf.string], shapes=[()])\n",
        "filename = tf.placeholder(tf.string)\n",
        "enqueue_filename = filename_queue.enqueue([filename])\n",
        "close_filename_queue = filename_queue.close()\n",
        "\n",
        "reader = tf.TextLineReader(skip_header_lines=1)\n",
        "key, value = reader.read(filename_queue)\n",
        "\n",
        "x1, x2, target = tf.decode_csv(value, record_defaults=[[-1.], [-1.], [-1]])\n",
        "features = tf.stack([x1, x2])\n",
        "\n",
        "instance_queue = tf.RandomShuffleQueue(\n",
        "    capacity=10, min_after_dequeue=2,\n",
        "    dtypes=[tf.float32, tf.int32], shapes=[[2],[]],\n",
        "    name=\"instance_q\", shared_name=\"shared_instance_q\")\n",
        "enqueue_instance = instance_queue.enqueue([features, target])\n",
        "close_instance_queue = instance_queue.close()\n",
        "\n",
        "minibatch_instances, minibatch_targets = instance_queue.dequeue_up_to(2)\n",
        "\n",
        "n_threads = 5\n",
        "queue_runner = tf.train.QueueRunner(instance_queue, [enqueue_instance] * n_threads)\n",
        "coord = tf.train.Coordinator()\n",
        "\n",
        "with tf.Session() as sess:\n",
        "    sess.run(enqueue_filename, feed_dict={filename: \"my_test.csv\"})\n",
        "    sess.run(close_filename_queue)\n",
        "    enqueue_threads = queue_runner.create_threads(sess, coord=coord, start=True)\n",
        "    try:\n",
        "        while True:\n",
        "            print(sess.run([minibatch_instances, minibatch_targets]))\n",
        "    except tf.errors.OutOfRangeError as ex:\n",
        "        print(\"No more training instances\")"
      ],
      "execution_count": 13,
      "outputs": [
        {
          "output_type": "stream",
          "text": [
            "WARNING:tensorflow:From <ipython-input-13-0b9894c3c9bb>:24: QueueRunner.__init__ (from tensorflow.python.training.queue_runner_impl) is deprecated and will be removed in a future version.\n",
            "Instructions for updating:\n",
            "To construct input pipelines, use the `tf.data` module.\n",
            "[array([[ 4.,  5.],\n",
            "       [ 1., -1.]], dtype=float32), array([1, 0], dtype=int32)]\n",
            "[array([[7., 8.]], dtype=float32), array([0], dtype=int32)]\n",
            "No more training instances\n"
          ],
          "name": "stdout"
        }
      ]
    },
    {
      "cell_type": "code",
      "metadata": {
        "id": "VGLjlT5bpe5M",
        "colab_type": "code",
        "colab": {
          "base_uri": "https://localhost:8080/",
          "height": 89
        },
        "outputId": "052e0983-0eb9-435f-876d-781f458ddcd1"
      },
      "source": [
        "reset_graph()\n",
        "\n",
        "def read_and_push_instance(filename_queue, instance_queue):\n",
        "    reader = tf.TextLineReader(skip_header_lines=1)\n",
        "    key, value = reader.read(filename_queue)\n",
        "    x1, x2, target = tf.decode_csv(value, record_defaults=[[-1.], [-1.], [-1]])\n",
        "    features = tf.stack([x1, x2])\n",
        "    enqueue_instance = instance_queue.enqueue([features, target])\n",
        "    return enqueue_instance\n",
        "\n",
        "filename_queue = tf.FIFOQueue(capacity=10, dtypes=[tf.string], shapes=[()])\n",
        "filename = tf.placeholder(tf.string)\n",
        "enqueue_filename = filename_queue.enqueue([filename])\n",
        "close_filename_queue = filename_queue.close()\n",
        "\n",
        "instance_queue = tf.RandomShuffleQueue(\n",
        "    capacity=10, min_after_dequeue=2,\n",
        "    dtypes=[tf.float32, tf.int32], shapes=[[2],[]],\n",
        "    name=\"instance_q\", shared_name=\"shared_instance_q\")\n",
        "\n",
        "minibatch_instances, minibatch_targets = instance_queue.dequeue_up_to(2)\n",
        "\n",
        "read_and_enqueue_ops = [read_and_push_instance(filename_queue, instance_queue) for i in range(5)]\n",
        "queue_runner = tf.train.QueueRunner(instance_queue, read_and_enqueue_ops)\n",
        "\n",
        "with tf.Session() as sess:\n",
        "    sess.run(enqueue_filename, feed_dict={filename: \"my_test.csv\"})\n",
        "    sess.run(close_filename_queue)\n",
        "    coord = tf.train.Coordinator()\n",
        "    enqueue_threads = queue_runner.create_threads(sess, coord=coord, start=True)\n",
        "    try:\n",
        "        while True:\n",
        "            print(sess.run([minibatch_instances, minibatch_targets]))\n",
        "    except tf.errors.OutOfRangeError as ex:\n",
        "        print(\"No more training instances\")"
      ],
      "execution_count": 14,
      "outputs": [
        {
          "output_type": "stream",
          "text": [
            "[array([[ 4.,  5.],\n",
            "       [ 1., -1.]], dtype=float32), array([1, 0], dtype=int32)]\n",
            "[array([[7., 8.]], dtype=float32), array([0], dtype=int32)]\n",
            "No more training instances\n"
          ],
          "name": "stdout"
        }
      ]
    },
    {
      "cell_type": "markdown",
      "metadata": {
        "id": "iZN9tLYMpg9Y",
        "colab_type": "text"
      },
      "source": [
        "Setting a timeout"
      ]
    },
    {
      "cell_type": "code",
      "metadata": {
        "id": "Jp76VALypi8p",
        "colab_type": "code",
        "colab": {
          "base_uri": "https://localhost:8080/",
          "height": 108
        },
        "outputId": "a855b0a6-0011-4a08-fc44-616e533de1d5"
      },
      "source": [
        "reset_graph()\n",
        "\n",
        "q = tf.FIFOQueue(capacity=10, dtypes=[tf.float32], shapes=[()])\n",
        "v = tf.placeholder(tf.float32)\n",
        "enqueue = q.enqueue([v])\n",
        "dequeue = q.dequeue()\n",
        "output = dequeue + 1\n",
        "\n",
        "config = tf.ConfigProto()\n",
        "config.operation_timeout_in_ms = 1000\n",
        "\n",
        "with tf.Session(config=config) as sess:\n",
        "    sess.run(enqueue, feed_dict={v: 1.0})\n",
        "    sess.run(enqueue, feed_dict={v: 2.0})\n",
        "    sess.run(enqueue, feed_dict={v: 3.0})\n",
        "    print(sess.run(output))\n",
        "    print(sess.run(output, feed_dict={dequeue: 5}))\n",
        "    print(sess.run(output))\n",
        "    print(sess.run(output))\n",
        "    try:\n",
        "        print(sess.run(output))\n",
        "    except tf.errors.DeadlineExceededError as ex:\n",
        "        print(\"Timed out while dequeuing\")"
      ],
      "execution_count": 15,
      "outputs": [
        {
          "output_type": "stream",
          "text": [
            "2.0\n",
            "6.0\n",
            "3.0\n",
            "4.0\n",
            "Timed out while dequeuing\n"
          ],
          "name": "stdout"
        }
      ]
    },
    {
      "cell_type": "markdown",
      "metadata": {
        "id": "Mf7Kd45dpku1",
        "colab_type": "text"
      },
      "source": [
        "Data API"
      ]
    },
    {
      "cell_type": "markdown",
      "metadata": {
        "id": "lrWX2emhplVO",
        "colab_type": "text"
      },
      "source": [
        ""
      ]
    },
    {
      "cell_type": "markdown",
      "metadata": {
        "id": "QCCNkgXipmq_",
        "colab_type": "text"
      },
      "source": [
        ""
      ]
    },
    {
      "cell_type": "code",
      "metadata": {
        "id": "qeAdNoWKpm7X",
        "colab_type": "code",
        "colab": {}
      },
      "source": [
        "tf.reset_default_graph()"
      ],
      "execution_count": 0,
      "outputs": []
    },
    {
      "cell_type": "markdown",
      "metadata": {
        "id": "jxhNqv8npqMR",
        "colab_type": "text"
      },
      "source": [
        "Let's start with a simple dataset composed of three times the integers 0 to 9, in batches of 7:"
      ]
    },
    {
      "cell_type": "code",
      "metadata": {
        "id": "1QfQ0_9fpqtB",
        "colab_type": "code",
        "colab": {}
      },
      "source": [
        "dataset = tf.data.Dataset.from_tensor_slices(np.arange(10))\n",
        "dataset = dataset.repeat(3).batch(7)"
      ],
      "execution_count": 0,
      "outputs": []
    },
    {
      "cell_type": "markdown",
      "metadata": {
        "id": "ZZx9fRW_ptS9",
        "colab_type": "text"
      },
      "source": [
        "The first line creates a dataset containing the integers 0 through 9. The second line creates a new dataset based on the first one, repeating its elements three times and creating batches of 7 elements. As you can see, we start with a source dataset, then we chain calls to various methods to apply transformations to the data.\n",
        "\n",
        "Next, we create a one-shot-iterator to go through this dataset just once, and we call its get_next() method to get a tensor that represents the next element."
      ]
    },
    {
      "cell_type": "code",
      "metadata": {
        "id": "OIoEuVh3pu3U",
        "colab_type": "code",
        "colab": {
          "base_uri": "https://localhost:8080/",
          "height": 91
        },
        "outputId": "b1eaee53-972d-4266-87e4-980d059c823f"
      },
      "source": [
        "iterator = dataset.make_one_shot_iterator()\n",
        "next_element = iterator.get_next()"
      ],
      "execution_count": 18,
      "outputs": [
        {
          "output_type": "stream",
          "text": [
            "WARNING:tensorflow:From <ipython-input-18-bc454eaa355d>:1: DatasetV1.make_one_shot_iterator (from tensorflow.python.data.ops.dataset_ops) is deprecated and will be removed in a future version.\n",
            "Instructions for updating:\n",
            "Use `for ... in dataset:` to iterate over a dataset. If using `tf.estimator`, return the `Dataset` object directly from your input function. As a last resort, you can use `tf.compat.v1.data.make_one_shot_iterator(dataset)`.\n"
          ],
          "name": "stdout"
        }
      ]
    },
    {
      "cell_type": "markdown",
      "metadata": {
        "id": "-O2WVt2rpxK1",
        "colab_type": "text"
      },
      "source": [
        "Let's repeatedly evaluate next_element to go through the dataset. When there are not more elements, we get an OutOfRangeError:"
      ]
    },
    {
      "cell_type": "code",
      "metadata": {
        "id": "X8zXqMAypyZf",
        "colab_type": "code",
        "colab": {
          "base_uri": "https://localhost:8080/",
          "height": 126
        },
        "outputId": "be4da205-ecb0-4f44-df60-e054f5ffff74"
      },
      "source": [
        "with tf.Session() as sess:\n",
        "    try:\n",
        "        while True:\n",
        "            print(next_element.eval())\n",
        "    except tf.errors.OutOfRangeError:\n",
        "        print(\"Done\")"
      ],
      "execution_count": 19,
      "outputs": [
        {
          "output_type": "stream",
          "text": [
            "[0 1 2 3 4 5 6]\n",
            "[7 8 9 0 1 2 3]\n",
            "[4 5 6 7 8 9 0]\n",
            "[1 2 3 4 5 6 7]\n",
            "[8 9]\n",
            "Done\n"
          ],
          "name": "stdout"
        }
      ]
    },
    {
      "cell_type": "markdown",
      "metadata": {
        "id": "k3PriYTWp0Lp",
        "colab_type": "text"
      },
      "source": [
        "Great! It worked fine."
      ]
    },
    {
      "cell_type": "markdown",
      "metadata": {
        "id": "6483eR0Jp1Vm",
        "colab_type": "text"
      },
      "source": [
        "Note that, as always, a tensor is only evaluated once each time we run the graph (sess.run()): so even if we evaluate multiple tensors that all depend on next_element, it is only evaluated once. This is true as well if we ask for next_element to be evaluated twice in just one run:"
      ]
    },
    {
      "cell_type": "code",
      "metadata": {
        "id": "yak-Cfrdp2vu",
        "colab_type": "code",
        "colab": {
          "base_uri": "https://localhost:8080/",
          "height": 126
        },
        "outputId": "5b72edaa-155e-4bf0-bf52-1dc6ae24d63a"
      },
      "source": [
        "with tf.Session() as sess:\n",
        "    try:\n",
        "        while True:\n",
        "            print(sess.run([next_element, next_element]))\n",
        "    except tf.errors.OutOfRangeError:\n",
        "        print(\"Done\")"
      ],
      "execution_count": 20,
      "outputs": [
        {
          "output_type": "stream",
          "text": [
            "[array([0, 1, 2, 3, 4, 5, 6]), array([0, 1, 2, 3, 4, 5, 6])]\n",
            "[array([7, 8, 9, 0, 1, 2, 3]), array([7, 8, 9, 0, 1, 2, 3])]\n",
            "[array([4, 5, 6, 7, 8, 9, 0]), array([4, 5, 6, 7, 8, 9, 0])]\n",
            "[array([1, 2, 3, 4, 5, 6, 7]), array([1, 2, 3, 4, 5, 6, 7])]\n",
            "[array([8, 9]), array([8, 9])]\n",
            "Done\n"
          ],
          "name": "stdout"
        }
      ]
    },
    {
      "cell_type": "markdown",
      "metadata": {
        "id": "ZP2zOSxep4q-",
        "colab_type": "text"
      },
      "source": [
        "The interleave() method is powerful but a bit tricky to grasp at first. The easiest way to understand it is to look at an example:"
      ]
    },
    {
      "cell_type": "code",
      "metadata": {
        "id": "DY42FQbap5zL",
        "colab_type": "code",
        "colab": {}
      },
      "source": [
        "tf.reset_default_graph()"
      ],
      "execution_count": 0,
      "outputs": []
    },
    {
      "cell_type": "code",
      "metadata": {
        "id": "2I13gRJxp8oN",
        "colab_type": "code",
        "colab": {}
      },
      "source": [
        "dataset = tf.data.Dataset.from_tensor_slices(np.arange(10))\n",
        "dataset = dataset.repeat(3).batch(7)\n",
        "dataset = dataset.interleave(\n",
        "    lambda v: tf.data.Dataset.from_tensor_slices(v),\n",
        "    cycle_length=3,\n",
        "    block_length=2)\n",
        "iterator = dataset.make_one_shot_iterator()\n",
        "next_element = iterator.get_next()"
      ],
      "execution_count": 0,
      "outputs": []
    },
    {
      "cell_type": "code",
      "metadata": {
        "id": "xm_808e8p-SI",
        "colab_type": "code",
        "colab": {
          "base_uri": "https://localhost:8080/",
          "height": 35
        },
        "outputId": "cf23f1c3-1a1c-4e1e-dc7d-b829295b9e3c"
      },
      "source": [
        "with tf.Session() as sess:\n",
        "    try:\n",
        "        while True:\n",
        "            print(next_element.eval(), end=\",\")\n",
        "    except tf.errors.OutOfRangeError:\n",
        "        print(\"Done\")"
      ],
      "execution_count": 23,
      "outputs": [
        {
          "output_type": "stream",
          "text": [
            "0,1,7,8,4,5,2,3,9,0,6,7,4,5,1,2,8,9,6,3,0,1,2,8,9,3,4,5,6,7,Done\n"
          ],
          "name": "stdout"
        }
      ]
    },
    {
      "cell_type": "markdown",
      "metadata": {
        "id": "g3g0QsKsp__C",
        "colab_type": "text"
      },
      "source": [
        "Because cycle_length=3, the new dataset starts by pulling 3 elements from the previous dataset: that's [0,1,2,3,4,5,6], [7,8,9,0,1,2,3] and [4,5,6,7,8,9,0]. Then it calls the lambda function we gave it to create one dataset for each of the elements. Since we use Dataset.from_tensor_slices(), each dataset is going to return its elements one by one. Next, it pulls two items (since block_length=2) from each of these three datasets, and it iterates until all three datasets are out of items: 0,1 (from 1st), 7,8 (from 2nd), 4,5 (from 3rd), 2,3 (from 1st), 9,0 (from 2nd), and so on until 8,9 (from 3rd), 6 (from 1st), 3 (from 2nd), 0 (from 3rd). Next it tries to pull the next 3 elements from the original dataset, but there are just two left: [1,2,3,4,5,6,7] and [8,9]. Again, it creates datasets from these elements, and it pulls two items from each until both datasets are out of items: 1,2 (from 1st), 8,9 (from 2nd), 3,4 (from 1st), 5,6 (from 1st), 7 (from 1st). Notice that there's no interleaving at the end since the arrays do not have the same length."
      ]
    },
    {
      "cell_type": "markdown",
      "metadata": {
        "id": "T4kxjcVNqBeI",
        "colab_type": "text"
      },
      "source": [
        "Readers – the new way"
      ]
    },
    {
      "cell_type": "markdown",
      "metadata": {
        "id": "BkUpb2IuqClJ",
        "colab_type": "text"
      },
      "source": [
        "Instead of using a source dataset based on from_tensor_slices() or from_tensor(), we can use a reader dataset. It handles most of the complexity for us (e.g., threads):\n",
        "\n"
      ]
    },
    {
      "cell_type": "code",
      "metadata": {
        "id": "ZP-_ZZBOqDYQ",
        "colab_type": "code",
        "colab": {}
      },
      "source": [
        "tf.reset_default_graph()"
      ],
      "execution_count": 0,
      "outputs": []
    },
    {
      "cell_type": "code",
      "metadata": {
        "id": "8RSQCCq1qGJY",
        "colab_type": "code",
        "colab": {}
      },
      "source": [
        "filenames = [\"my_test.csv\"]"
      ],
      "execution_count": 0,
      "outputs": []
    },
    {
      "cell_type": "code",
      "metadata": {
        "id": "xqMUhURyqHg6",
        "colab_type": "code",
        "colab": {}
      },
      "source": [
        "dataset = tf.data.TextLineDataset(filenames)"
      ],
      "execution_count": 0,
      "outputs": []
    },
    {
      "cell_type": "markdown",
      "metadata": {
        "id": "9XBhsbr6qI-0",
        "colab_type": "text"
      },
      "source": [
        "We still need to tell it how to decode each line:"
      ]
    },
    {
      "cell_type": "code",
      "metadata": {
        "id": "RCDDUzs5qKQq",
        "colab_type": "code",
        "colab": {}
      },
      "source": [
        "def decode_csv_line(line):\n",
        "    x1, x2, y = tf.decode_csv(\n",
        "        line, record_defaults=[[-1.], [-1.], [-1.]])\n",
        "    X = tf.stack([x1, x2])\n",
        "    return X, y"
      ],
      "execution_count": 0,
      "outputs": []
    },
    {
      "cell_type": "markdown",
      "metadata": {
        "id": "WiLR815vqLyB",
        "colab_type": "text"
      },
      "source": [
        "Next, we can apply this decoding function to each element in the dataset using map():"
      ]
    },
    {
      "cell_type": "code",
      "metadata": {
        "id": "qkwGZ2i7qNKI",
        "colab_type": "code",
        "colab": {}
      },
      "source": [
        "dataset = dataset.skip(1).map(decode_csv_line)"
      ],
      "execution_count": 0,
      "outputs": []
    },
    {
      "cell_type": "markdown",
      "metadata": {
        "id": "0QTeW5zcqOee",
        "colab_type": "text"
      },
      "source": [
        "Finally, let's create a one-shot iterator:"
      ]
    },
    {
      "cell_type": "code",
      "metadata": {
        "id": "O0Z2ezBSqP3t",
        "colab_type": "code",
        "colab": {}
      },
      "source": [
        "it = dataset.make_one_shot_iterator()\n",
        "X, y = it.get_next()"
      ],
      "execution_count": 0,
      "outputs": []
    },
    {
      "cell_type": "code",
      "metadata": {
        "id": "yZbFfhicqRSD",
        "colab_type": "code",
        "colab": {
          "base_uri": "https://localhost:8080/",
          "height": 89
        },
        "outputId": "1a472955-4037-4dc7-eedf-260f393e059e"
      },
      "source": [
        "with tf.Session() as sess:\n",
        "    try:\n",
        "        while True:\n",
        "            X_val, y_val = sess.run([X, y])\n",
        "            print(X_val, y_val)\n",
        "    except tf.errors.OutOfRangeError as ex:\n",
        "        print(\"Done\")\n"
      ],
      "execution_count": 30,
      "outputs": [
        {
          "output_type": "stream",
          "text": [
            "[ 1. -1.] 0.0\n",
            "[4. 5.] 1.0\n",
            "[7. 8.] 0.0\n",
            "Done\n"
          ],
          "name": "stdout"
        }
      ]
    }
  ]
}