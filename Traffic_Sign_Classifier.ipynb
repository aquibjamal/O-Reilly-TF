{
 "cells": [
  {
   "cell_type": "code",
   "execution_count": 1,
   "metadata": {},
   "outputs": [],
   "source": [
    "import os\n",
    "import random\n",
    "import skimage.data\n",
    "import skimage.transform\n",
    "import matplotlib\n",
    "import matplotlib.pyplot as plt\n",
    "import numpy as np\n",
    "import tensorflow as tf\n",
    "from sklearn.utils import shuffle\n",
    "from scipy import ndarray\n",
    "import skimage as sk\n",
    "from skimage import transform\n",
    "from skimage import util\n",
    "from scipy.ndimage import rotate\n",
    "\n",
    "%matplotlib inline\n",
    "\n",
    "def load_data(data_dir):\n",
    "    \n",
    "    directories = [d for d in os.listdir(data_dir) \n",
    "                   if os.path.isdir(os.path.join(data_dir, d))]\n",
    "    labels = []\n",
    "    images = []\n",
    "    for d in directories:\n",
    "        label_dir = os.path.join(data_dir, d)\n",
    "        file_names = [os.path.join(label_dir, f) \n",
    "                      for f in os.listdir(label_dir) if f.endswith(\".ppm\")]\n",
    "        # For each label, load it's images and add them to the images list.\n",
    "        # And add the label number (i.e. directory name) to the labels list.\n",
    "        for f in file_names:\n",
    "            images.append(skimage.data.imread(f))\n",
    "            labels.append(int(d))\n",
    "    return images, labels"
   ]
  },
  {
   "cell_type": "code",
   "execution_count": 2,
   "metadata": {},
   "outputs": [
    {
     "name": "stdout",
     "output_type": "stream",
     "text": [
      "Unique Labels: 11\n",
      "Total Images: 2200\n"
     ]
    }
   ],
   "source": [
    "# Load training and testing datasets.\n",
    "train_data_dir = os.path.join(\"Training\")\n",
    "#test_data_dir = os.path.join('Testing')\n",
    "\n",
    "images, labels = load_data(train_data_dir)\n",
    "#print the number of labels and number of images\n",
    "print(\"Unique Labels: {0}\\nTotal Images: {1}\".format(len(set(labels)), len(images)))"
   ]
  },
  {
   "cell_type": "code",
   "execution_count": 3,
   "metadata": {},
   "outputs": [
    {
     "name": "stdout",
     "output_type": "stream",
     "text": [
      "shape: (39, 40, 3), min: 22, max: 255\n",
      "shape: (72, 68, 3), min: 7, max: 255\n",
      "shape: (96, 90, 3), min: 7, max: 255\n",
      "shape: (59, 59, 3), min: 4, max: 255\n",
      "shape: (54, 57, 3), min: 16, max: 255\n",
      "shape: (32, 32, 3), min: 0.11655177696078423, max: 0.99921875\n",
      "shape: (32, 32, 3), min: 0.05575980392156846, max: 1.0\n",
      "shape: (32, 32, 3), min: 0.06262254901960784, max: 1.0\n",
      "shape: (32, 32, 3), min: 0.05923808976715677, max: 1.0\n",
      "shape: (32, 32, 3), min: 0.09271024816176508, max: 1.0\n"
     ]
    }
   ],
   "source": [
    "#print the actual shape of first 5 images\n",
    "for image in images[:5]:\n",
    "    print(\"shape: {0}, min: {1}, max: {2}\".format(image.shape, image.min(), image.max()))\n",
    "    \n",
    "#resize the images to be 32*32 size\n",
    "images32 = [skimage.transform.resize(image, (32, 32), mode='constant')\n",
    "                for image in images]\n",
    "\n",
    "#print the new shape of first 5 images\n",
    "for image in images32[:5]:\n",
    "    print(\"shape: {0}, min: {1}, max: {2}\".format(image.shape, image.min(), image.max()))"
   ]
  },
  {
   "cell_type": "code",
   "execution_count": 4,
   "metadata": {},
   "outputs": [
    {
     "name": "stdout",
     "output_type": "stream",
     "text": [
      "labels:  (2200,) \n",
      "images:  (2200, 32, 32, 3)\n"
     ]
    }
   ],
   "source": [
    "labels_a_old = np.array(labels)\n",
    "#labels_a = labels_a.astype(np.float32)\n",
    "images_a_old = np.array(images32)\n",
    "images_a_old = images_a_old.astype(np.float32)\n",
    "\n",
    "#shuffle the images and labels\n",
    "images_a_old, labels_a_old = shuffle(images_a_old, labels_a_old, random_state=0)\n",
    "\n",
    "print(\"labels: \", labels_a_old.shape, \"\\nimages: \", images_a_old.shape)"
   ]
  },
  {
   "cell_type": "code",
   "execution_count": 5,
   "metadata": {},
   "outputs": [
    {
     "name": "stdout",
     "output_type": "stream",
     "text": [
      "mean before normalization: 0.335615\n",
      "std before normalization: 0.276818\n",
      "mean after normalization: -1.81776644777e-07\n",
      "std after normalization: 0.999999832286\n"
     ]
    }
   ],
   "source": [
    "print (\"mean before normalization:\", np.mean(images_a_old)) \n",
    "print (\"std before normalization:\", np.std(images_a_old))\n",
    "\n",
    "mean=[0,0,0]\n",
    "std=[0,0,0]\n",
    "newX_train = np.ones(images_a_old.shape)\n",
    "\n",
    "for i in range(3):\n",
    "    mean[i] = np.mean(images_a_old[:,:,:,i])\n",
    "    std[i] = np.std(images_a_old[:,:,:,i])\n",
    "    \n",
    "for i in range(3):\n",
    "    newX_train[:,:,:,i] = images_a_old[:,:,:,i] - mean[i]\n",
    "    newX_train[:,:,:,i] = newX_train[:,:,:,i] / std[i]\n",
    "      \n",
    "    \n",
    "images_a_old = newX_train\n",
    "\n",
    "print (\"mean after normalization:\", np.mean(images_a_old))\n",
    "print (\"std after normalization:\", np.std(images_a_old))"
   ]
  },
  {
   "cell_type": "code",
   "execution_count": 6,
   "metadata": {},
   "outputs": [],
   "source": [
    "# Image data augmentation\n",
    "#function for random degree rotation\n",
    "def random_rotation(image_array:np.array):\n",
    "    #pick a random degree of rotation between 30 degree on left and 30 degree on right\n",
    "    random_degree = random.uniform(-30,30)\n",
    "    return sk.transform.rotate(image_array,random_degree)\n"
   ]
  },
  {
   "cell_type": "code",
   "execution_count": 7,
   "metadata": {},
   "outputs": [],
   "source": [
    "#last index of images_a\n",
    "endindex=len(images_a_old)-1"
   ]
  },
  {
   "cell_type": "code",
   "execution_count": 8,
   "metadata": {},
   "outputs": [],
   "source": [
    "#create a temp copy of array of images\n",
    "temp_images_a=np.array(images_a_old)"
   ]
  },
  {
   "cell_type": "code",
   "execution_count": 9,
   "metadata": {},
   "outputs": [],
   "source": [
    "images_x=np.array(images_a_old)"
   ]
  },
  {
   "cell_type": "code",
   "execution_count": 10,
   "metadata": {},
   "outputs": [],
   "source": [
    "#loop over temp_images_a\n",
    "for i in range (0 , endindex):\n",
    "    #rotate elements of images_a\n",
    "    images_x[i]=random_rotation(temp_images_a[i])"
   ]
  },
  {
   "cell_type": "code",
   "execution_count": 11,
   "metadata": {},
   "outputs": [],
   "source": [
    "#flip images horizontally\n",
    "flip_images_a=temp_images_a[:,:,::-1]"
   ]
  },
  {
   "cell_type": "code",
   "execution_count": 12,
   "metadata": {},
   "outputs": [],
   "source": [
    "images_a=np.concatenate((images_x,flip_images_a,images_a_old),axis=0)\n",
    "labels_a=np.concatenate((labels_a_old,labels_a_old,labels_a_old),axis=0)\n",
    "\n",
    "#convert to float type\n",
    "images_a = images_a.astype(np.float32)\n",
    "\n",
    "#shuffle the images again after data rotation\n",
    "images_a, labels_a = shuffle(images_a, labels_a, random_state=0)"
   ]
  },
  {
   "cell_type": "code",
   "execution_count": 13,
   "metadata": {},
   "outputs": [
    {
     "name": "stderr",
     "output_type": "stream",
     "text": [
      "Clipping input data to the valid range for imshow with RGB data ([0..1] for floats or [0..255] for integers).\n"
     ]
    },
    {
     "data": {
      "text/plain": [
       "<matplotlib.image.AxesImage at 0x7f4a70292da0>"
      ]
     },
     "execution_count": 13,
     "metadata": {},
     "output_type": "execute_result"
    },
    {
     "data": {
      "image/png": "[encoded data removed]",
      "text/plain": [
       "<Figure size 432x288 with 1 Axes>"
      ]
     },
     "metadata": {
      "needs_background": "light"
     },
     "output_type": "display_data"
    }
   ],
   "source": [
    "plt.imshow(images_a_old[0])"
   ]
  },
  {
   "cell_type": "code",
   "execution_count": 24,
   "metadata": {},
   "outputs": [
    {
     "name": "stderr",
     "output_type": "stream",
     "text": [
      "Clipping input data to the valid range for imshow with RGB data ([0..1] for floats or [0..255] for integers).\n"
     ]
    },
    {
     "data": {
      "text/plain": [
       "<matplotlib.image.AxesImage at 0x7f2cc4efbb00>"
      ]
     },
     "execution_count": 24,
     "metadata": {},
     "output_type": "execute_result"
    },
    {
     "data": {
      "image/png": "[encoded data removed]",
      "text/plain": [
       "<Figure size 432x288 with 1 Axes>"
      ]
     },
     "metadata": {
      "needs_background": "light"
     },
     "output_type": "display_data"
    }
   ],
   "source": [
    "plt.imshow(images_x[0])"
   ]
  },
  {
   "cell_type": "code",
   "execution_count": 22,
   "metadata": {},
   "outputs": [
    {
     "name": "stderr",
     "output_type": "stream",
     "text": [
      "Clipping input data to the valid range for imshow with RGB data ([0..1] for floats or [0..255] for integers).\n"
     ]
    },
    {
     "data": {
      "text/plain": [
       "<matplotlib.image.AxesImage at 0x7f2cc4d5c048>"
      ]
     },
     "execution_count": 22,
     "metadata": {},
     "output_type": "execute_result"
    },
    {
     "data": {
      "image/png": "[encoded data removed]",
      "text/plain": [
       "<Figure size 432x288 with 1 Axes>"
      ]
     },
     "metadata": {
      "needs_background": "light"
     },
     "output_type": "display_data"
    }
   ],
   "source": [
    "plt.imshow(flip_images_a[0])"
   ]
  },
  {
   "cell_type": "code",
   "execution_count": 14,
   "metadata": {},
   "outputs": [],
   "source": [
    "dropout = 0.5 # Dropout, probability to keep units\n",
    "dropout_train=1\n",
    "dropout_test=1\n",
    "beta = 0.01\n",
    "#use os to get our current working directory so we can save variable there\n",
    "file_path = os.getcwd()+'/model.ckpt'"
   ]
  },
  {
   "cell_type": "code",
   "execution_count": 15,
   "metadata": {},
   "outputs": [],
   "source": [
    "graph = tf.Graph()\n",
    "with graph.as_default():\n",
    "    \n",
    "    batch_size = 50 #batch_size\n",
    "    map1 = 32 #input size\n",
    "    reduce1x1 = 16 \n",
    "    map2 = 64\n",
    "    num_fc1 = 150\n",
    "    num_fc2 = 11 #for number of classes\n",
    "    \n",
    "    keep_prob_ph = tf.placeholder(tf.float32) # dropout (keep probability)\n",
    "    \n",
    "    #train data and labels\n",
    "    images_ph = tf.placeholder(tf.float32, [None, 32, 32, 3])\n",
    "    labels_ph = tf.placeholder(tf.int32, [None])\n",
    "    \n",
    "    #validation data\n",
    "    #tf_valX = tf.placeholder(tf.float32,shape=(len(valX),28,28,1))\n",
    " \n",
    "    #test data\n",
    "    #tf_testX=tf.placeholder(tf.float32,shape=(test_batch_size,28,28,1))\n",
    " \n",
    "    #def createWeight(size,Name):\n",
    "    #    return tf.Variable(tf.truncated_normal(size, stddev=0.1),name=Name)\n",
    " \n",
    "    #def createBias(size,Name):\n",
    "    #    return tf.Variable(tf.constant(0.1,shape=size),name=Name)\n",
    " \n",
    "    def conv2d_s1(x,W):\n",
    "        return tf.nn.conv2d(x,W,strides=[1,1,1,1],padding='SAME')\n",
    " \n",
    "    def max_pool_3x3_s1(x):\n",
    "        return tf.nn.max_pool(x,ksize=[1,3,3,1],\n",
    "                             strides=[1,1,1,1],padding='SAME')\n",
    "    #Inception Layer 1\n",
    "    # follows input image layer\n",
    "    W_conv1_1x1_1 = tf.cast(tf.Variable(tf.truncated_normal([1, 1, 3, map1], mean=0, stddev=0.1)),tf.float32)\n",
    "    # follows input image layer\n",
    "    b_conv1_1x1_1 = tf.cast(tf.Variable(tf.truncated_normal([map1], mean=0, stddev=0.1)),tf.float32)\n",
    "\n",
    "    # follows input image layer but reduced dimension before 3*3\n",
    "    W_conv1_1x1_2 = tf.cast(tf.Variable(tf.truncated_normal([1, 1, 3, reduce1x1], mean=0, stddev=0.1)),tf.float32)\n",
    "    # follows input image layer but reduced dimension before 3*3\n",
    "    b_conv1_1x1_2 = tf.cast(tf.Variable(tf.truncated_normal([reduce1x1], mean=0, stddev=0.1)),tf.float32)\n",
    "\n",
    "    # follows input image layer but reduced dimension before 5*5\n",
    "    W_conv1_1x1_3 = tf.cast(tf.Variable(tf.truncated_normal([1, 1, 3, reduce1x1], mean=0, stddev=0.1)),tf.float32)\n",
    "    # follows input image layer but reduced dimension before 5*5\n",
    "    b_conv1_1x1_3 = tf.cast(tf.Variable(tf.truncated_normal([reduce1x1], mean=0, stddev=0.1)),tf.float32)\n",
    "\n",
    "    # follows 1x1_2\n",
    "    W_conv1_3x3 = tf.cast(tf.Variable(tf.truncated_normal([3, 3, reduce1x1, map1], mean=0, stddev=0.1)),tf.float32)\n",
    "    # follows 1x1_2\n",
    "    b_conv1_3x3 = tf.cast(tf.Variable(tf.truncated_normal([map1], mean=0, stddev=0.1)),tf.float32)\n",
    "\n",
    "    # follows 1x1_3\n",
    "    W_conv1_5x5 = tf.cast(tf.Variable(tf.truncated_normal([5, 5, reduce1x1, map1], mean=0, stddev=0.1)),tf.float32)\n",
    "    # follows 1x1_3\n",
    "    b_conv1_5x5 = tf.cast(tf.Variable(tf.truncated_normal([map1], mean=0, stddev=0.1)),tf.float32)\n",
    "\n",
    "    # follows max pooling\n",
    "    W_conv1_1x1_4 = tf.cast(tf.Variable(tf.truncated_normal([1, 1, 3, map1], mean=0, stddev=0.1)),tf.float32)\n",
    "    # follows max pooling\n",
    "    b_conv1_1x1_4 = tf.cast(tf.Variable(tf.truncated_normal([map1], mean=0, stddev=0.1)),tf.float32)\n",
    "\n",
    "    #Inception Layer 2\n",
    "    # follows input image layer\n",
    "    W_conv2_1x1_1 = tf.cast(tf.Variable(tf.truncated_normal([1,1,4*map1,map2], mean=0, stddev=0.1)),tf.float32)\n",
    "    # follows input image layer\n",
    "    b_conv2_1x1_1 = tf.cast(tf.Variable(tf.truncated_normal([map2], mean=0, stddev=0.1)),tf.float32)\n",
    "\n",
    "    # follows input image layer but reduced dimension before 3*3\n",
    "    W_conv2_1x1_2 = tf.cast(tf.Variable(tf.truncated_normal([1, 1, 4*map1, reduce1x1], mean=0, stddev=0.1)),tf.float32)\n",
    "    # follows input image layer but reduced dimension before 3*3\n",
    "    b_conv2_1x1_2 = tf.cast(tf.Variable(tf.truncated_normal([reduce1x1], mean=0, stddev=0.1)),tf.float32)\n",
    "\n",
    "    # follows input image layer but reduced dimension before 5*5\n",
    "    W_conv2_1x1_3 = tf.cast(tf.Variable(tf.truncated_normal([1, 1, 4*map1, reduce1x1], mean=0, stddev=0.1)),tf.float32)\n",
    "    # follows input image layer but reduced dimension before 5*5\n",
    "    b_conv2_1x1_3 = tf.cast(tf.Variable(tf.truncated_normal([reduce1x1], mean=0, stddev=0.1)),tf.float32)\n",
    "\n",
    "    # follows 1x1_2\n",
    "    W_conv2_3x3 = tf.cast(tf.Variable(tf.truncated_normal([3, 3, reduce1x1, map2], mean=0, stddev=0.1)),tf.float32)\n",
    "    # follows 1x1_2\n",
    "    b_conv2_3x3 = tf.cast(tf.Variable(tf.truncated_normal([map2], mean=0, stddev=0.1)),tf.float32)\n",
    "\n",
    "    # follows 1x1_3\n",
    "    W_conv2_5x5 = tf.cast(tf.Variable(tf.truncated_normal([5, 5, reduce1x1, map2], mean=0, stddev=0.1)),tf.float32)\n",
    "    # follows 1x1_3\n",
    "    b_conv2_5x5 = tf.cast(tf.Variable(tf.truncated_normal([map2], mean=0, stddev=0.1)),tf.float32)\n",
    "\n",
    "    # follows max pooling\n",
    "    W_conv2_1x1_4 = tf.cast(tf.Variable(tf.truncated_normal([1, 1,4*map1,map2], mean=0, stddev=0.1)),tf.float32)\n",
    "    # follows max pooling\n",
    "    b_conv2_1x1_4 = tf.cast(tf.Variable(tf.truncated_normal([map2], mean=0, stddev=0.1)),tf.float32)\n",
    "    \n",
    "    #Fully connected layers\n",
    "    # since padding is same, the feature map with there will be 4 32*32*map2\n",
    "    W_fc1 = tf.cast(tf.Variable(tf.truncated_normal([32 * 32 * (4 * map2), num_fc1], mean=0, stddev=0.1)),tf.float32)\n",
    "    b_fc1 = tf.cast(tf.Variable(tf.truncated_normal([num_fc1], mean=0, stddev=0.1)),tf.float32)\n",
    "\n",
    "    W_fc2 = tf.cast(tf.Variable(tf.truncated_normal([num_fc1, num_fc2], mean=0, stddev=0.1)),tf.float32)\n",
    "    b_fc2 = tf.cast(tf.Variable(tf.truncated_normal([num_fc2], mean=0, stddev=0.1)),tf.float32)\n",
    " \n",
    "    def conv_net(x,keep_prob):\n",
    "        #Inception Module 1\n",
    "        conv1_1x1_1 = conv2d_s1(x,W_conv1_1x1_1)+b_conv1_1x1_1\n",
    "        conv1_1x1_2 = tf.nn.relu(conv2d_s1(x,W_conv1_1x1_2)+b_conv1_1x1_2)\n",
    "        conv1_1x1_3 = tf.nn.relu(conv2d_s1(x,W_conv1_1x1_3)+b_conv1_1x1_3)\n",
    "        conv1_3x3 = conv2d_s1(conv1_1x1_2,W_conv1_3x3)+b_conv1_3x3\n",
    "        conv1_5x5 = conv2d_s1(conv1_1x1_3,W_conv1_5x5)+b_conv1_5x5\n",
    "        maxpool1 = max_pool_3x3_s1(x)\n",
    "        conv1_1x1_4 = conv2d_s1(maxpool1,W_conv1_1x1_4)+b_conv1_1x1_4\n",
    " \n",
    "        # concatenate kernel outputs and apply relu\n",
    "        inception1 = tf.nn.relu(tf.concat([conv1_1x1_1, conv1_3x3, conv1_5x5, conv1_1x1_4],3))\n",
    "        \n",
    "        #Inception Module 2\n",
    "        conv2_1x1_1 = conv2d_s1(inception1,W_conv2_1x1_1)+b_conv2_1x1_1\n",
    "        conv2_1x1_2 = tf.nn.relu(conv2d_s1(inception1,W_conv2_1x1_2)+b_conv2_1x1_2)\n",
    "        conv2_1x1_3 = tf.nn.relu(conv2d_s1(inception1,W_conv2_1x1_3)+b_conv2_1x1_3)\n",
    "        conv2_3x3 = conv2d_s1(conv2_1x1_2,W_conv2_3x3)+b_conv2_3x3\n",
    "        conv2_5x5 = conv2d_s1(conv2_1x1_3,W_conv2_5x5)+b_conv2_5x5\n",
    "        maxpool2 = max_pool_3x3_s1(inception1)\n",
    "        conv2_1x1_4 = conv2d_s1(maxpool2,W_conv2_1x1_4)+b_conv2_1x1_4\n",
    " \n",
    "        #concatenate all the feature maps and hit them with a relu\n",
    "        inception2 = tf.nn.relu(tf.concat([conv2_1x1_1,conv2_3x3,conv2_5x5,conv2_1x1_4],3))\n",
    "        \n",
    "        #flatten features for fully connected layer\n",
    "        inception2_flat = tf.contrib.layers.flatten(inception2)\n",
    " \n",
    "        #Fully connected layers\n",
    "        h_fc1 =tf.nn.dropout(tf.nn.relu(tf.matmul(inception2_flat,W_fc1)+b_fc1),keep_prob)\n",
    "        \n",
    "        logits=tf.matmul(h_fc1,W_fc2)+b_fc2\n",
    "        \n",
    "        return logits\n",
    "    \n",
    "    logits=conv_net(images_ph,keep_prob_ph)\n",
    "    predicted_labels=tf.argmax(logits, 1)\n",
    "    loss = tf.reduce_mean(tf.nn.sparse_softmax_cross_entropy_with_logits(logits=logits,labels=labels_ph))\n",
    "    # Loss function with L2 Regularization with beta=0.01\n",
    "    #regularizers =  tf.nn.l2_loss(W_conv1_1x1_1) + tf.nn.l2_loss(W_conv1_1x1_2)+tf.nn.l2_loss(W_conv1_1x1_3) + tf.nn.l2_loss(W_conv1_3x3)+tf.nn.l2_loss(W_conv1_5x5) + tf.nn.l2_loss(W_conv1_1x1_4)+tf.nn.l2_loss(W_conv2_1x1_1) + tf.nn.l2_loss(W_conv2_1x1_2)+tf.nn.l2_loss(W_conv2_1x1_3) + tf.nn.l2_loss(W_conv2_3x3)+tf.nn.l2_loss(W_conv2_5x5) + tf.nn.l2_loss(W_conv2_1x1_4)+tf.nn.l2_loss(W_fc1) + tf.nn.l2_loss(W_fc2)\n",
    "    #loss = tf.reduce_mean(loss + beta * regularizers)\n",
    "    \n",
    "    opt = tf.train.AdamOptimizer(1e-4).minimize(loss)\n",
    " \n",
    "    #predictions_val = tf.nn.softmax(model(tf_valX,train=False))\n",
    "    #predictions_test = tf.nn.softmax(model(tf_testX,train=False))\n",
    " \n",
    "    #initialize variable\n",
    "    init=tf.global_variables_initializer()\n",
    " \n",
    "    #use to save variables so we can pick up later\n",
    "    saver = tf.train.Saver(tf.trainable_variables())     "
   ]
  },
  {
   "cell_type": "code",
   "execution_count": 16,
   "metadata": {},
   "outputs": [],
   "source": [
    "num_steps = 200\n",
    "sess = tf.Session(graph=graph)  "
   ]
  },
  {
   "cell_type": "code",
   "execution_count": 17,
   "metadata": {},
   "outputs": [
    {
     "name": "stdout",
     "output_type": "stream",
     "text": [
      "Model initialized.\n"
     ]
    }
   ],
   "source": [
    "#initialize variables\n",
    "sess.run(init)\n",
    "print(\"Model initialized.\") "
   ]
  },
  {
   "cell_type": "code",
   "execution_count": 73,
   "metadata": {
    "scrolled": false
   },
   "outputs": [
    {
     "name": "stdout",
     "output_type": "stream",
     "text": [
      "Loss:  10.1831 [ 3  6  4  6  8  1  8  7  8  7  8  8  8  4 10 10  9  8  4 10  7  8  7  8  7\n",
      "  7  8  4  7  6  3  7  6  6  8  4  8  7  8  7  6 10  8  8  8  8  7  8  8  1]\n",
      "Loss:  1.91899 [8 0 0 1 0 4 1 0 2 8 1 5 8 0 0 3 3 5 4 0 1 1 1 0 2 3 2 0 4 0 9 9 2 3 8 4 6\n",
      " 6 8 8 9 2 9 4 2 9 4 3 8 8]\n",
      "Loss:  2.00631 [8 9 9 9 8 9 7 9 7 4 1 9 0 1 6 6 7 0 0 9 6 2 6 1 2 0 8 8 7 2 2 1 8 8 6 0 4\n",
      " 9 6 8 1 8 9 9 2 4 8 8 4 0]\n",
      "Loss:  1.78545 [2 1 2 0 1 2 1 4 0 6 4 1 1 0 2 1 6 8 8 4 8 9 2 1 7 9 9 2 8 8 1 6 9 0 1 6 6\n",
      " 2 2 1 3 2 3 0 1 2 9 0 8 9]\n",
      "Loss:  1.7956 [0 0 8 2 9 8 2 1 9 5 4 2 1 2 9 4 5 5 8 7 7 7 9 5 5 0 0 9 0 9 2 4 9 5 0 9 9\n",
      " 1 8 7 5 8 8 6 9 4 9 1 9 4]\n",
      "Loss:  1.60189 [ 3  4  8  6  8  9  8  8  8  2  5  1  2  1  6  2  9  7 10  0  8  9  7  1  4\n",
      "  8  5  8  0  0  4  3  8 10  8  2  9  8  1  4  6  0  3 10  8  4  4  9  4  0]\n",
      "Loss:  1.58964 [ 2  8  2  4  7  2  4 10  0  8  6  6  8  7  0  0  6  0  0  0  1  7  6  7  2\n",
      "  6  0  0  9  4  2  6  1  0  3  7  1  1  7  7  2  0  9  4  2  2  5  0  1  8]\n",
      "Loss:  1.31678 [ 7  6  2  5  7 10  0  9  3  9  5  0  8  4  6  7  9  9  0  0  6  9  6  6  5\n",
      "  9  8  3  8  0  3  5  9  4  6  6  7  1  8  8  8  8  6  8  5  0  1  9  7 10]\n",
      "Loss:  1.28193 [8 6 5 7 7 0 1 9 7 6 5 6 2 6 0 6 3 0 2 2 7 7 6 0 1 2 0 7 2 4 9 0 4 6 8 2 0\n",
      " 9 8 8 0 0 6 4 3 0 0 6 5 8]\n",
      "Loss:  1.3034 [ 3  6  6  2  9  8  4  9  4  3  8  6  2  6  7  8  6 10  6  6  3  5  2  6  8\n",
      "  6  6  9 10  1  2  3  1  8  8  1  7  6  0  2  1  2  9 10  7  1  2  8  9  4]\n",
      "Loss:  1.13182 [ 7  8  2  4  1  3  1  5  4  0  6 10  7  1  2  5  1  4  9  8  7  4  7  1  6\n",
      "  8  0  5  1  5 10  1  9  7  2  1  9  1  8  9  9  0  2  0  7  5  4  5  6  4]\n",
      "Loss:  0.857562 [ 3  3  5  9  0  2  9  3  5  8  9  1 10  6  0  4  5  2 10  7  2 10  7  2  6\n",
      "  6  1  9  2  0  6  3  9  2  4  2  5  7  7  9  2  8  4  2  3  0  1  0  6  5]\n",
      "Loss:  1.09475 [ 5  3  6  9  1  4  1  8  8  9  6  7  1  8 10  6  2  7  9  8  4 10  5  8  3\n",
      "  2  0  1  8  3  2  9  0  3  9  8  4  1 10  4  1  5  5  1 10  6  7  7  1  3]\n",
      "Loss:  0.625033 [ 6  6  9  9  6  3  7  9  2  8  7  4  6  6  0  7  2  7 10  8  7 10  2  9  4\n",
      "  7  5  9  4  2  9  8  9  4  1 10  6  7  3  6  1  8  0  4  2  7 10  4  6  1]\n",
      "Loss:  0.779502 [ 6  2 10  9  5  0 10 10  8  3  8  5  4 10  8  0  4  6  7  9  1  7  8  4  6\n",
      "  5  3  3  5  2  4  7  3  0  8  5  0  7  1  7  5  0  2 10  8  9  9  3  4  8]\n",
      "Loss:  0.729864 [ 1  3  8  0  0  4  9  5  5  3  3 10  2  6  3 10  6  8  5  9  7  0  6  5  1\n",
      "  2  7  3  6  8  5  2  1  6  0  2  7  0  7  8  7  1  0  8  3 10  2  7  5  1]\n"
     ]
    }
   ],
   "source": [
    "#training\n",
    "for s in range(1056):\n",
    "    offset = (s*batch_size) % (len(images_a)-batch_size)\n",
    "    batch_x,batch_y = images_a[offset:(offset+batch_size)],labels_a[offset:(offset+batch_size)]\n",
    "    feed_dict={images_ph : batch_x, labels_ph : batch_y,keep_prob_ph:dropout}\n",
    "    predicted_value,_,loss_value = sess.run([predicted_labels,opt,loss],feed_dict=feed_dict)\n",
    "    if s%66== 0:\n",
    "        print(\"Loss: \",loss_value,predicted_value)\n",
    "        #feed_dict = {tf_valX : valX}\n",
    "        #preds=sess.run(predictions_val,feed_dict=feed_dict)\n",
    " \n",
    "        #print \"step: \"+str(s)\n",
    "        #print \"validation accuracy: \"+str(accuracy(val_lb,preds))\n",
    "        #print \" \""
   ]
  },
  {
   "cell_type": "code",
   "execution_count": null,
   "metadata": {},
   "outputs": [],
   "source": [
    "save_path = saver.save(sess,file_path)\n",
    "print(\"Model saved.\")"
   ]
  },
  {
   "cell_type": "code",
   "execution_count": 18,
   "metadata": {},
   "outputs": [
    {
     "name": "stdout",
     "output_type": "stream",
     "text": [
      "INFO:tensorflow:Restoring parameters from /home/aquib/Downloads/CarND-Term1-Starter-Kit/GTSRB/model.ckpt\n",
      "Model restored.\n"
     ]
    }
   ],
   "source": [
    "#Restore previously trained model\n",
    "saver.restore(sess,file_path)\n",
    "print(\"Model restored.\")"
   ]
  },
  {
   "cell_type": "code",
   "execution_count": 24,
   "metadata": {
    "scrolled": true
   },
   "outputs": [
    {
     "name": "stdout",
     "output_type": "stream",
     "text": [
      "Calculate training accuracy\n",
      "Training Loss:  0.398565 \n",
      " [ 7  7  1  9  6  9  7  0 10  9 10 10  9  2  8  8  0  3  2  8  5  0  0  1 10\n",
      "  3  8  8  2  6  4  5  6  8  4  5 10  1  2  4  1  8  3  6  3  4 10  8  7  7] \n",
      " [ 7  7  1  9  6  9  7  0 10  9 10 10  9  2  7  7  0  3  2 10  5  0  0  4 10\n",
      "  3  8  8  2  6  4  5  6  7  4  5 10  1  2  4  1  8  3  6  3  4 10  8  7  7]\n",
      "Training Loss:  0.433467 \n",
      " [ 4  8  8  1  7  8  4 10  5  2  9  7  4  6  2  9  6  5  7  2  4  5  3  3  8\n",
      " 10  8  1  1  5  0  8  3 10  1  3  2  9  3  7  4  9 10  4 10  1  3  7  1  6] \n",
      " [ 4  8  7  1  7  7  9  8  5  2  9  7  4  6  2  9  6  5  7  2  4  5  3  3  8\n",
      " 10  7  1  1  5  0  8  3 10  1  3  2  9  3  7  4  9  7  2 10  1  3  7  1  6]\n",
      "Training Loss:  0.268232 \n",
      " [ 5  1  3  0  5  9  4 10  1 10  7  8 10  2  2 10  0  1  6  3  7  5  1  2 10\n",
      "  8  6  1  4  5  9 10  0  6  6  2  9  0  9  2  0 10  4  6  0  4  1  4  9  9] \n",
      " [ 5  4  3  0  5  9  4 10  1 10  7  8 10  2  2 10  0  1  6  3  7  5  1  2 10\n",
      "  8  6  1  4  5  9 10  0  6  6  7  9  0  9  2  0 10  4  6  0  4  1  4  9  9]\n",
      "Training Loss:  0.424871 \n",
      " [10  6  4  0  5  2  7  2  9 10  2  2 10 10  8  2  0  0 10 10  5  6  0  4  7\n",
      "  8  9  1  3  9  2  2  5  3  1  5  3  8  3  8  2  7  4  4  6  8  5  5  6  1] \n",
      " [10  6  4  0  5  7  7  2  9 10  2  2 10  5  8  2  0  0 10 10  5  6  0  4  7\n",
      "  8  9  1  3  9  2  7  5  2  1  5  3  8  3  7  2  7  4  4  6  7  5  5  6  1]\n",
      "Training Loss:  0.269835 \n",
      " [ 1  7  3  2 10  6  3  2  5  7  2  4  9  6  5  0  0  4 10 10  2  0  9  3  0\n",
      "  2  1  7  0  6  0  9  4  7 10  5  0 10  3  2  7  6  2  3  4  3  5 10  8 10] \n",
      " [ 1  7  3  2 10  6  3  2  5  7  2  4  9  6  5  0  0  4  4 10  2  0  9  3  0\n",
      "  2  1  7  0  6  0  9  4  7 10  5  0 10  3  2  7  6  2  3  4  3  5 10  8 10]\n",
      "Training Loss:  0.209811 \n",
      " [ 7  8  2 10  8  1  6  4  2  2  6  9  7  9  6  6  8  2  9  0  5  6  6  7  2\n",
      "  4  0  7  2  7  3 10  5  5  7  6  3  0  4  5  5  3  1  5  6  5  2  2  9  9] \n",
      " [ 7  8  2 10  6  1  6  4  2  2  6  9  7  9  6  6  8  2  9  0  5  6  6  7  2\n",
      "  4  0  7  2  7  3 10  5  5  7  6  3  0  4  5  5  3  1  5  6  5  2  2  9  9]\n",
      "Training Loss:  0.192251 \n",
      " [ 6  3  9  7  6  9  7  9  2  8  7  4 10  8  0  7  2  7 10  8  9  1  2  9  4\n",
      "  7  5  9  4  2  9  8  9  4  1 10  6  7  3  6  1  8  0  4  2  7 10  4  2  1] \n",
      " [ 6  3  9  7  6  9  7  9  2  8  7  4 10  8  0  7  2  7 10  8  9  1  2  9  4\n",
      "  7  5  9  4  2  9  8  9  4  1  7  6  7  3  6  1  8  0  4  2  7 10  4  2  1]\n",
      "Training Loss:  0.511968 \n",
      " [ 4  3 10  2  4  2 10 10  1  0  4  0  6  6  7  1  3  1  7  3  8  7  9  1  0\n",
      "  6  7  1  4  8  8  0  0  6  6 10  8  4  4  2  1  3  8  3 10  9  7  1  5  2] \n",
      " [ 4  2 10  2  4  4 10 10  1  0  4  0  6  6  7  1  3  1  7  3  8  7  9  1  0\n",
      "  6  7  1  4  8  8  0  0  6  6  7  8  4  8  2  1  0  7  3 10  9  7  1  5  2]\n",
      "Training Loss:  0.351707 \n",
      " [ 9  8 10  3  3  8  9  7  0  5  6  4  7  5  3  7  2  4  9  6  6  2  5  8  5\n",
      "  8  2  7  3  9  6  9  3  0 10  7 10  3  0  4  7  3  1  0  1  6  6  5  2  1] \n",
      " [ 9  8 10  3  1  8  9  7  0  5  6  4  7  5  3  7  2  4  9  6  6  2  5  8  5\n",
      "  7  2  7  8  9  6  9  3  0 10  7 10  3  0  9  7  3  1  0  2  6  6  5  2  1]\n",
      "Training Loss:  0.205425 \n",
      " [ 0  4  7  6  2  9  5  1  6  5 10  4  0  1  8  6  9  9  8  0  5  7  7  6  7\n",
      "  3  0  2  6  1 10  5  5  3  3  3  7  6  2  7  0  4  3  2  4  4  2  1  4 10] \n",
      " [ 0  4  7  6  2  9  5  1  6  5 10  4  0  1  8  6  9  9  7  0  5  7  7  6  7\n",
      "  3  0  2  6  1 10  5  5  3  3  3  7  6  2  7  0  4  3  2  4  4  2  1  4 10]\n",
      "Training Loss:  0.278833 \n",
      " [ 5  7  2  2  7  2  1  0  0  3  6  0  7  2  3  3  1 10  7  0  7  2  9 10  8\n",
      "  0  2  0 10  9  9  5  3  9  1  3  2  4  8  3  1  7  5  6  5  7  8  2  4 10] \n",
      " [ 5  7  2  2  7  2  1  0  0  3  6  0  7  2  3  3  1  7  7  0  7  2  9  7  7\n",
      "  0  2  0 10  9  9  5  3  9  1  3  2  4  8  3  1  7  5  6  5  7  8  2  4 10]\n",
      "Accuracy is 92.1969696969697 \n",
      "\n",
      "Class wise accuracy\n",
      "\n",
      "Class label 0 0.966666666667\n",
      "Class label 1 0.951666666667\n",
      "Class label 2 0.928333333333\n",
      "Class label 3 0.883333333333\n",
      "Class label 4 0.896666666667\n",
      "Class label 5 0.961666666667\n",
      "Class label 6 0.996666666667\n",
      "Class label 7 0.978333333333\n",
      "Class label 8 0.733333333333\n",
      "Class label 9 0.96\n",
      "Class label 10 0.885\n"
     ]
    }
   ],
   "source": [
    "#training accuracy\n",
    "count=0\n",
    "class_count=np.zeros(11)\n",
    "print(\"Calculate training accuracy\")\n",
    "for s in range(132):\n",
    "    offset = (s*batch_size) % (len(images_a)-batch_size)\n",
    "    batch_x,batch_y = images_a[offset:(offset+batch_size)],labels_a[offset:(offset+batch_size)]\n",
    "    feed_dict={images_ph : batch_x, labels_ph : batch_y,keep_prob_ph:dropout_train}\n",
    "    predicted_value,loss_value = sess.run([predicted_labels,loss],feed_dict=feed_dict)\n",
    "    for i in range(50):\n",
    "        if((batch_y[i])==(predicted_value[i])):\n",
    "            count+=1\n",
    "            if(predicted_value[i]==0):\n",
    "                class_count[0]=class_count[0]+1\n",
    "            elif(predicted_value[i]==1):\n",
    "                class_count[1]=class_count[1]+1\n",
    "            elif(predicted_value[i]==2):\n",
    "                class_count[2]=class_count[2]+1\n",
    "            elif(predicted_value[i]==3):\n",
    "                class_count[3]=class_count[3]+1\n",
    "            elif(predicted_value[i]==4):\n",
    "                class_count[4]=class_count[4]+1\n",
    "            elif(predicted_value[i]==5):\n",
    "                class_count[5]=class_count[5]+1\n",
    "            elif(predicted_value[i]==6):\n",
    "                class_count[6]=class_count[6]+1\n",
    "            elif(predicted_value[i]==7):\n",
    "                class_count[7]=class_count[7]+1\n",
    "            elif(predicted_value[i]==8):\n",
    "                class_count[8]=class_count[8]+1\n",
    "            elif(predicted_value[i]==9):\n",
    "                class_count[9]=class_count[9]+1\n",
    "            else:\n",
    "                class_count[10]=class_count[10]+1\n",
    "                \n",
    "                    \n",
    "    if s%12== 0:\n",
    "        print(\"Training Loss: \",loss_value,\"\\n\",batch_y,\"\\n\",predicted_value)\n",
    "        #feed_dict = {tf_valX : valX}\n",
    "        #preds=sess.run(predictions_val,feed_dict=feed_dict)\n",
    " \n",
    "        #print \"step: \"+str(s)\n",
    "        #print \"validation accuracy: \"+str(accuracy(val_lb,preds))\n",
    "        #print \" \"        \n",
    "        \n",
    "print(\"Accuracy is\",count*100/6600,\"\\n\")\n",
    "print(\"Class wise accuracy\\n\")\n",
    "for i in range(11):\n",
    "    print(\"Class label\",i,class_count[i]/600)"
   ]
  },
  {
   "cell_type": "code",
   "execution_count": 75,
   "metadata": {
    "scrolled": true
   },
   "outputs": [],
   "source": [
    "#Pick 50 random samples\n",
    "#sample_indexes= random.sample(range(len(images32)),50)\n",
    "#sample_images = [images32[i] for i in sample_indexes]\n",
    "#sample_labels = [labels[i] for i in sample_indexes]\n",
    "\n",
    "#Run the \"predicted_labels\" operation\n",
    "#predicted = sess.run([predicted_labels], feed_dict={images_ph:sample_images})[0]\n",
    "\n",
    "#print(sample_labels)\n",
    "#print(predicted)"
   ]
  },
  {
   "cell_type": "code",
   "execution_count": 25,
   "metadata": {},
   "outputs": [
    {
     "name": "stdout",
     "output_type": "stream",
     "text": [
      "Unique test Labels: 11\n",
      "Total test Images: 440\n"
     ]
    }
   ],
   "source": [
    "#Load testing images\n",
    "test_data_dir = os.path.join('Test_Train')\n",
    "\n",
    "images_test, labels_test = load_data(test_data_dir)\n",
    "#print the number of labels and number of images\n",
    "print(\"Unique test Labels: {0}\\nTotal test Images: {1}\".format(len(set(labels_test)), len(images_test)))"
   ]
  },
  {
   "cell_type": "code",
   "execution_count": 26,
   "metadata": {},
   "outputs": [],
   "source": [
    "class_img=images_test"
   ]
  },
  {
   "cell_type": "code",
   "execution_count": 29,
   "metadata": {},
   "outputs": [],
   "source": [
    "class_img[0]=images_test[0]\n",
    "class_img[1]=images_test[45]\n",
    "class_img[2]=images_test[80]\n",
    "class_img[3]=images_test[120]\n",
    "class_img[4]=images_test[160]\n",
    "class_img[5]=images_test[238]\n",
    "class_img[6]=images_test[240]\n",
    "class_img[7]=images_test[280]\n",
    "class_img[8]=images_test[330]\n",
    "class_img[9]=images_test[360]\n",
    "class_img[10]=images_test[400]\n"
   ]
  },
  {
   "cell_type": "code",
   "execution_count": 31,
   "metadata": {},
   "outputs": [
    {
     "data": {
      "text/plain": [
       "<matplotlib.image.AxesImage at 0x7f4a547097f0>"
      ]
     },
     "execution_count": 31,
     "metadata": {},
     "output_type": "execute_result"
    },
    {
     "data": {
      "image/png": "[encoded data removed]",
      "text/plain": [
       "<Figure size 432x288 with 1 Axes>"
      ]
     },
     "metadata": {
      "needs_background": "light"
     },
     "output_type": "display_data"
    }
   ],
   "source": [
    "plt.imshow(class_img[8])"
   ]
  },
  {
   "cell_type": "code",
   "execution_count": 32,
   "metadata": {},
   "outputs": [
    {
     "name": "stdout",
     "output_type": "stream",
     "text": [
      "shape: (43, 42, 3), min: 9, max: 81\n",
      "shape: (41, 36, 3), min: 7, max: 239\n",
      "shape: (44, 41, 3), min: 10, max: 75\n",
      "shape: (35, 36, 3), min: 6, max: 80\n",
      "shape: (39, 40, 3), min: 22, max: 255\n",
      "shape: (32, 32, 3), min: 0.04678883272058816, max: 0.3127010569852938\n",
      "shape: (32, 32, 3), min: 0.0547411151960781, max: 0.9312997855392157\n",
      "shape: (32, 32, 3), min: 0.05205652573529411, max: 0.29046032475490224\n",
      "shape: (32, 32, 3), min: 0.03399586397058821, max: 0.2759727328431372\n",
      "shape: (32, 32, 3), min: 0.11655177696078423, max: 0.99921875\n"
     ]
    }
   ],
   "source": [
    "#print the actual shape of first 5 images\n",
    "for image_test in images_test[:5]:\n",
    "    print(\"shape: {0}, min: {1}, max: {2}\".format(image_test.shape, image_test.min(), image_test.max()))\n",
    "    \n",
    "#resize the images to be 32*32 size\n",
    "images32_test = [skimage.transform.resize(image_test, (32, 32), mode='constant')\n",
    "                for image_test in images_test]\n",
    "\n",
    "#print the new shape of first 5 images\n",
    "for image_test in images32_test[:5]:\n",
    "    print(\"shape: {0}, min: {1}, max: {2}\".format(image_test.shape, image_test.min(), image_test.max()))"
   ]
  },
  {
   "cell_type": "code",
   "execution_count": 33,
   "metadata": {},
   "outputs": [
    {
     "name": "stdout",
     "output_type": "stream",
     "text": [
      "test labels:  (440,) \n",
      "test images:  (440, 32, 32, 3)\n"
     ]
    }
   ],
   "source": [
    "labels_a_test = np.array(labels_test)\n",
    "#labels_a = labels_a.astype(np.float32)\n",
    "images_a_test = np.array(images32_test)\n",
    "images_a_test = images_a_test.astype(np.float32)\n",
    "\n",
    "#shuffle the images and labels\n",
    "images_a_test, labels_a_test = shuffle(images_a_test, labels_a_test, random_state=0)\n",
    "print(\"test labels: \", labels_a_test.shape, \"\\ntest images: \", images_a_test.shape)"
   ]
  },
  {
   "cell_type": "code",
   "execution_count": 34,
   "metadata": {},
   "outputs": [
    {
     "name": "stdout",
     "output_type": "stream",
     "text": [
      "mean before normalization: 0.293974\n",
      "std before normalization: 0.240114\n",
      "mean after normalization: 1.984627032e-08\n",
      "std after normalization: 0.999999940326\n"
     ]
    }
   ],
   "source": [
    "print (\"mean before normalization:\", np.mean(images_a_test)) \n",
    "print (\"std before normalization:\", np.std(images_a_test))\n",
    "\n",
    "mean=[0,0,0]\n",
    "std=[0,0,0]\n",
    "newX_test = np.ones(images_a_test.shape)\n",
    "\n",
    "for i in range(3):\n",
    "    mean[i] = np.mean(images_a_test[:,:,:,i])\n",
    "    std[i] = np.std(images_a_test[:,:,:,i])\n",
    "    \n",
    "for i in range(3):\n",
    "    newX_test[:,:,:,i] = images_a_test[:,:,:,i] - mean[i]\n",
    "    newX_test[:,:,:,i] = newX_test[:,:,:,i] / std[i]\n",
    "      \n",
    "    \n",
    "images_a_test = newX_test\n",
    "\n",
    "print (\"mean after normalization:\", np.mean(images_a_test))\n",
    "print (\"std after normalization:\", np.std(images_a_test))"
   ]
  },
  {
   "cell_type": "code",
   "execution_count": 47,
   "metadata": {},
   "outputs": [
    {
     "name": "stdout",
     "output_type": "stream",
     "text": [
      "Calculate testing accuracy\n",
      "Testing Loss:  1.01775 \n",
      " [ 6  2  5  4  7 10  3  4  5  4] \n",
      " [6 2 5 3 7 5 3 9 5 4]\n",
      "Testing Loss:  1.38203 \n",
      " [3 1 3 8 3 0 8 6 9 8] \n",
      " [3 1 3 8 3 2 9 9 9 8]\n",
      "Testing Loss:  0.924393 \n",
      " [ 8  0  4  3  7  7  7 10  7  5] \n",
      " [ 8  0  4  3  7  7  7 10  3  5]\n",
      "Testing Loss:  0.679149 \n",
      " [8 4 4 4 7 1 9 4 1 1] \n",
      " [1 4 4 4 7 1 9 4 0 1]\n",
      "Testing Loss:  1.76479 \n",
      " [ 8  2  9  9 10  3  0  6 10  8] \n",
      " [ 8  0  9  7 10  3  0  6  5  8]\n",
      "Testing Loss:  1.80999 \n",
      " [0 9 6 1 9 5 8 1 7 2] \n",
      " [ 0  9  6  5  9 10  8  5  7  0]\n",
      "Testing Loss:  0.449873 \n",
      " [ 2  0  6 10  6  6  6  2  6  6] \n",
      " [ 2  0  9 10  6  6  6  4  6  6]\n",
      "Testing Loss:  3.0158 \n",
      " [ 4  3  6  5  4  2  5  2 10  5] \n",
      " [ 7  8  6  7  4  0  0  2 10  3]\n",
      "Testing Loss:  1.68914 \n",
      " [ 2  2  9  3  6  7  2  3  0 10] \n",
      " [ 2  2  7  3  6  3  5  3  0 10]\n",
      "Testing Loss:  2.38805 \n",
      " [6 8 3 9 1 8 8 5 8 2] \n",
      " [6 8 7 9 1 8 3 5 8 0]\n",
      "Testing Loss:  1.74214 \n",
      " [3 4 1 0 8 2 2 0 5 8] \n",
      " [3 4 0 4 1 9 2 5 3 7]\n",
      "Accuracy is 62.27272727272727\n",
      "Test Class wise accuracy\n",
      "\n",
      "Class label 0 67.5 %\n",
      "Class label 1 52.5 %\n",
      "Class label 2 50.0 %\n",
      "Class label 3 67.5 %\n",
      "Class label 4 52.5 %\n",
      "Class label 5 60.0 %\n",
      "Class label 6 82.5 %\n",
      "Class label 7 72.5 %\n",
      "Class label 8 52.5 %\n",
      "Class label 9 77.5 %\n",
      "Class label 10 50.0 %\n"
     ]
    }
   ],
   "source": [
    "#Testing accuracy\n",
    "count=0\n",
    "dropout_test=0\n",
    "class_test=np.zeros(11)\n",
    "print(\"Calculate testing accuracy\")\n",
    "for s in range(44):\n",
    "    offset = (s*10) % (len(images_a_test)-10)\n",
    "    batch_x,batch_y = images_a_test[offset:(offset+10)],labels_a_test[offset:(offset+10)]\n",
    "    feed_dict={images_ph : batch_x, labels_ph : batch_y,keep_prob_ph:1}\n",
    "    predicted_value,loss_value = sess.run([predicted_labels,loss],feed_dict=feed_dict)\n",
    "    for i in range(10):\n",
    "        if((batch_y[i])==(predicted_value[i])):\n",
    "            count+=1\n",
    "            if(predicted_value[i]==0):\n",
    "                class_test[0]=class_test[0]+1\n",
    "            elif(predicted_value[i]==1):\n",
    "                class_test[1]=class_test[1]+1\n",
    "            elif(predicted_value[i]==2):\n",
    "                class_test[2]=class_test[2]+1\n",
    "            elif(predicted_value[i]==3):\n",
    "                class_test[3]=class_test[3]+1\n",
    "            elif(predicted_value[i]==4):\n",
    "                class_test[4]=class_test[4]+1\n",
    "            elif(predicted_value[i]==5):\n",
    "                class_test[5]=class_test[5]+1\n",
    "            elif(predicted_value[i]==6):\n",
    "                class_test[6]=class_test[6]+1\n",
    "            elif(predicted_value[i]==7):\n",
    "                class_test[7]=class_test[7]+1\n",
    "            elif(predicted_value[i]==8):\n",
    "                class_test[8]=class_test[8]+1\n",
    "            elif(predicted_value[i]==9):\n",
    "                class_test[9]=class_test[9]+1\n",
    "            else:\n",
    "                class_test[10]=class_test[10]+1\n",
    "                \n",
    "    if s%4== 0:\n",
    "        print(\"Testing Loss: \",loss_value,\"\\n\",batch_y,\"\\n\",predicted_value)      \n",
    "    \n",
    "print(\"Accuracy is\",count*100/440)\n",
    "print(\"Test Class wise accuracy\\n\")\n",
    "for i in range(11):\n",
    "    print(\"Class label\",i,class_test[i]*100/40,\"%\")"
   ]
  },
  {
   "cell_type": "code",
   "execution_count": 241,
   "metadata": {},
   "outputs": [
    {
     "name": "stderr",
     "output_type": "stream",
     "text": [
      "Clipping input data to the valid range for imshow with RGB data ([0..1] for floats or [0..255] for integers).\n",
      "Clipping input data to the valid range for imshow with RGB data ([0..1] for floats or [0..255] for integers).\n",
      "Clipping input data to the valid range for imshow with RGB data ([0..1] for floats or [0..255] for integers).\n",
      "Clipping input data to the valid range for imshow with RGB data ([0..1] for floats or [0..255] for integers).\n",
      "Clipping input data to the valid range for imshow with RGB data ([0..1] for floats or [0..255] for integers).\n",
      "Clipping input data to the valid range for imshow with RGB data ([0..1] for floats or [0..255] for integers).\n",
      "Clipping input data to the valid range for imshow with RGB data ([0..1] for floats or [0..255] for integers).\n",
      "Clipping input data to the valid range for imshow with RGB data ([0..1] for floats or [0..255] for integers).\n",
      "Clipping input data to the valid range for imshow with RGB data ([0..1] for floats or [0..255] for integers).\n",
      "Clipping input data to the valid range for imshow with RGB data ([0..1] for floats or [0..255] for integers).\n"
     ]
    },
    {
     "data": {
      "image/png": "[encoded data removed]",
      "text/plain": [
       "<Figure size 720x720 with 10 Axes>"
      ]
     },
     "metadata": {
      "needs_background": "light"
     },
     "output_type": "display_data"
    }
   ],
   "source": [
    "# Display the predictions and the ground truth visually.\n",
    "fig = plt.figure(figsize=(10, 10))\n",
    "for i in range((10)):\n",
    "    truth = labels_a_test[i]\n",
    "    prediction = predicted_value[i]\n",
    "    plt.subplot(5, 2,1+i)\n",
    "    plt.axis('off')\n",
    "\n",
    "    plt.imshow(images_a_test[i])"
   ]
  },
  {
   "cell_type": "code",
   "execution_count": 43,
   "metadata": {
    "scrolled": true
   },
   "outputs": [
    {
     "name": "stderr",
     "output_type": "stream",
     "text": [
      "Clipping input data to the valid range for imshow with RGB data ([0..1] for floats or [0..255] for integers).\n"
     ]
    },
    {
     "data": {
      "text/plain": [
       "<matplotlib.image.AxesImage at 0x7f4a545853c8>"
      ]
     },
     "execution_count": 43,
     "metadata": {},
     "output_type": "execute_result"
    },
    {
     "data": {
      "image/png": "[encoded data removed]",
      "text/plain": [
       "<Figure size 432x288 with 1 Axes>"
      ]
     },
     "metadata": {
      "needs_background": "light"
     },
     "output_type": "display_data"
    }
   ],
   "source": [
    "plt.imshow(images_a_test[15])"
   ]
  }
 ],
 "metadata": {
  "kernelspec": {
   "display_name": "Python 3",
   "language": "python",
   "name": "python3"
  },
  "language_info": {
   "codemirror_mode": {
    "name": "ipython",
    "version": 3
   },
   "file_extension": ".py",
   "mimetype": "text/x-python",
   "name": "python",
   "nbconvert_exporter": "python",
   "pygments_lexer": "ipython3",
   "version": "3.5.2"
  },
  "widgets": {
   "state": {},
   "version": "1.1.2"
  }
 },
 "nbformat": 4,
 "nbformat_minor": 2
}
