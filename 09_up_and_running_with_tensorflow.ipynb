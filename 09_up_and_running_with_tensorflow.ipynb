{
  "nbformat": 4,
  "nbformat_minor": 0,
  "metadata": {
    "colab": {
      "name": "09_up_and_running_with_tensorflow.ipynb",
      "provenance": [],
      "collapsed_sections": []
    },
    "kernelspec": {
      "name": "python3",
      "display_name": "Python 3"
    },
    "accelerator": "TPU"
  },
  "cells": [
    {
      "cell_type": "code",
      "metadata": {
        "id": "UAWPabfFY1gx",
        "colab_type": "code",
        "colab": {}
      },
      "source": [
        "# to support both python 2 and python 3\n",
        "from __future__ import division, print_function, unicode_literals\n",
        "\n",
        "#common imports\n",
        "import numpy as np\n",
        "import os\n",
        "\n",
        "# to make this notebook stable across runs\n",
        "def reset_graph(seed=42):\n",
        "  tf.reset_default_graph()\n",
        "  tf.set_random_seed(seed)\n",
        "  np.random.seed(seed)\n",
        "\n",
        "%matplotlib inline\n",
        "import matplotlib\n",
        "import matplotlib.pyplot as plt\n",
        "plt.rcParams['axes.labelsize'] = 14\n",
        "plt.rcParams['xtick.labelsize'] = 12\n",
        "plt.rcParams['ytick.labelsize'] = 12\n",
        "\n",
        "# Where to save the figures\n",
        "PROJECT_ROOT_DIR = \"/tmp/09/\"\n",
        "CHAPTER_ID = \"tensorflow\"\n",
        "\n",
        "def save_fig(fig_id, tight_layout=True):\n",
        "    path = os.path.join(PROJECT_ROOT_DIR, \"images\", CHAPTER_ID, fig_id + \".png\")\n",
        "    print(\"Saving figure\", fig_id)\n",
        "    if tight_layout:\n",
        "        plt.tight_layout()\n",
        "    plt.savefig(path, format='png', dpi=300)\n"
      ],
      "execution_count": 0,
      "outputs": []
    },
    {
      "cell_type": "markdown",
      "metadata": {
        "id": "BUo4sKIGZp-D",
        "colab_type": "text"
      },
      "source": [
        "creating and running a graph"
      ]
    },
    {
      "cell_type": "code",
      "metadata": {
        "id": "xeEFiyO5Zsko",
        "colab_type": "code",
        "colab": {}
      },
      "source": [
        "import tensorflow as tf\n",
        "\n",
        "reset_graph()\n",
        "\n",
        "x = tf.Variable(3, name=\"x\")\n",
        "y = tf.Variable(4, name=\"y\")\n",
        "f = x*x*y + y + 2"
      ],
      "execution_count": 0,
      "outputs": []
    },
    {
      "cell_type": "code",
      "metadata": {
        "id": "xwwNuwQCZ--i",
        "colab_type": "code",
        "colab": {
          "base_uri": "https://localhost:8080/",
          "height": 35
        },
        "outputId": "e2847f74-fc7f-48f6-e0c5-f4a1e5f0e918"
      },
      "source": [
        "f"
      ],
      "execution_count": 65,
      "outputs": [
        {
          "output_type": "execute_result",
          "data": {
            "text/plain": [
              "<tf.Tensor 'add_1:0' shape=() dtype=int32>"
            ]
          },
          "metadata": {
            "tags": []
          },
          "execution_count": 65
        }
      ]
    },
    {
      "cell_type": "code",
      "metadata": {
        "id": "B8SZc1EPaCpM",
        "colab_type": "code",
        "colab": {
          "base_uri": "https://localhost:8080/",
          "height": 35
        },
        "outputId": "46221811-ae2d-42cf-b0df-fc3061dfb042"
      },
      "source": [
        "sess = tf.Session()\n",
        "sess.run(x.initializer)\n",
        "sess.run(y.initializer)\n",
        "result = sess.run(f)\n",
        "print(result)"
      ],
      "execution_count": 66,
      "outputs": [
        {
          "output_type": "stream",
          "text": [
            "42\n"
          ],
          "name": "stdout"
        }
      ]
    },
    {
      "cell_type": "code",
      "metadata": {
        "id": "nENqb72waSJn",
        "colab_type": "code",
        "colab": {}
      },
      "source": [
        "sess.close()"
      ],
      "execution_count": 0,
      "outputs": []
    },
    {
      "cell_type": "code",
      "metadata": {
        "id": "Qn4bT2SRaU2D",
        "colab_type": "code",
        "colab": {}
      },
      "source": [
        "with tf.Session() as sess:\n",
        "  x.initializer.run()\n",
        "  y.initializer.run()\n",
        "  result = f.eval()"
      ],
      "execution_count": 0,
      "outputs": []
    },
    {
      "cell_type": "code",
      "metadata": {
        "id": "4FULSxq4agib",
        "colab_type": "code",
        "colab": {
          "base_uri": "https://localhost:8080/",
          "height": 35
        },
        "outputId": "e6b022c7-4b0f-4747-d1d0-d0b670ffd628"
      },
      "source": [
        "result"
      ],
      "execution_count": 69,
      "outputs": [
        {
          "output_type": "execute_result",
          "data": {
            "text/plain": [
              "42"
            ]
          },
          "metadata": {
            "tags": []
          },
          "execution_count": 69
        }
      ]
    },
    {
      "cell_type": "code",
      "metadata": {
        "id": "xoEsDb0WaiL3",
        "colab_type": "code",
        "colab": {}
      },
      "source": [
        "init = tf.global_variables_initializer()\n",
        "\n",
        "with tf.Session() as sess:\n",
        "  init.run()\n",
        "  result = f.eval()"
      ],
      "execution_count": 0,
      "outputs": []
    },
    {
      "cell_type": "code",
      "metadata": {
        "id": "vkS4NT1pappb",
        "colab_type": "code",
        "colab": {
          "base_uri": "https://localhost:8080/",
          "height": 35
        },
        "outputId": "880b0cd5-66d5-49cb-b4f7-20069424b29f"
      },
      "source": [
        "result"
      ],
      "execution_count": 71,
      "outputs": [
        {
          "output_type": "execute_result",
          "data": {
            "text/plain": [
              "42"
            ]
          },
          "metadata": {
            "tags": []
          },
          "execution_count": 71
        }
      ]
    },
    {
      "cell_type": "code",
      "metadata": {
        "id": "g5eGV59Uart_",
        "colab_type": "code",
        "colab": {}
      },
      "source": [
        "init = tf.global_variables_initializer()"
      ],
      "execution_count": 0,
      "outputs": []
    },
    {
      "cell_type": "code",
      "metadata": {
        "id": "ghVvUMO1aufO",
        "colab_type": "code",
        "colab": {
          "base_uri": "https://localhost:8080/",
          "height": 35
        },
        "outputId": "4fe01097-22ec-4417-a8bb-67069a78bed3"
      },
      "source": [
        "sess = tf.InteractiveSession()\n",
        "init.run()\n",
        "result = f.eval()\n",
        "print(result)"
      ],
      "execution_count": 73,
      "outputs": [
        {
          "output_type": "stream",
          "text": [
            "42\n"
          ],
          "name": "stdout"
        }
      ]
    },
    {
      "cell_type": "code",
      "metadata": {
        "id": "tXy2MWKga042",
        "colab_type": "code",
        "colab": {}
      },
      "source": [
        "sess.close()"
      ],
      "execution_count": 0,
      "outputs": []
    },
    {
      "cell_type": "code",
      "metadata": {
        "id": "k2sisPNWa2ux",
        "colab_type": "code",
        "colab": {
          "base_uri": "https://localhost:8080/",
          "height": 35
        },
        "outputId": "72a21102-ee63-4f4a-f508-c9f47e86b5fd"
      },
      "source": [
        "result"
      ],
      "execution_count": 75,
      "outputs": [
        {
          "output_type": "execute_result",
          "data": {
            "text/plain": [
              "42"
            ]
          },
          "metadata": {
            "tags": []
          },
          "execution_count": 75
        }
      ]
    },
    {
      "cell_type": "markdown",
      "metadata": {
        "id": "lr4qu2iKa5S7",
        "colab_type": "text"
      },
      "source": [
        "Managing graphs"
      ]
    },
    {
      "cell_type": "code",
      "metadata": {
        "id": "OocTzXDia7WZ",
        "colab_type": "code",
        "colab": {
          "base_uri": "https://localhost:8080/",
          "height": 35
        },
        "outputId": "74ff9ba7-f9e7-481a-d3a4-b1f5a3822c3a"
      },
      "source": [
        "reset_graph()\n",
        "\n",
        "x1 = tf.Variable(1)\n",
        "x1.graph is tf.get_default_graph()"
      ],
      "execution_count": 76,
      "outputs": [
        {
          "output_type": "execute_result",
          "data": {
            "text/plain": [
              "True"
            ]
          },
          "metadata": {
            "tags": []
          },
          "execution_count": 76
        }
      ]
    },
    {
      "cell_type": "code",
      "metadata": {
        "id": "GjdSHgyvbDBp",
        "colab_type": "code",
        "colab": {
          "base_uri": "https://localhost:8080/",
          "height": 35
        },
        "outputId": "1bb587b3-8dad-4a5b-c71f-a67c4119539c"
      },
      "source": [
        "graph = tf.Graph()\n",
        "with graph.as_default():\n",
        "  x2 = tf.Variable(2)\n",
        "\n",
        "x2.graph is graph"
      ],
      "execution_count": 77,
      "outputs": [
        {
          "output_type": "execute_result",
          "data": {
            "text/plain": [
              "True"
            ]
          },
          "metadata": {
            "tags": []
          },
          "execution_count": 77
        }
      ]
    },
    {
      "cell_type": "code",
      "metadata": {
        "id": "zh1qx18SbMZs",
        "colab_type": "code",
        "colab": {
          "base_uri": "https://localhost:8080/",
          "height": 35
        },
        "outputId": "03d36362-0a56-4e33-ad91-72222c12d24c"
      },
      "source": [
        "x2.graph is tf.get_default_graph()"
      ],
      "execution_count": 78,
      "outputs": [
        {
          "output_type": "execute_result",
          "data": {
            "text/plain": [
              "False"
            ]
          },
          "metadata": {
            "tags": []
          },
          "execution_count": 78
        }
      ]
    },
    {
      "cell_type": "code",
      "metadata": {
        "id": "ehc5_kDxbPbv",
        "colab_type": "code",
        "colab": {
          "base_uri": "https://localhost:8080/",
          "height": 54
        },
        "outputId": "df1b092b-f61e-4830-9418-984e1bf7a2b1"
      },
      "source": [
        "w = tf.constant(3)\n",
        "x = w + 2\n",
        "y = x + 5\n",
        "z = x * 3\n",
        "\n",
        "with tf.Session() as sess:\n",
        "  print(y.eval())\n",
        "  print(z.eval())"
      ],
      "execution_count": 79,
      "outputs": [
        {
          "output_type": "stream",
          "text": [
            "10\n",
            "15\n"
          ],
          "name": "stdout"
        }
      ]
    },
    {
      "cell_type": "code",
      "metadata": {
        "id": "LoKbCNthbcRk",
        "colab_type": "code",
        "colab": {
          "base_uri": "https://localhost:8080/",
          "height": 54
        },
        "outputId": "da1e399a-23bd-4324-d79a-77130051d9ef"
      },
      "source": [
        "with tf.Session() as sess:\n",
        "  y_val, z_val = sess.run([y, z])\n",
        "  print(y_val)\n",
        "  print(z_val)"
      ],
      "execution_count": 80,
      "outputs": [
        {
          "output_type": "stream",
          "text": [
            "10\n",
            "15\n"
          ],
          "name": "stdout"
        }
      ]
    },
    {
      "cell_type": "markdown",
      "metadata": {
        "id": "IZwuXg-XbmiV",
        "colab_type": "text"
      },
      "source": [
        "Linear Regression"
      ]
    },
    {
      "cell_type": "markdown",
      "metadata": {
        "id": "3_jLHqoObpDM",
        "colab_type": "text"
      },
      "source": [
        "Using Normal Equation"
      ]
    },
    {
      "cell_type": "code",
      "metadata": {
        "id": "g7PcbvRSbn69",
        "colab_type": "code",
        "colab": {}
      },
      "source": [
        "import numpy as np\n",
        "from sklearn.datasets import fetch_california_housing\n",
        "\n",
        "reset_graph()\n",
        "\n",
        "housing = fetch_california_housing()\n",
        "m,n = housing.data.shape\n",
        "\n",
        "housing_data_plus_bias = np.c_[np.ones((m, 1)), housing.data]\n",
        "\n",
        "X = tf.constant(housing_data_plus_bias, dtype = tf.float32, name = \"X\")\n",
        "y = tf.constant(housing.target.reshape(-1, 1), dtype = tf.float32, name = \"y\")\n",
        "XT = tf.transpose(X)\n",
        "theta = tf.matmul(tf.matmul(tf.matrix_inverse(tf.matmul(XT, X)), XT), y)\n",
        "\n",
        "with tf.Session() as sess:\n",
        "  theta_value = theta.eval()\n"
      ],
      "execution_count": 0,
      "outputs": []
    },
    {
      "cell_type": "code",
      "metadata": {
        "id": "Gkr6gwXRcv14",
        "colab_type": "code",
        "colab": {
          "base_uri": "https://localhost:8080/",
          "height": 182
        },
        "outputId": "bd7b2417-bc10-4d2a-da52-a778426038c7"
      },
      "source": [
        "theta_value"
      ],
      "execution_count": 82,
      "outputs": [
        {
          "output_type": "execute_result",
          "data": {
            "text/plain": [
              "array([[-3.67372932e+01],\n",
              "       [ 4.37366009e-01],\n",
              "       [ 9.47520509e-03],\n",
              "       [-1.08159676e-01],\n",
              "       [ 6.48537397e-01],\n",
              "       [-3.84734449e-06],\n",
              "       [-3.79239232e-03],\n",
              "       [-4.19136107e-01],\n",
              "       [-4.32144403e-01]], dtype=float32)"
            ]
          },
          "metadata": {
            "tags": []
          },
          "execution_count": 82
        }
      ]
    },
    {
      "cell_type": "markdown",
      "metadata": {
        "id": "pwWXtn81c3yN",
        "colab_type": "text"
      },
      "source": [
        "Compare with pure NumPy\n",
        "\n"
      ]
    },
    {
      "cell_type": "code",
      "metadata": {
        "id": "uQFxDv2_c4Vj",
        "colab_type": "code",
        "colab": {
          "base_uri": "https://localhost:8080/",
          "height": 182
        },
        "outputId": "1b9e5a12-e76d-4862-f154-a319efd3e9f3"
      },
      "source": [
        "X = housing_data_plus_bias\n",
        "y = housing.target.reshape(-1, 1)\n",
        "theta_numpy = np.linalg.inv(X.T.dot(X)).dot(X.T).dot(y)\n",
        "print(theta_numpy)"
      ],
      "execution_count": 83,
      "outputs": [
        {
          "output_type": "stream",
          "text": [
            "[[-3.69419202e+01]\n",
            " [ 4.36693293e-01]\n",
            " [ 9.43577803e-03]\n",
            " [-1.07322041e-01]\n",
            " [ 6.45065694e-01]\n",
            " [-3.97638942e-06]\n",
            " [-3.78654265e-03]\n",
            " [-4.21314378e-01]\n",
            " [-4.34513755e-01]]\n"
          ],
          "name": "stdout"
        }
      ]
    },
    {
      "cell_type": "markdown",
      "metadata": {
        "id": "0iGnbmUudN_o",
        "colab_type": "text"
      },
      "source": [
        "Compare with Scikit-Learn"
      ]
    },
    {
      "cell_type": "code",
      "metadata": {
        "id": "DtDkvR2MdOfQ",
        "colab_type": "code",
        "colab": {
          "base_uri": "https://localhost:8080/",
          "height": 182
        },
        "outputId": "6080605f-c808-4438-ad90-c1592cda471f"
      },
      "source": [
        "from sklearn.linear_model import LinearRegression\n",
        "lin_reg = LinearRegression()\n",
        "lin_reg.fit(housing.data, housing.target.reshape(-1, 1))\n",
        "\n",
        "print(np.r_[lin_reg.intercept_.reshape(-1, 1), lin_reg.coef_.T])"
      ],
      "execution_count": 84,
      "outputs": [
        {
          "output_type": "stream",
          "text": [
            "[[-3.69419202e+01]\n",
            " [ 4.36693293e-01]\n",
            " [ 9.43577803e-03]\n",
            " [-1.07322041e-01]\n",
            " [ 6.45065694e-01]\n",
            " [-3.97638942e-06]\n",
            " [-3.78654265e-03]\n",
            " [-4.21314378e-01]\n",
            " [-4.34513755e-01]]\n"
          ],
          "name": "stdout"
        }
      ]
    },
    {
      "cell_type": "markdown",
      "metadata": {
        "id": "gJSctMTwdk3p",
        "colab_type": "text"
      },
      "source": [
        "Using Batch Gradient Descent"
      ]
    },
    {
      "cell_type": "markdown",
      "metadata": {
        "id": "tcmV5P0hdlXW",
        "colab_type": "text"
      },
      "source": [
        "Gradient Descent requires scaling the feature vectors first. We could do this using TF, but let's just use Scikit-Learn for now."
      ]
    },
    {
      "cell_type": "code",
      "metadata": {
        "id": "Q_LIInD1dnyz",
        "colab_type": "code",
        "colab": {}
      },
      "source": [
        "from sklearn.preprocessing import StandardScaler\n",
        "scaler = StandardScaler()\n",
        "scaled_housing_data = scaler.fit_transform(housing.data)\n",
        "scaled_housing_data_plus_bias = np.c_[np.ones((m, 1)), scaled_housing_data]"
      ],
      "execution_count": 0,
      "outputs": []
    },
    {
      "cell_type": "code",
      "metadata": {
        "id": "6zowIZF6eXUs",
        "colab_type": "code",
        "colab": {
          "base_uri": "https://localhost:8080/",
          "height": 145
        },
        "outputId": "fdbee2e8-fb59-4aba-9159-08f6e71a0491"
      },
      "source": [
        "print(scaled_housing_data_plus_bias.mean(axis=0))\n",
        "print(scaled_housing_data_plus_bias.mean(axis=1))\n",
        "print(scaled_housing_data_plus_bias.mean())\n",
        "print(scaled_housing_data_plus_bias.shape)"
      ],
      "execution_count": 86,
      "outputs": [
        {
          "output_type": "stream",
          "text": [
            "[ 1.00000000e+00  6.60969987e-17  5.50808322e-18  6.60969987e-17\n",
            " -1.06030602e-16 -1.10161664e-17  3.44255201e-18 -1.07958431e-15\n",
            " -8.52651283e-15]\n",
            "[ 0.38915536  0.36424355  0.5116157  ... -0.06612179 -0.06360587\n",
            "  0.01359031]\n",
            "0.11111111111111005\n",
            "(20640, 9)\n"
          ],
          "name": "stdout"
        }
      ]
    },
    {
      "cell_type": "markdown",
      "metadata": {
        "id": "XtCRsjN_elft",
        "colab_type": "text"
      },
      "source": [
        "Manually computing the gradients"
      ]
    },
    {
      "cell_type": "code",
      "metadata": {
        "id": "5rf0WOfPel66",
        "colab_type": "code",
        "colab": {
          "base_uri": "https://localhost:8080/",
          "height": 383
        },
        "outputId": "3940038c-5b8a-4ce0-8415-e267fde6e9f2"
      },
      "source": [
        "reset_graph()\n",
        "\n",
        "n_epochs = 1000\n",
        "learning_rate = 0.01\n",
        "\n",
        "X = tf.constant(scaled_housing_data_plus_bias, dtype = tf.float32, name=\"X\")\n",
        "y = tf.constant(housing.target.reshape(-1, 1), dtype=tf.float32, name=\"y\")\n",
        "theta = tf.Variable(tf.random_uniform([n+1,1], -1.0, 1.0, seed=42), name=\"theta\")\n",
        "y_pred = tf.matmul(X, theta, name=\"predictions\")\n",
        "error = y_pred - y\n",
        "mse = tf.reduce_mean(tf.square(error), name =\"mse\")\n",
        "gradients = 2/m * tf.matmul(tf.transpose(X), error)\n",
        "training_op = tf.assign(theta, theta-learning_rate*gradients)\n",
        "\n",
        "init = tf.global_variables_initializer()\n",
        "\n",
        "with tf.Session() as sess:\n",
        "  sess.run(init)\n",
        "\n",
        "  for epoch in range(n_epochs):\n",
        "    if epoch%100 == 0:\n",
        "      print(\"Epoch\", epoch, \"MSE = \", mse.eval())\n",
        "    sess.run(training_op)\n",
        "  \n",
        "  best_theta = theta.eval()\n",
        "\n",
        "print(\"Best theta:\")\n",
        "print(best_theta)"
      ],
      "execution_count": 87,
      "outputs": [
        {
          "output_type": "stream",
          "text": [
            "Epoch 0 MSE =  9.161542\n",
            "Epoch 100 MSE =  0.71450055\n",
            "Epoch 200 MSE =  0.56670487\n",
            "Epoch 300 MSE =  0.55557173\n",
            "Epoch 400 MSE =  0.5488112\n",
            "Epoch 500 MSE =  0.5436363\n",
            "Epoch 600 MSE =  0.53962904\n",
            "Epoch 700 MSE =  0.5365092\n",
            "Epoch 800 MSE =  0.5340677\n",
            "Epoch 900 MSE =  0.5321473\n",
            "Best theta:\n",
            "[[ 2.0685523 ]\n",
            " [ 0.8874027 ]\n",
            " [ 0.14401656]\n",
            " [-0.3477088 ]\n",
            " [ 0.36178362]\n",
            " [ 0.00393811]\n",
            " [-0.04269556]\n",
            " [-0.66145283]\n",
            " [-0.6375278 ]]\n"
          ],
          "name": "stdout"
        }
      ]
    },
    {
      "cell_type": "markdown",
      "metadata": {
        "id": "9Yk-PFM0guUK",
        "colab_type": "text"
      },
      "source": [
        "How could you find the partial derivatives of the following function with regards to a and b?"
      ]
    },
    {
      "cell_type": "code",
      "metadata": {
        "id": "TYccLDAfguz3",
        "colab_type": "code",
        "colab": {}
      },
      "source": [
        "def my_func(a,b):\n",
        "  z = 0\n",
        "  for i in range(100):\n",
        "    z = a * np.cos(z + i) + z * np.sin(b-i)\n",
        "  return z"
      ],
      "execution_count": 0,
      "outputs": []
    },
    {
      "cell_type": "code",
      "metadata": {
        "id": "l8W9w3umg-mz",
        "colab_type": "code",
        "colab": {
          "base_uri": "https://localhost:8080/",
          "height": 35
        },
        "outputId": "c438102b-9398-4fb2-be30-b61ccb4823ac"
      },
      "source": [
        "my_func(0.2, 0.3)"
      ],
      "execution_count": 89,
      "outputs": [
        {
          "output_type": "execute_result",
          "data": {
            "text/plain": [
              "-0.21253923284754914"
            ]
          },
          "metadata": {
            "tags": []
          },
          "execution_count": 89
        }
      ]
    },
    {
      "cell_type": "code",
      "metadata": {
        "id": "I1z68aL2hCBK",
        "colab_type": "code",
        "colab": {}
      },
      "source": [
        "reset_graph()\n",
        "\n",
        "a = tf.Variable(0.2, name =\"a\")\n",
        "b = tf.Variable(0.3, name=\"b\")\n",
        "z = tf.constant(0.0, name=\"z0\")\n",
        "for i in range(100):\n",
        "  z = a* tf.cos(z+i)+ z*tf.sin(b-i)\n",
        "\n",
        "grads = tf.gradients(z, [a,b])\n",
        "init = tf.global_variables_initializer()"
      ],
      "execution_count": 0,
      "outputs": []
    },
    {
      "cell_type": "markdown",
      "metadata": {
        "id": "U92q_XJxka6Q",
        "colab_type": "text"
      },
      "source": [
        "Let's compute the function at a=0.2 and b=0.3, and the partial derivatives at that point with regards to  and with regards to :"
      ]
    },
    {
      "cell_type": "code",
      "metadata": {
        "id": "3o1s0ivTkhOH",
        "colab_type": "code",
        "colab": {
          "base_uri": "https://localhost:8080/",
          "height": 54
        },
        "outputId": "1df16fa4-eed6-459b-d83c-79329fc60469"
      },
      "source": [
        "with tf.Session() as sess:\n",
        "  init.run()\n",
        "  print(z.eval())\n",
        "  print(sess.run(grads))"
      ],
      "execution_count": 91,
      "outputs": [
        {
          "output_type": "stream",
          "text": [
            "-0.21253741\n",
            "[-1.1388495, 0.19671395]\n"
          ],
          "name": "stdout"
        }
      ]
    },
    {
      "cell_type": "markdown",
      "metadata": {
        "id": "x7a2hE1wkrGe",
        "colab_type": "text"
      },
      "source": [
        "Using a GradientDescentOptimizer"
      ]
    },
    {
      "cell_type": "code",
      "metadata": {
        "id": "4ojzhImgkp3s",
        "colab_type": "code",
        "colab": {}
      },
      "source": [
        "reset_graph()\n",
        "\n",
        "n_epochs = 1000\n",
        "learning_rate = 0.01\n",
        "\n",
        "X = tf.constant(scaled_housing_data_plus_bias, dtype = tf.float32, name=\"X\")\n",
        "y = tf.constant(housing.target.reshape(-1, 1), dtype=tf.float32, name=\"y\")\n",
        "theta = tf.Variable(tf.random_uniform([n+1,1], -1.0, 1.0, seed=42), name=\"theta\")\n",
        "y_pred = tf.matmul(X, theta, name=\"predictions\")\n",
        "error = y_pred - y\n",
        "mse = tf.reduce_mean(tf.square(error), name=\"mse\")"
      ],
      "execution_count": 0,
      "outputs": []
    },
    {
      "cell_type": "code",
      "metadata": {
        "id": "wd8VFu00ld5m",
        "colab_type": "code",
        "colab": {}
      },
      "source": [
        "optimizer = tf.train.GradientDescentOptimizer(learning_rate = learning_rate)\n",
        "training_op = optimizer.minimize(mse)"
      ],
      "execution_count": 0,
      "outputs": []
    },
    {
      "cell_type": "code",
      "metadata": {
        "id": "Vwlx9sL8lmk9",
        "colab_type": "code",
        "colab": {
          "base_uri": "https://localhost:8080/",
          "height": 383
        },
        "outputId": "88913ce0-e1c4-4d7e-f6db-92ea49b33aac"
      },
      "source": [
        "init = tf.global_variables_initializer()\n",
        "\n",
        "with tf.Session() as sess:\n",
        "  sess.run(init)\n",
        "\n",
        "  for epoch in range(n_epochs):\n",
        "    if epoch % 100 == 0:\n",
        "      print(\"Epoch\", epoch, \"MSE =\", mse.eval())\n",
        "    sess.run(training_op)\n",
        "\n",
        "  best_theta = theta.eval()\n",
        "\n",
        "print(\"Best theta:\")\n",
        "print(best_theta)\n"
      ],
      "execution_count": 94,
      "outputs": [
        {
          "output_type": "stream",
          "text": [
            "Epoch 0 MSE = 9.161542\n",
            "Epoch 100 MSE = 0.71450055\n",
            "Epoch 200 MSE = 0.56670487\n",
            "Epoch 300 MSE = 0.55557173\n",
            "Epoch 400 MSE = 0.5488112\n",
            "Epoch 500 MSE = 0.5436363\n",
            "Epoch 600 MSE = 0.53962904\n",
            "Epoch 700 MSE = 0.5365092\n",
            "Epoch 800 MSE = 0.5340677\n",
            "Epoch 900 MSE = 0.5321473\n",
            "Best theta:\n",
            "[[ 2.0685523 ]\n",
            " [ 0.88740265]\n",
            " [ 0.14401655]\n",
            " [-0.34770873]\n",
            " [ 0.3617836 ]\n",
            " [ 0.00393811]\n",
            " [-0.04269556]\n",
            " [-0.6614529 ]\n",
            " [-0.6375279 ]]\n"
          ],
          "name": "stdout"
        }
      ]
    },
    {
      "cell_type": "markdown",
      "metadata": {
        "id": "2AuIFKdfmKwr",
        "colab_type": "text"
      },
      "source": [
        "Using a momentum optimizer"
      ]
    },
    {
      "cell_type": "code",
      "metadata": {
        "id": "pgHylvoWmLv6",
        "colab_type": "code",
        "colab": {}
      },
      "source": [
        "reset_graph()\n",
        "\n",
        "n_epochs = 1000\n",
        "learning_rate = 0.01\n",
        "\n",
        "X = tf.constant(scaled_housing_data_plus_bias, dtype =tf.float32, name=\"X\")\n",
        "y = tf.constant(housing.target.reshape(-1, 1), dtype = tf.float32, name=\"y\")\n",
        "theta = tf.Variable(tf.random_uniform([n+1,1], -1.0, 1.0, seed=42), name=\"theta\")\n",
        "y_pred = tf.matmul(X, theta, name=\"predictions\")\n",
        "error = y_pred - y\n",
        "mse = tf.reduce_mean(tf.square(error), name=\"mse\")"
      ],
      "execution_count": 0,
      "outputs": []
    },
    {
      "cell_type": "code",
      "metadata": {
        "id": "fblPJaE4m4I5",
        "colab_type": "code",
        "colab": {}
      },
      "source": [
        "optimizer = tf.train.MomentumOptimizer(learning_rate=learning_rate, momentum=0.9)"
      ],
      "execution_count": 0,
      "outputs": []
    },
    {
      "cell_type": "code",
      "metadata": {
        "id": "lrCdbVjhnAdM",
        "colab_type": "code",
        "colab": {}
      },
      "source": [
        "training_op = optimizer.minimize(mse)\n",
        "\n",
        "init = tf.global_variables_initializer()"
      ],
      "execution_count": 0,
      "outputs": []
    },
    {
      "cell_type": "code",
      "metadata": {
        "id": "EDE10327nJMp",
        "colab_type": "code",
        "colab": {
          "base_uri": "https://localhost:8080/",
          "height": 200
        },
        "outputId": "e616b3ee-2d44-4d88-c1d1-255a32f76860"
      },
      "source": [
        "with tf.Session() as sess:\n",
        "  sess.run(init)\n",
        "\n",
        "  for epoch in range(n_epochs):\n",
        "    sess.run(training_op)\n",
        "  \n",
        "  best_theta = theta.eval()\n",
        "\n",
        "print(\"Best theta:\")\n",
        "print(best_theta)"
      ],
      "execution_count": 98,
      "outputs": [
        {
          "output_type": "stream",
          "text": [
            "Best theta:\n",
            "[[ 2.068558  ]\n",
            " [ 0.8296286 ]\n",
            " [ 0.11875336]\n",
            " [-0.26554462]\n",
            " [ 0.305711  ]\n",
            " [-0.00450251]\n",
            " [-0.03932662]\n",
            " [-0.8998644 ]\n",
            " [-0.87052065]]\n"
          ],
          "name": "stdout"
        }
      ]
    },
    {
      "cell_type": "markdown",
      "metadata": {
        "id": "AY1yfjPenbhV",
        "colab_type": "text"
      },
      "source": [
        "Feeding data to the training algorithm"
      ]
    },
    {
      "cell_type": "markdown",
      "metadata": {
        "id": "jJPKnXpzncpe",
        "colab_type": "text"
      },
      "source": [
        "Placeholder nodes"
      ]
    },
    {
      "cell_type": "code",
      "metadata": {
        "id": "b-AEme8wneM3",
        "colab_type": "code",
        "colab": {
          "base_uri": "https://localhost:8080/",
          "height": 35
        },
        "outputId": "b87564cd-72f9-4bab-d2e9-dc277c675b73"
      },
      "source": [
        "reset_graph()\n",
        "\n",
        "A = tf.placeholder(tf.float32, shape=(None, 3))\n",
        "B = A+5\n",
        "with tf.Session() as sess:\n",
        "  B_val_1 = B.eval(feed_dict={A: [[1,2,3]]})\n",
        "  B_val_2 = B.eval(feed_dict={A: [[4,5,6], [7,8,9]]})\n",
        "\n",
        "print(B_val_1)"
      ],
      "execution_count": 99,
      "outputs": [
        {
          "output_type": "stream",
          "text": [
            "[[6. 7. 8.]]\n"
          ],
          "name": "stdout"
        }
      ]
    },
    {
      "cell_type": "code",
      "metadata": {
        "id": "Bb1cp7Qmn7mD",
        "colab_type": "code",
        "colab": {
          "base_uri": "https://localhost:8080/",
          "height": 54
        },
        "outputId": "9d14c35b-7e89-42db-91da-a94e534548a3"
      },
      "source": [
        "print(B_val_2)"
      ],
      "execution_count": 100,
      "outputs": [
        {
          "output_type": "stream",
          "text": [
            "[[ 9. 10. 11.]\n",
            " [12. 13. 14.]]\n"
          ],
          "name": "stdout"
        }
      ]
    },
    {
      "cell_type": "markdown",
      "metadata": {
        "id": "4xCcQky6n-p_",
        "colab_type": "text"
      },
      "source": [
        "Mini-batch Gradient Descent"
      ]
    },
    {
      "cell_type": "code",
      "metadata": {
        "id": "tLNylPvtn_Nd",
        "colab_type": "code",
        "colab": {}
      },
      "source": [
        "n_epochs = 1000\n",
        "learning_rate = 0.01"
      ],
      "execution_count": 0,
      "outputs": []
    },
    {
      "cell_type": "code",
      "metadata": {
        "id": "6Knnz_bAoDMU",
        "colab_type": "code",
        "colab": {}
      },
      "source": [
        "reset_graph()\n",
        "\n",
        "X = tf.placeholder(tf.float32, shape=(None, n+1), name=\"X\")\n",
        "y = tf.placeholder(tf.float32, shape=(None, 1), name=\"y\")"
      ],
      "execution_count": 0,
      "outputs": []
    },
    {
      "cell_type": "code",
      "metadata": {
        "id": "xUFFWTWaoTlT",
        "colab_type": "code",
        "colab": {}
      },
      "source": [
        "theta = tf.Variable(tf.random_uniform([n+1, 1], -1.0, 1.0, seed=42), name=\"theta\")\n",
        "y_pred = tf.matmul(X, theta, name=\"predictions\")\n",
        "error = y_pred-y\n",
        "mse = tf.reduce_mean(tf.square(error), name=\"mse\")\n",
        "optimizer = tf.train.GradientDescentOptimizer(learning_rate = learning_rate)\n",
        "training_op = optimizer.minimize(mse)\n",
        "\n",
        "init = tf.global_variables_initializer()"
      ],
      "execution_count": 0,
      "outputs": []
    },
    {
      "cell_type": "code",
      "metadata": {
        "id": "-P1P1JZUozPU",
        "colab_type": "code",
        "colab": {}
      },
      "source": [
        "n_epochs = 10"
      ],
      "execution_count": 0,
      "outputs": []
    },
    {
      "cell_type": "code",
      "metadata": {
        "id": "_2EYdMK-ptXH",
        "colab_type": "code",
        "colab": {}
      },
      "source": [
        "batch_size = 100\n",
        "n_batches = int(np.ceil(m / batch_size))"
      ],
      "execution_count": 0,
      "outputs": []
    },
    {
      "cell_type": "code",
      "metadata": {
        "id": "k8mBo8bDo1Yw",
        "colab_type": "code",
        "colab": {}
      },
      "source": [
        "def fetch_batch(epoch, batch_index, batch_size):\n",
        "  np.random.seed(epoch * n_batches + batch_index)\n",
        "  indices = np.random.randint(m, size=batch_size)\n",
        "  X_batch = scaled_housing_data_plus_bias[indices]\n",
        "  y_batch = housing.target.reshape(-1, 1)[indices]\n",
        "  return X_batch, y_batch\n",
        "\n",
        "with tf.Session() as sess:\n",
        "  sess.run(init)\n",
        "\n",
        "  for epoch in range(n_epochs):\n",
        "    for batch_index in range(n_batches):\n",
        "      X_batch, y_batch = fetch_batch(epoch, batch_index, batch_size)\n",
        "      sess.run(training_op, feed_dict={X:X_batch, y:y_batch})\n",
        "\n",
        "  best_theta = theta.eval()"
      ],
      "execution_count": 0,
      "outputs": []
    },
    {
      "cell_type": "code",
      "metadata": {
        "id": "Q0n_dHs7qKVe",
        "colab_type": "code",
        "colab": {
          "base_uri": "https://localhost:8080/",
          "height": 182
        },
        "outputId": "351e71c7-08a8-4012-ef01-45c70c4b0faf"
      },
      "source": [
        "best_theta"
      ],
      "execution_count": 107,
      "outputs": [
        {
          "output_type": "execute_result",
          "data": {
            "text/plain": [
              "array([[ 2.0703337 ],\n",
              "       [ 0.8637145 ],\n",
              "       [ 0.12255149],\n",
              "       [-0.31211886],\n",
              "       [ 0.38510385],\n",
              "       [ 0.00434167],\n",
              "       [-0.01232954],\n",
              "       [-0.83376896],\n",
              "       [-0.8030471 ]], dtype=float32)"
            ]
          },
          "metadata": {
            "tags": []
          },
          "execution_count": 107
        }
      ]
    },
    {
      "cell_type": "markdown",
      "metadata": {
        "id": "2e3PIzWCqN1Y",
        "colab_type": "text"
      },
      "source": [
        "Saving and restoring a model"
      ]
    },
    {
      "cell_type": "code",
      "metadata": {
        "id": "KnxoyUVpqOVr",
        "colab_type": "code",
        "colab": {
          "base_uri": "https://localhost:8080/",
          "height": 200
        },
        "outputId": "0df4348a-b82e-417c-bb40-50288c971253"
      },
      "source": [
        "reset_graph()\n",
        "\n",
        "n_epochs = 1000                                                                       \n",
        "learning_rate = 0.01                                                                  \n",
        "\n",
        "X = tf.constant(scaled_housing_data_plus_bias, dtype=tf.float32, name=\"X\")            \n",
        "y = tf.constant(housing.target.reshape(-1, 1), dtype=tf.float32, name=\"y\")            \n",
        "theta = tf.Variable(tf.random_uniform([n + 1, 1], -1.0, 1.0, seed=42), name=\"theta\")\n",
        "y_pred = tf.matmul(X, theta, name=\"predictions\")                                      \n",
        "error = y_pred - y                                                                    \n",
        "mse = tf.reduce_mean(tf.square(error), name=\"mse\")                                    \n",
        "optimizer = tf.train.GradientDescentOptimizer(learning_rate=learning_rate)            \n",
        "training_op = optimizer.minimize(mse)                                                 \n",
        "\n",
        "init = tf.global_variables_initializer()\n",
        "saver = tf.train.Saver()\n",
        "\n",
        "with tf.Session() as sess:\n",
        "    sess.run(init)\n",
        "\n",
        "    for epoch in range(n_epochs):\n",
        "        if epoch % 100 == 0:\n",
        "            print(\"Epoch\", epoch, \"MSE =\", mse.eval())                                \n",
        "            save_path = saver.save(sess, \"/tmp/my_model.ckpt\")\n",
        "        sess.run(training_op)\n",
        "    \n",
        "    best_theta = theta.eval()\n",
        "    save_path = saver.save(sess, \"/tmp/my_model_final.ckpt\")"
      ],
      "execution_count": 108,
      "outputs": [
        {
          "output_type": "stream",
          "text": [
            "Epoch 0 MSE = 9.161542\n",
            "Epoch 100 MSE = 0.71450055\n",
            "Epoch 200 MSE = 0.56670487\n",
            "Epoch 300 MSE = 0.55557173\n",
            "Epoch 400 MSE = 0.5488112\n",
            "Epoch 500 MSE = 0.5436363\n",
            "Epoch 600 MSE = 0.53962904\n",
            "Epoch 700 MSE = 0.5365092\n",
            "Epoch 800 MSE = 0.5340677\n",
            "Epoch 900 MSE = 0.5321473\n"
          ],
          "name": "stdout"
        }
      ]
    },
    {
      "cell_type": "code",
      "metadata": {
        "id": "JAr99Z8g2OIj",
        "colab_type": "code",
        "colab": {
          "base_uri": "https://localhost:8080/",
          "height": 182
        },
        "outputId": "39bfa953-d123-406f-b06e-ff3c2166c966"
      },
      "source": [
        "best_theta"
      ],
      "execution_count": 109,
      "outputs": [
        {
          "output_type": "execute_result",
          "data": {
            "text/plain": [
              "array([[ 2.0685523 ],\n",
              "       [ 0.88740265],\n",
              "       [ 0.14401655],\n",
              "       [-0.34770873],\n",
              "       [ 0.3617836 ],\n",
              "       [ 0.00393811],\n",
              "       [-0.04269556],\n",
              "       [-0.6614529 ],\n",
              "       [-0.6375279 ]], dtype=float32)"
            ]
          },
          "metadata": {
            "tags": []
          },
          "execution_count": 109
        }
      ]
    },
    {
      "cell_type": "code",
      "metadata": {
        "id": "lz8iQW9X2oCW",
        "colab_type": "code",
        "colab": {
          "base_uri": "https://localhost:8080/",
          "height": 35
        },
        "outputId": "784ebe75-3cea-41d8-fc1f-6d347124d0a9"
      },
      "source": [
        "with tf.Session() as sess:\n",
        "  saver.restore(sess,\"/tmp/my_model_final.ckpt\")\n",
        "  best_theta_restored = theta.eval()"
      ],
      "execution_count": 110,
      "outputs": [
        {
          "output_type": "stream",
          "text": [
            "INFO:tensorflow:Restoring parameters from /tmp/my_model_final.ckpt\n"
          ],
          "name": "stdout"
        }
      ]
    },
    {
      "cell_type": "code",
      "metadata": {
        "id": "FNlzR8kz24Jo",
        "colab_type": "code",
        "colab": {
          "base_uri": "https://localhost:8080/",
          "height": 35
        },
        "outputId": "db97baaa-e358-4004-b843-6fcb5a38c6e6"
      },
      "source": [
        "np.allclose(best_theta, best_theta_restored)"
      ],
      "execution_count": 111,
      "outputs": [
        {
          "output_type": "execute_result",
          "data": {
            "text/plain": [
              "True"
            ]
          },
          "metadata": {
            "tags": []
          },
          "execution_count": 111
        }
      ]
    },
    {
      "cell_type": "markdown",
      "metadata": {
        "id": "uDfD_nDg2-1z",
        "colab_type": "text"
      },
      "source": [
        "If you want to have a saver that loads and restores theta with a different name, such as \"weights\""
      ]
    },
    {
      "cell_type": "code",
      "metadata": {
        "id": "47x1Z_ro2_S6",
        "colab_type": "code",
        "colab": {}
      },
      "source": [
        "saver = tf.train.Saver({\"weights\":theta})"
      ],
      "execution_count": 0,
      "outputs": []
    },
    {
      "cell_type": "markdown",
      "metadata": {
        "id": "_mMk5Zhz3GTa",
        "colab_type": "text"
      },
      "source": [
        "By default the saver also saves the graph structure itself in a second file with the extension .meta. You can use the function tf.train.import_meta_graph() to restore the graph structure. This function loads the graph into the default graph and returns a Saver that can then be used to restore the graph state (i.e., the variable values):"
      ]
    },
    {
      "cell_type": "code",
      "metadata": {
        "id": "_IsrCyL53H59",
        "colab_type": "code",
        "colab": {
          "base_uri": "https://localhost:8080/",
          "height": 35
        },
        "outputId": "98a1e929-1525-4cb6-dd81-328653379683"
      },
      "source": [
        "reset_graph()\n",
        "# notice that we start with an empty graph.\n",
        "\n",
        "saver = tf.train.import_meta_graph(\"/tmp/my_model_final.ckpt.meta\")  # this loads the graph structure\n",
        "theta = tf.get_default_graph().get_tensor_by_name(\"theta:0\") # not shown in the book\n",
        "\n",
        "with tf.Session() as sess:\n",
        "    saver.restore(sess, \"/tmp/my_model_final.ckpt\")  # this restores the graph's state\n",
        "    best_theta_restored = theta.eval() # not shown in the book"
      ],
      "execution_count": 113,
      "outputs": [
        {
          "output_type": "stream",
          "text": [
            "INFO:tensorflow:Restoring parameters from /tmp/my_model_final.ckpt\n"
          ],
          "name": "stdout"
        }
      ]
    },
    {
      "cell_type": "code",
      "metadata": {
        "id": "b7CdIe_jkDRz",
        "colab_type": "code",
        "colab": {
          "base_uri": "https://localhost:8080/",
          "height": 35
        },
        "outputId": "54ff218b-2955-48c9-d71a-ea23e3e05a77"
      },
      "source": [
        "np.allclose(best_theta, best_theta_restored)"
      ],
      "execution_count": 114,
      "outputs": [
        {
          "output_type": "execute_result",
          "data": {
            "text/plain": [
              "True"
            ]
          },
          "metadata": {
            "tags": []
          },
          "execution_count": 114
        }
      ]
    },
    {
      "cell_type": "markdown",
      "metadata": {
        "id": "1yE1mdUHuimS",
        "colab_type": "text"
      },
      "source": [
        "This means that you can import a pretrained model without having to have the corresponding Python code to build the graph. This is very handy when you keep tweaking and saving your model: you can load a previously saved model without having to search for the version of the code that built it."
      ]
    },
    {
      "cell_type": "markdown",
      "metadata": {
        "id": "x_g-WE6mul0O",
        "colab_type": "text"
      },
      "source": [
        "Visualizing the graph"
      ]
    },
    {
      "cell_type": "markdown",
      "metadata": {
        "id": "pSbN-PKtvHFM",
        "colab_type": "text"
      },
      "source": [
        "Using TensorBoard"
      ]
    },
    {
      "cell_type": "code",
      "metadata": {
        "id": "V9P-XWIkvIv6",
        "colab_type": "code",
        "colab": {}
      },
      "source": [
        "reset_graph()\n",
        "\n",
        "from datetime import datetime\n",
        "\n",
        "now = datetime.utcnow().strftime(\"%Y%m%d%H%M%S\")\n",
        "root_logdir = \"tf_logs\"\n",
        "logdir = \"{}/run-{}/\".format(root_logdir, now)"
      ],
      "execution_count": 0,
      "outputs": []
    },
    {
      "cell_type": "code",
      "metadata": {
        "id": "gNG6ZRbTvfWn",
        "colab_type": "code",
        "colab": {}
      },
      "source": [
        "n_epochs = 1000\n",
        "learning_rate = 0.01\n",
        "\n",
        "X = tf.placeholder(tf.float32, shape=(None, n+1), name=\"X\")\n",
        "y = tf.placeholder(tf.float32, shape = (None, 1), name=\"y\")\n",
        "theta = tf.Variable(tf.random_uniform([n+1,1], -1.0, 1.0, seed=42), name=\"theta\")\n",
        "y_pred = tf.matmul(X, theta, name=\"predictions\")\n",
        "error = y_pred - y\n",
        "mse = tf.reduce_mean(tf.square(error), name=\"mse\")\n",
        "optimizer = tf.train.GradientDescentOptimizer(learning_rate=learning_rate)\n",
        "training_op = optimizer.minimize(mse)\n",
        "\n",
        "init = tf.global_variables_initializer()"
      ],
      "execution_count": 0,
      "outputs": []
    },
    {
      "cell_type": "code",
      "metadata": {
        "id": "r_TCE7rAwSua",
        "colab_type": "code",
        "colab": {}
      },
      "source": [
        "mse_summary = tf.summary.scalar('MSE', mse)\n",
        "file_writer = tf.summary.FileWriter(logdir, tf.get_default_graph())"
      ],
      "execution_count": 0,
      "outputs": []
    },
    {
      "cell_type": "code",
      "metadata": {
        "id": "2l-0MaMMwd2s",
        "colab_type": "code",
        "colab": {}
      },
      "source": [
        "n_epochs = 10\n",
        "batch_size=100\n",
        "n_batches = int(np.ceil(m/batch_size))"
      ],
      "execution_count": 0,
      "outputs": []
    },
    {
      "cell_type": "code",
      "metadata": {
        "id": "NAfl997xwmOe",
        "colab_type": "code",
        "colab": {}
      },
      "source": [
        "with tf.Session() as sess:\n",
        "  sess.run(init)\n",
        "\n",
        "  for epoch in range(n_epochs):\n",
        "    for batch_index in range(n_batches):\n",
        "      X_batch, y_batch = fetch_batch(epoch, batch_index, batch_size)\n",
        "      if batch_index %10 == 0:\n",
        "        summary_str = mse_summary.eval(feed_dict={X:X_batch, y:y_batch})\n",
        "        step = epoch * n_batches+batch_index\n",
        "        file_writer.add_summary(summary_str, step)\n",
        "      sess.run(training_op, feed_dict={X:X_batch, y:y_batch})\n",
        "\n",
        "  best_theta = theta.eval()"
      ],
      "execution_count": 0,
      "outputs": []
    },
    {
      "cell_type": "code",
      "metadata": {
        "id": "2bYIvUFG1Aog",
        "colab_type": "code",
        "colab": {}
      },
      "source": [
        "file_writer.close()"
      ],
      "execution_count": 0,
      "outputs": []
    },
    {
      "cell_type": "code",
      "metadata": {
        "id": "q135eFA21DTr",
        "colab_type": "code",
        "colab": {
          "base_uri": "https://localhost:8080/",
          "height": 182
        },
        "outputId": "b98d1584-5a6f-42ae-ecd2-5e42ecac3b15"
      },
      "source": [
        "best_theta"
      ],
      "execution_count": 121,
      "outputs": [
        {
          "output_type": "execute_result",
          "data": {
            "text/plain": [
              "array([[ 2.0703337 ],\n",
              "       [ 0.8637145 ],\n",
              "       [ 0.12255149],\n",
              "       [-0.31211886],\n",
              "       [ 0.38510385],\n",
              "       [ 0.00434167],\n",
              "       [-0.01232954],\n",
              "       [-0.83376896],\n",
              "       [-0.8030471 ]], dtype=float32)"
            ]
          },
          "metadata": {
            "tags": []
          },
          "execution_count": 121
        }
      ]
    },
    {
      "cell_type": "markdown",
      "metadata": {
        "id": "dTBru-Xc1GxA",
        "colab_type": "text"
      },
      "source": [
        "Name scopes"
      ]
    },
    {
      "cell_type": "code",
      "metadata": {
        "id": "_JW8PMml1IN4",
        "colab_type": "code",
        "colab": {}
      },
      "source": [
        "reset_graph()\n",
        "\n",
        "now = datetime.utcnow().strftime(\"%Y%m%d%H%M%S\")\n",
        "root_logdir = \"tf_logs\"\n",
        "logdir = \"{}/run-{}/\".format(root_logdir, now)\n",
        "\n",
        "n_epochs = 1000\n",
        "learning_rate = 0.01\n",
        "\n",
        "X= tf.placeholder(tf.float32, shape =(None, n+1), name=\"X\")\n",
        "y=tf.placeholder(tf.float32, shape=(None, 1), name=\"y\")\n",
        "theta = tf.Variable(tf.random_uniform([n+1, 1], -1.0, 1.0, seed=42), name=\"theta\")\n",
        "y_pred = tf.matmul(X, theta, name=\"prediction\")"
      ],
      "execution_count": 0,
      "outputs": []
    },
    {
      "cell_type": "code",
      "metadata": {
        "id": "_uSNX2J928j7",
        "colab_type": "code",
        "colab": {}
      },
      "source": [
        "with tf.name_scope(\"loss\") as scope:\n",
        "  error = y_pred -y\n",
        "  mse = tf.reduce_mean(tf.square(error), name=\"mse\")"
      ],
      "execution_count": 0,
      "outputs": []
    },
    {
      "cell_type": "code",
      "metadata": {
        "id": "s-8JSJG03PKP",
        "colab_type": "code",
        "colab": {}
      },
      "source": [
        "optimizer = tf.train.GradientDescentOptimizer(learning_rate=learning_rate)\n",
        "training_op = optimizer.minimize(mse)\n",
        "\n",
        "init = tf.global_variables_initializer()\n",
        "\n",
        "mse_summary = tf.summary.scalar('MSE', mse)\n",
        "file_writer = tf.summary.FileWriter(logdir, tf.get_default_graph())"
      ],
      "execution_count": 0,
      "outputs": []
    },
    {
      "cell_type": "code",
      "metadata": {
        "id": "Z9XZNhz23o5o",
        "colab_type": "code",
        "colab": {
          "base_uri": "https://localhost:8080/",
          "height": 200
        },
        "outputId": "0f028314-ef63-40cb-ad38-ab76c6e2d56f"
      },
      "source": [
        "n_epochs = 10\n",
        "batch_size = 100\n",
        "n_batches = int(np.ceil(m/batch_size))\n",
        "\n",
        "with tf.Session() as sess:\n",
        "  sess.run(init)\n",
        "\n",
        "  for epoch in range(n_epochs):\n",
        "    for batch_index in range(n_batches):\n",
        "      X_batch, y_batch = fetch_batch(epoch, batch_index, batch_size)\n",
        "      if batch_index %10 ==0:\n",
        "        summary_str = mse_summary.eval(feed_dict={X:X_batch, y:y_batch})\n",
        "        step = epoch * n_epochs+batch_index\n",
        "        file_writer.add_summary(summary_str, step)\n",
        "      sess.run(training_op, feed_dict={X:X_batch, y:y_batch})\n",
        "    \n",
        "  best_theta = theta.eval()\n",
        "\n",
        "file_writer.flush()\n",
        "file_writer.close()\n",
        "print(\"Best theta:\")\n",
        "print(best_theta)"
      ],
      "execution_count": 125,
      "outputs": [
        {
          "output_type": "stream",
          "text": [
            "Best theta:\n",
            "[[ 2.0703337 ]\n",
            " [ 0.8637145 ]\n",
            " [ 0.12255149]\n",
            " [-0.31211886]\n",
            " [ 0.38510385]\n",
            " [ 0.00434167]\n",
            " [-0.01232954]\n",
            " [-0.83376896]\n",
            " [-0.8030471 ]]\n"
          ],
          "name": "stdout"
        }
      ]
    },
    {
      "cell_type": "code",
      "metadata": {
        "id": "AhWG2QcE5LuF",
        "colab_type": "code",
        "colab": {
          "base_uri": "https://localhost:8080/",
          "height": 35
        },
        "outputId": "7d8c3c7f-e7b7-4abd-8673-466c3307e6ac"
      },
      "source": [
        "print(error.op.name)"
      ],
      "execution_count": 126,
      "outputs": [
        {
          "output_type": "stream",
          "text": [
            "loss/sub\n"
          ],
          "name": "stdout"
        }
      ]
    },
    {
      "cell_type": "code",
      "metadata": {
        "id": "pWepLcCl5N_O",
        "colab_type": "code",
        "colab": {
          "base_uri": "https://localhost:8080/",
          "height": 35
        },
        "outputId": "6e4113c8-2669-499f-f6e2-b07eaccd132b"
      },
      "source": [
        "print(mse.op.name)"
      ],
      "execution_count": 127,
      "outputs": [
        {
          "output_type": "stream",
          "text": [
            "loss/mse\n"
          ],
          "name": "stdout"
        }
      ]
    },
    {
      "cell_type": "code",
      "metadata": {
        "id": "Rcuj_SNn5Q2r",
        "colab_type": "code",
        "colab": {
          "base_uri": "https://localhost:8080/",
          "height": 90
        },
        "outputId": "807c89fd-f6f1-4a6e-ca41-5df2325e4070"
      },
      "source": [
        "reset_graph()\n",
        "\n",
        "a1 = tf.Variable(0, name='a')\n",
        "a2 = tf.Variable(0, name='a')\n",
        "\n",
        "with tf.name_scope(\"param\"):\n",
        "  a3=tf.Variable(0, name='a')\n",
        "\n",
        "with tf.name_scope(\"param\"):\n",
        "  a4=tf.Variable(0,name='a')\n",
        "\n",
        "for node in (a1,a2,a3,a4):\n",
        "  print(node.op.name)"
      ],
      "execution_count": 128,
      "outputs": [
        {
          "output_type": "stream",
          "text": [
            "a\n",
            "a_1\n",
            "param/a\n",
            "param_1/a\n"
          ],
          "name": "stdout"
        }
      ]
    },
    {
      "cell_type": "markdown",
      "metadata": {
        "id": "sSQGNpat5sPE",
        "colab_type": "text"
      },
      "source": [
        "Modularity"
      ]
    },
    {
      "cell_type": "markdown",
      "metadata": {
        "id": "ZRiOqunD5tnG",
        "colab_type": "text"
      },
      "source": [
        "An ugly flat code:"
      ]
    },
    {
      "cell_type": "code",
      "metadata": {
        "id": "EwgS5pV25vIf",
        "colab_type": "code",
        "colab": {}
      },
      "source": [
        "reset_graph()\n",
        "\n",
        "n_features = 3\n",
        "X = tf.placeholder(tf.float32, shape=(None, n_features), name=\"X\")\n",
        "\n",
        "w1=tf.Variable(tf.random_normal((n_features,1)), name=\"weights1\")\n",
        "w2=tf.Variable(tf.random_normal((n_features,1)), name=\"weights2\")\n",
        "b1=tf.Variable(0.0,name=\"bias1\")\n",
        "b2=tf.Variable(0.0, name=\"bias2\")\n",
        "\n",
        "z1=tf.add(tf.matmul(X,w1), b1, name=\"z1\")\n",
        "z2=tf.add(tf.matmul(X,w2), b2, name=\"z2\")\n",
        "\n",
        "relu1= tf.maximum(z1, 0.0, name=\"relu1\")\n",
        "relu2= tf.maximum(z2, 0.0, name=\"relu2\")\n",
        "\n",
        "output = tf.add(relu1, relu2, name=\"output\")"
      ],
      "execution_count": 0,
      "outputs": []
    },
    {
      "cell_type": "markdown",
      "metadata": {
        "id": "JJKhVAQv6qbL",
        "colab_type": "text"
      },
      "source": [
        "Much better, using a function to build the ReLUs:"
      ]
    },
    {
      "cell_type": "code",
      "metadata": {
        "id": "23WRG-o-6s1r",
        "colab_type": "code",
        "colab": {}
      },
      "source": [
        "reset_graph()\n",
        "\n",
        "def relu(X):\n",
        "  w_shape = (int(X.get_shape()[1]),1)\n",
        "  w = tf.Variable(tf.random_normal(w_shape), name=\"weights\")\n",
        "  b = tf.Variable(0.0, name=\"bias\")\n",
        "  z = tf.add(tf.matmul(X, w), b, name=\"z\")\n",
        "  return tf.maximum(z, 0.0, name=\"relu\")\n",
        "\n",
        "n_features = 3\n",
        "X = tf.placeholder(tf.float32, shape=(None, n_features), name=\"X\")\n",
        "relus = [relu(X) for i in range(5)]\n",
        "output = tf.add_n(relus, name=\"output\")"
      ],
      "execution_count": 0,
      "outputs": []
    },
    {
      "cell_type": "code",
      "metadata": {
        "id": "H9pK4s0o7nsf",
        "colab_type": "code",
        "colab": {}
      },
      "source": [
        "file_writer = tf.summary.FileWriter(\"logs/relu1\", tf.get_default_graph())"
      ],
      "execution_count": 0,
      "outputs": []
    },
    {
      "cell_type": "markdown",
      "metadata": {
        "id": "TnoljqEN7wZP",
        "colab_type": "text"
      },
      "source": [
        "Even better using name scopes:"
      ]
    },
    {
      "cell_type": "code",
      "metadata": {
        "id": "JZuadYe37w1Q",
        "colab_type": "code",
        "colab": {}
      },
      "source": [
        "reset_graph()\n",
        "\n",
        "def relu(X):\n",
        "  with tf.name_scope(\"relu\"):\n",
        "    w_shape=(int(X.get_shape()[1]),1)\n",
        "    w=tf.Variable(tf.random_normal(w_shape), name=\"weights\")\n",
        "    b=tf.Variable(0.0, name=\"bias\")\n",
        "    z=tf.add(tf.matmul(X,w),b,name=\"z\")\n",
        "    return tf.maximum(z,0.0, name=\"relu\")"
      ],
      "execution_count": 0,
      "outputs": []
    },
    {
      "cell_type": "code",
      "metadata": {
        "id": "nLAYLSzF8MDM",
        "colab_type": "code",
        "colab": {}
      },
      "source": [
        "n_features=3\n",
        "X=tf.placeholder(tf.float32, shape=(None, n_features), name=\"X\")\n",
        "relus = [relu(X) for i in range(5)]\n",
        "output = tf.add_n(relus, name=\"output\")\n",
        "\n",
        "file_writer = tf.summary.FileWriter(\"logs/relu2\", tf.get_default_graph())\n",
        "file_writer.close()"
      ],
      "execution_count": 0,
      "outputs": []
    },
    {
      "cell_type": "markdown",
      "metadata": {
        "id": "AB4Vyg3S8lNM",
        "colab_type": "text"
      },
      "source": [
        "Sharing Variables"
      ]
    },
    {
      "cell_type": "markdown",
      "metadata": {
        "id": "bdS9kWfu8lpK",
        "colab_type": "text"
      },
      "source": [
        "Sharing a threshold variable the classic way, by defining it outside of the relu() function then passing it as a parameter:"
      ]
    },
    {
      "cell_type": "code",
      "metadata": {
        "id": "Jatj7xfi8nQ9",
        "colab_type": "code",
        "colab": {}
      },
      "source": [
        "reset_graph()\n",
        "\n",
        "def relu(X, threshold):\n",
        "  with tf.name_scope(\"relu\"):\n",
        "    w_shape = (int(X.get_shape()[1]),1)\n",
        "    w = tf.Variable(tf.random_normal(w_shape), name=\"weights\")\n",
        "    b = tf.Variable(0.0, name=\"bias\")\n",
        "    z=tf.add(tf.matmul(X,w), b, name=\"z\")\n",
        "    return tf.maximum(z, threshold, name=\"outputs\")\n",
        "\n",
        "threshold = tf.Variable(0.0, name=\"threshold\")\n",
        "X = tf.placeholder(tf.float32, shape=(None, n_features), name=\"X\")\n",
        "relus =[relu(X, threshold) for i in range(5)]\n",
        "output = tf.add_n(relus, name=\"output\")"
      ],
      "execution_count": 0,
      "outputs": []
    },
    {
      "cell_type": "code",
      "metadata": {
        "id": "7yWKRVWI_fak",
        "colab_type": "code",
        "colab": {}
      },
      "source": [
        "reset_graph()\n",
        "\n",
        "def relu(X):\n",
        "  with tf.name_scope(\"relu\"):\n",
        "    if not hasattr(relu, \"threshold\"):\n",
        "      relu.threshold = tf.Variable(0.0, name=\"threshold\")\n",
        "    w_shape = int(X.get_shape()[1]),1\n",
        "    w = tf.Variable(tf.random_normal(w_shape), name=\"weights\")\n",
        "    b= tf.Variable(0.0, name=\"bias\")\n",
        "    z= tf.add(tf.matmul(X,w), b, name=\"z\")\n",
        "    return tf.maximum(z, relu.threshold, name=\"max\")"
      ],
      "execution_count": 0,
      "outputs": []
    },
    {
      "cell_type": "code",
      "metadata": {
        "id": "NolG_9E1AVOb",
        "colab_type": "code",
        "colab": {}
      },
      "source": [
        "X = tf.placeholder(tf.float32, shape=(None, n_features), name=\"X\")\n",
        "relus = [relu(X) for i in range(5)]\n",
        "output = tf.add_n(relus, name=\"output\")"
      ],
      "execution_count": 0,
      "outputs": []
    },
    {
      "cell_type": "code",
      "metadata": {
        "id": "ZzOOwFt1AYiW",
        "colab_type": "code",
        "colab": {}
      },
      "source": [
        "reset_graph()\n",
        "\n",
        "with tf.variable_scope(\"relu\"):\n",
        "    threshold = tf.get_variable(\"threshold\", shape=(),\n",
        "                                initializer=tf.constant_initializer(0.0))"
      ],
      "execution_count": 0,
      "outputs": []
    },
    {
      "cell_type": "code",
      "metadata": {
        "id": "yG-1-fdnAlVY",
        "colab_type": "code",
        "colab": {}
      },
      "source": [
        "with tf.variable_scope(\"relu\", reuse=True):\n",
        "    threshold = tf.get_variable(\"threshold\")"
      ],
      "execution_count": 0,
      "outputs": []
    },
    {
      "cell_type": "code",
      "metadata": {
        "id": "H1uX__q9AnV-",
        "colab_type": "code",
        "colab": {}
      },
      "source": [
        "with tf.variable_scope(\"relu\") as scope:\n",
        "    scope.reuse_variables()\n",
        "    threshold = tf.get_variable(\"threshold\")"
      ],
      "execution_count": 0,
      "outputs": []
    },
    {
      "cell_type": "code",
      "metadata": {
        "id": "upCV-OyNAq-k",
        "colab_type": "code",
        "colab": {}
      },
      "source": [
        "reset_graph()\n",
        "\n",
        "def relu(X):\n",
        "    with tf.variable_scope(\"relu\", reuse=True):\n",
        "        threshold = tf.get_variable(\"threshold\")\n",
        "        w_shape = int(X.get_shape()[1]), 1                          \n",
        "        w = tf.Variable(tf.random_normal(w_shape), name=\"weights\") \n",
        "        b = tf.Variable(0.0, name=\"bias\")                           \n",
        "        z = tf.add(tf.matmul(X, w), b, name=\"z\")                   \n",
        "        return tf.maximum(z, threshold, name=\"max\")\n",
        "\n",
        "X = tf.placeholder(tf.float32, shape=(None, n_features), name=\"X\")\n",
        "with tf.variable_scope(\"relu\"):\n",
        "    threshold = tf.get_variable(\"threshold\", shape=(),\n",
        "                                initializer=tf.constant_initializer(0.0))\n",
        "relus = [relu(X) for relu_index in range(5)]\n",
        "output = tf.add_n(relus, name=\"output\")"
      ],
      "execution_count": 0,
      "outputs": []
    },
    {
      "cell_type": "code",
      "metadata": {
        "id": "lCXS9wFfA4tv",
        "colab_type": "code",
        "colab": {}
      },
      "source": [
        "file_writer = tf.summary.FileWriter(\"logs/relu6\", tf.get_default_graph())\n",
        "file_writer.close()"
      ],
      "execution_count": 0,
      "outputs": []
    },
    {
      "cell_type": "code",
      "metadata": {
        "id": "P1WACzI8A6i_",
        "colab_type": "code",
        "colab": {}
      },
      "source": [
        "reset_graph()\n",
        "\n",
        "def relu(X):\n",
        "    with tf.variable_scope(\"relu\"):\n",
        "        threshold = tf.get_variable(\"threshold\", shape=(), initializer=tf.constant_initializer(0.0))\n",
        "        w_shape = (int(X.get_shape()[1]), 1)\n",
        "        w = tf.Variable(tf.random_normal(w_shape), name=\"weights\")\n",
        "        b = tf.Variable(0.0, name=\"bias\")\n",
        "        z = tf.add(tf.matmul(X, w), b, name=\"z\")\n",
        "        return tf.maximum(z, threshold, name=\"max\")\n",
        "\n",
        "X = tf.placeholder(tf.float32, shape=(None, n_features), name=\"X\")\n",
        "with tf.variable_scope(\"\", default_name=\"\") as scope:\n",
        "    first_relu = relu(X)     # create the shared variable\n",
        "    scope.reuse_variables()  # then reuse it\n",
        "    relus = [first_relu] + [relu(X) for i in range(4)]\n",
        "output = tf.add_n(relus, name=\"output\")\n",
        "\n",
        "file_writer = tf.summary.FileWriter(\"logs/relu8\", tf.get_default_graph())\n",
        "file_writer.close()"
      ],
      "execution_count": 0,
      "outputs": []
    },
    {
      "cell_type": "code",
      "metadata": {
        "id": "uFaEUBw0A92Z",
        "colab_type": "code",
        "colab": {}
      },
      "source": [
        "\n",
        "reset_graph()\n",
        "\n",
        "def relu(X):\n",
        "    threshold = tf.get_variable(\"threshold\", shape=(),\n",
        "                                initializer=tf.constant_initializer(0.0))\n",
        "    w_shape = (int(X.get_shape()[1]), 1)                        \n",
        "    w = tf.Variable(tf.random_normal(w_shape), name=\"weights\")  \n",
        "    b = tf.Variable(0.0, name=\"bias\")                           \n",
        "    z = tf.add(tf.matmul(X, w), b, name=\"z\")                    \n",
        "    return tf.maximum(z, threshold, name=\"max\")\n",
        "\n",
        "X = tf.placeholder(tf.float32, shape=(None, n_features), name=\"X\")\n",
        "relus = []\n",
        "for relu_index in range(5):\n",
        "    with tf.variable_scope(\"relu\", reuse=(relu_index >= 1)) as scope:\n",
        "        relus.append(relu(X))\n",
        "output = tf.add_n(relus, name=\"output\")"
      ],
      "execution_count": 0,
      "outputs": []
    },
    {
      "cell_type": "code",
      "metadata": {
        "id": "foihWWByDhrA",
        "colab_type": "code",
        "colab": {}
      },
      "source": [
        "file_writer = tf.summary.FileWriter(\"logs/relu9\", tf.get_default_graph())\n",
        "file_writer.close()"
      ],
      "execution_count": 0,
      "outputs": []
    },
    {
      "cell_type": "markdown",
      "metadata": {
        "id": "m-uP5n1ADlG-",
        "colab_type": "text"
      },
      "source": [
        "Extra material"
      ]
    },
    {
      "cell_type": "code",
      "metadata": {
        "id": "gRbVl5_zDljW",
        "colab_type": "code",
        "colab": {
          "base_uri": "https://localhost:8080/",
          "height": 145
        },
        "outputId": "dda21dc5-75b0-455a-f286-d15839d638a2"
      },
      "source": [
        "reset_graph()\n",
        "\n",
        "with tf.variable_scope(\"my_scope\"):\n",
        "  x0 = tf.get_variable(\"x\", shape=(), initializer=tf.constant_initializer(0.0))\n",
        "  x1 = tf.Variable(0.0, name=\"x\")\n",
        "  x2 = tf.Variable(0.0, name=\"x\")\n",
        "\n",
        "with tf.variable_scope(\"my_scope\", reuse=True):\n",
        "  x3 = tf.get_variable(\"x\")\n",
        "  x4 = tf.Variable(0.0, name=\"x\")\n",
        "\n",
        "with tf.variable_scope(\"\", default_name=\"\", reuse=True):\n",
        "  x5 = tf.get_variable(\"my_scope/x\")\n",
        "\n",
        "print(\"x0:\", x0.op.name)\n",
        "print(\"x1:\", x1.op.name)\n",
        "print(\"x2:\", x2.op.name)\n",
        "print(\"x3:\", x3.op.name)\n",
        "print(\"x4:\", x4.op.name)\n",
        "print(\"x5:\", x5.op.name)\n",
        "print(x0 is x3 and x3 is x5)"
      ],
      "execution_count": 149,
      "outputs": [
        {
          "output_type": "stream",
          "text": [
            "x0: my_scope/x\n",
            "x1: my_scope/x_1\n",
            "x2: my_scope/x_2\n",
            "x3: my_scope/x\n",
            "x4: my_scope_1/x\n",
            "x5: my_scope/x\n",
            "True\n"
          ],
          "name": "stdout"
        }
      ]
    },
    {
      "cell_type": "markdown",
      "metadata": {
        "id": "LGrZxMUJHEAx",
        "colab_type": "text"
      },
      "source": [
        "Strings"
      ]
    },
    {
      "cell_type": "code",
      "metadata": {
        "id": "8w87-0mhHHBq",
        "colab_type": "code",
        "colab": {
          "base_uri": "https://localhost:8080/",
          "height": 35
        },
        "outputId": "7fc8f51a-71cd-4f7d-fbcb-99d9f5575cae"
      },
      "source": [
        "reset_graph()\n",
        "\n",
        "text = np.array(\"Do you want some cafe?\".split())\n",
        "text_tensor = tf.constant(text)\n",
        "\n",
        "with tf.Session() as sess:\n",
        "  print(text_tensor.eval())"
      ],
      "execution_count": 150,
      "outputs": [
        {
          "output_type": "stream",
          "text": [
            "[b'Do' b'you' b'want' b'some' b'cafe?']\n"
          ],
          "name": "stdout"
        }
      ]
    },
    {
      "cell_type": "markdown",
      "metadata": {
        "id": "5iZgARbrHagZ",
        "colab_type": "text"
      },
      "source": [
        "Logistic Regression with Mini-Batch Gradient Descent using TensorFlow"
      ]
    },
    {
      "cell_type": "code",
      "metadata": {
        "id": "8ot909TQHbFa",
        "colab_type": "code",
        "colab": {}
      },
      "source": [
        "from sklearn.datasets import make_moons\n",
        "\n",
        "m = 1000\n",
        "X_moons, y_moons = make_moons(m, noise=0.1, random_state=42)"
      ],
      "execution_count": 0,
      "outputs": []
    },
    {
      "cell_type": "markdown",
      "metadata": {
        "id": "SJQ2u7MQHnK_",
        "colab_type": "text"
      },
      "source": [
        " a peek at the dataset:"
      ]
    },
    {
      "cell_type": "code",
      "metadata": {
        "id": "SYEnErfsHnoB",
        "colab_type": "code",
        "colab": {
          "base_uri": "https://localhost:8080/",
          "height": 268
        },
        "outputId": "5fd112a1-1de7-479e-a055-65cd94ee41b9"
      },
      "source": [
        "plt.plot(X_moons[y_moons ==1, 0], X_moons[y_moons==1,1], 'go', label=\"Positive\")\n",
        "plt.plot(X_moons[y_moons==0,0], X_moons[y_moons==0,1], 'r^', label=\"Negative\")\n",
        "plt.legend()\n",
        "plt.show()"
      ],
      "execution_count": 156,
      "outputs": [
        {
          "output_type": "display_data",
          "data": {
            "image/png": "[encoded data removed]",
            "text/plain": [
              "<Figure size 432x288 with 1 Axes>"
            ]
          },
          "metadata": {
            "tags": []
          }
        }
      ]
    },
    {
      "cell_type": "code",
      "metadata": {
        "id": "96MYqOt-IMto",
        "colab_type": "code",
        "colab": {}
      },
      "source": [
        "X_moons_with_bias = np.c_[np.ones((m,1)), X_moons]"
      ],
      "execution_count": 0,
      "outputs": []
    },
    {
      "cell_type": "code",
      "metadata": {
        "id": "3SfB_ucbIWC-",
        "colab_type": "code",
        "colab": {
          "base_uri": "https://localhost:8080/",
          "height": 109
        },
        "outputId": "d9f64840-f9d6-45ad-acb8-fd244bfb1a1c"
      },
      "source": [
        "X_moons_with_bias[:5]"
      ],
      "execution_count": 159,
      "outputs": [
        {
          "output_type": "execute_result",
          "data": {
            "text/plain": [
              "array([[ 1.        , -0.05146968,  0.44419863],\n",
              "       [ 1.        ,  1.03201691, -0.41974116],\n",
              "       [ 1.        ,  0.86789186, -0.25482711],\n",
              "       [ 1.        ,  0.288851  , -0.44866862],\n",
              "       [ 1.        , -0.83343911,  0.53505665]])"
            ]
          },
          "metadata": {
            "tags": []
          },
          "execution_count": 159
        }
      ]
    },
    {
      "cell_type": "code",
      "metadata": {
        "id": "kU46szdMIbdj",
        "colab_type": "code",
        "colab": {}
      },
      "source": [
        "y_moons_column_vector = y_moons.reshape(-1,1)"
      ],
      "execution_count": 0,
      "outputs": []
    },
    {
      "cell_type": "code",
      "metadata": {
        "id": "Tfs7rff9IgUT",
        "colab_type": "code",
        "colab": {}
      },
      "source": [
        "test_ratio = 0.2\n",
        "test_size = int(m*test_ratio)\n",
        "X_train = X_moons_with_bias[:-test_size]\n",
        "X_test = X_moons_with_bias[-test_size:]\n",
        "y_train = y_moons_column_vector[:-test_size]\n",
        "y_test = y_moons_column_vector[-test_size:]"
      ],
      "execution_count": 0,
      "outputs": []
    },
    {
      "cell_type": "code",
      "metadata": {
        "id": "TmsegvW7I4CU",
        "colab_type": "code",
        "colab": {}
      },
      "source": [
        "def random_batch(X_train, y_train, batch_size):\n",
        "  rnd_indices = np.random.randint(0, len(X_train), batch_size)\n",
        "  X_batch = X_train[rnd_indices]\n",
        "  y_batch = y_train[rnd_indices]\n",
        "  return X_batch, y_batch"
      ],
      "execution_count": 0,
      "outputs": []
    },
    {
      "cell_type": "code",
      "metadata": {
        "id": "QUJNonVYJOEy",
        "colab_type": "code",
        "colab": {
          "base_uri": "https://localhost:8080/",
          "height": 109
        },
        "outputId": "bc864032-fb32-408c-fafc-c46fe405fd03"
      },
      "source": [
        "X_batch , y_batch = random_batch(X_train, y_train, 5)\n",
        "X_batch"
      ],
      "execution_count": 164,
      "outputs": [
        {
          "output_type": "execute_result",
          "data": {
            "text/plain": [
              "array([[ 1.        ,  1.30399966, -0.54329461],\n",
              "       [ 1.        , -0.04027286,  0.15633953],\n",
              "       [ 1.        ,  0.73249294, -0.40782775],\n",
              "       [ 1.        , -0.7805163 ,  0.4411743 ],\n",
              "       [ 1.        ,  0.60832246,  0.54703694]])"
            ]
          },
          "metadata": {
            "tags": []
          },
          "execution_count": 164
        }
      ]
    },
    {
      "cell_type": "code",
      "metadata": {
        "id": "wdNRri1IJZxM",
        "colab_type": "code",
        "colab": {
          "base_uri": "https://localhost:8080/",
          "height": 109
        },
        "outputId": "25bb5be7-1782-4374-e5b9-80d46ad7f983"
      },
      "source": [
        "y_batch"
      ],
      "execution_count": 165,
      "outputs": [
        {
          "output_type": "execute_result",
          "data": {
            "text/plain": [
              "array([[1],\n",
              "       [1],\n",
              "       [1],\n",
              "       [0],\n",
              "       [0]])"
            ]
          },
          "metadata": {
            "tags": []
          },
          "execution_count": 165
        }
      ]
    },
    {
      "cell_type": "code",
      "metadata": {
        "id": "BW_U-ZCSJb1j",
        "colab_type": "code",
        "colab": {}
      },
      "source": [
        "reset_graph()"
      ],
      "execution_count": 0,
      "outputs": []
    },
    {
      "cell_type": "code",
      "metadata": {
        "id": "qOO_fht5JfSh",
        "colab_type": "code",
        "colab": {}
      },
      "source": [
        "n_inputs = 2"
      ],
      "execution_count": 0,
      "outputs": []
    },
    {
      "cell_type": "code",
      "metadata": {
        "id": "5Zod2M60JhUU",
        "colab_type": "code",
        "colab": {}
      },
      "source": [
        "X = tf.placeholder(tf.float32, shape=(None, n_inputs+1), name=\"X\")\n",
        "y = tf.placeholder(tf.float32, shape=(None, 1), name=\"y\")\n",
        "theta = tf.Variable(tf.random_uniform([n_inputs+1, 1], -1.0, 1.0, seed=42), name=\"theta\")\n",
        "logits = tf.matmul(X, theta, name=\"logits\")\n",
        "y_proba = 1/(1+tf.exp(-logits))"
      ],
      "execution_count": 0,
      "outputs": []
    },
    {
      "cell_type": "code",
      "metadata": {
        "id": "g3XAMz7JKANz",
        "colab_type": "code",
        "colab": {}
      },
      "source": [
        "y_proba = tf.sigmoid(logits)"
      ],
      "execution_count": 0,
      "outputs": []
    },
    {
      "cell_type": "code",
      "metadata": {
        "id": "U2dJ4dzGKD-A",
        "colab_type": "code",
        "colab": {}
      },
      "source": [
        "epsilon = 1e-7\n",
        "loss = -tf.reduce_mean(y*tf.log(y_proba+epsilon)+(1-y)*tf.log(1-y_proba+epsilon))"
      ],
      "execution_count": 0,
      "outputs": []
    },
    {
      "cell_type": "code",
      "metadata": {
        "id": "xB7I3jnmKTXI",
        "colab_type": "code",
        "colab": {
          "base_uri": "https://localhost:8080/",
          "height": 92
        },
        "outputId": "aedbc97d-0372-4d67-a6fc-94d3ed7eddbb"
      },
      "source": [
        "loss = tf.losses.log_loss(y, y_proba)"
      ],
      "execution_count": 171,
      "outputs": [
        {
          "output_type": "stream",
          "text": [
            "WARNING:tensorflow:From /usr/local/lib/python3.6/dist-packages/tensorflow_core/python/ops/losses/losses_impl.py:121: where (from tensorflow.python.ops.array_ops) is deprecated and will be removed in a future version.\n",
            "Instructions for updating:\n",
            "Use tf.where in 2.0, which has the same broadcast rule as np.where\n"
          ],
          "name": "stdout"
        }
      ]
    },
    {
      "cell_type": "code",
      "metadata": {
        "id": "u_uwocMrKabW",
        "colab_type": "code",
        "colab": {}
      },
      "source": [
        "learning_rate = 0.01\n",
        "optimizer = tf.train.GradientDescentOptimizer(learning_rate=learning_rate)\n",
        "training_op = optimizer.minimize(loss)"
      ],
      "execution_count": 0,
      "outputs": []
    },
    {
      "cell_type": "code",
      "metadata": {
        "id": "KOj76n_lKkwT",
        "colab_type": "code",
        "colab": {}
      },
      "source": [
        "init = tf.global_variables_initializer()"
      ],
      "execution_count": 0,
      "outputs": []
    },
    {
      "cell_type": "code",
      "metadata": {
        "id": "y_PgFwH5KoF6",
        "colab_type": "code",
        "colab": {
          "base_uri": "https://localhost:8080/",
          "height": 200
        },
        "outputId": "98434080-a133-4bd4-a4e5-7ff812986b7f"
      },
      "source": [
        "n_epochs  = 1000\n",
        "batch_size = 50\n",
        "n_batches = int(np.ceil(m/batch_size))\n",
        "\n",
        "with tf.Session() as sess:\n",
        "  sess.run(init)\n",
        "\n",
        "  for epoch in range(n_epochs):\n",
        "    for batch_index in range(n_batches):\n",
        "      X_batch, y_batch = random_batch(X_train, y_train, batch_size)\n",
        "      sess.run(training_op, feed_dict={X:X_batch, y:y_batch})\n",
        "    loss_val = loss.eval({X:X_test, y:y_test})\n",
        "    if epoch%100==0:\n",
        "      print(\"epoch:\",epoch,\"loss:\",loss_val)\n",
        "  y_proba = y_proba.eval(feed_dict={X:X_test,y:y_test})"
      ],
      "execution_count": 175,
      "outputs": [
        {
          "output_type": "stream",
          "text": [
            "epoch: 0 loss: 0.7926023\n",
            "epoch: 100 loss: 0.34346348\n",
            "epoch: 200 loss: 0.3075404\n",
            "epoch: 300 loss: 0.2928889\n",
            "epoch: 400 loss: 0.28533572\n",
            "epoch: 500 loss: 0.28047806\n",
            "epoch: 600 loss: 0.27808294\n",
            "epoch: 700 loss: 0.27615443\n",
            "epoch: 800 loss: 0.27551997\n",
            "epoch: 900 loss: 0.2749123\n"
          ],
          "name": "stdout"
        }
      ]
    },
    {
      "cell_type": "code",
      "metadata": {
        "id": "fFIRpr9RLfrQ",
        "colab_type": "code",
        "colab": {
          "base_uri": "https://localhost:8080/",
          "height": 109
        },
        "outputId": "84368fcf-2201-4535-a225-623ccc115f22"
      },
      "source": [
        "y_proba[:5]"
      ],
      "execution_count": 176,
      "outputs": [
        {
          "output_type": "execute_result",
          "data": {
            "text/plain": [
              "array([[0.54895616],\n",
              "       [0.70724374],\n",
              "       [0.51900256],\n",
              "       [0.9911136 ],\n",
              "       [0.5085905 ]], dtype=float32)"
            ]
          },
          "metadata": {
            "tags": []
          },
          "execution_count": 176
        }
      ]
    },
    {
      "cell_type": "code",
      "metadata": {
        "id": "Y7DsTultLiLZ",
        "colab_type": "code",
        "colab": {
          "base_uri": "https://localhost:8080/",
          "height": 109
        },
        "outputId": "5d401338-d863-4687-9b42-1f0848234f45"
      },
      "source": [
        "y_pred = (y_proba>=0.5)\n",
        "y_pred[:5]"
      ],
      "execution_count": 177,
      "outputs": [
        {
          "output_type": "execute_result",
          "data": {
            "text/plain": [
              "array([[ True],\n",
              "       [ True],\n",
              "       [ True],\n",
              "       [ True],\n",
              "       [ True]])"
            ]
          },
          "metadata": {
            "tags": []
          },
          "execution_count": 177
        }
      ]
    },
    {
      "cell_type": "code",
      "metadata": {
        "id": "MRotFdlgN4gZ",
        "colab_type": "code",
        "colab": {
          "base_uri": "https://localhost:8080/",
          "height": 35
        },
        "outputId": "25fbe108-01aa-4fb3-dd6a-73b634fbd1fa"
      },
      "source": [
        "from sklearn.metrics import precision_score, recall_score\n",
        "\n",
        "precision_score(y_test, y_pred)"
      ],
      "execution_count": 178,
      "outputs": [
        {
          "output_type": "execute_result",
          "data": {
            "text/plain": [
              "0.8627450980392157"
            ]
          },
          "metadata": {
            "tags": []
          },
          "execution_count": 178
        }
      ]
    },
    {
      "cell_type": "code",
      "metadata": {
        "id": "yW6xAhhcN_5M",
        "colab_type": "code",
        "colab": {
          "base_uri": "https://localhost:8080/",
          "height": 35
        },
        "outputId": "9818ab8f-dbc3-4e1f-9ca1-9c54157b6e7a"
      },
      "source": [
        "recall_score(y_test, y_pred)"
      ],
      "execution_count": 180,
      "outputs": [
        {
          "output_type": "execute_result",
          "data": {
            "text/plain": [
              "0.8888888888888888"
            ]
          },
          "metadata": {
            "tags": []
          },
          "execution_count": 180
        }
      ]
    },
    {
      "cell_type": "code",
      "metadata": {
        "id": "CNndLwYMOErC",
        "colab_type": "code",
        "colab": {
          "base_uri": "https://localhost:8080/",
          "height": 268
        },
        "outputId": "6c80950c-0667-4545-d9b5-00d7ff994830"
      },
      "source": [
        "y_pred_idx = y_pred.reshape(-1) # a 1D array rather than a column vector\n",
        "plt.plot(X_test[y_pred_idx, 1], X_test[y_pred_idx, 2], 'go', label=\"Positive\")\n",
        "plt.plot(X_test[~y_pred_idx, 1], X_test[~y_pred_idx, 2], 'r^', label=\"Negative\")\n",
        "plt.legend()\n",
        "plt.show()"
      ],
      "execution_count": 181,
      "outputs": [
        {
          "output_type": "display_data",
          "data": {
            "image/png": "[encoded data removed]",
            "text/plain": [
              "<Figure size 432x288 with 1 Axes>"
            ]
          },
          "metadata": {
            "tags": []
          }
        }
      ]
    },
    {
      "cell_type": "markdown",
      "metadata": {
        "id": "Yc_PJVI5ORGf",
        "colab_type": "text"
      },
      "source": [
        "Now let's start over, but this time we will add all the bells and whistles, as listed in the exercise:\n",
        "\n",
        "Define the graph within a logistic_regression() function that can be reused easily.\n",
        "\n",
        "Save checkpoints using a Saver at regular intervals during training, and save the final model at the end of training.\n",
        "Restore the last checkpoint upon startup if training was interrupted.\n",
        "\n",
        "Define the graph using nice scopes so the graph looks good in TensorBoard.\n",
        "\n",
        "Add summaries to visualize the learning curves in TensorBoard.\n",
        "\n",
        "Try tweaking some hyperparameters such as the learning rate or the mini-batch size and look at the shape of the learning curve.\n",
        "\n",
        "\n",
        "\n",
        "\n",
        "Before we start, we will add 4 more features to the inputs: , ,  and . This was not part of the exercise, but it will demonstrate how adding features can improve the model. We will do this manually, but you could also add them using sklearn.preprocessing.PolynomialFeatures."
      ]
    },
    {
      "cell_type": "code",
      "metadata": {
        "id": "pP0E4BROORyZ",
        "colab_type": "code",
        "colab": {}
      },
      "source": [
        "X_train_enhanced = np.c_[X_train,\n",
        "                         np.square(X_train[:, 1]),\n",
        "                         np.square(X_train[:, 2]),\n",
        "                         X_train[:, 1] ** 3,\n",
        "                         X_train[:, 2] ** 3]\n",
        "X_test_enhanced = np.c_[X_test,\n",
        "                        np.square(X_test[:, 1]),\n",
        "                        np.square(X_test[:, 2]),\n",
        "                        X_test[:, 1] ** 3,\n",
        "                        X_test[:, 2] ** 3]"
      ],
      "execution_count": 0,
      "outputs": []
    },
    {
      "cell_type": "code",
      "metadata": {
        "id": "YVExYijhOiC3",
        "colab_type": "code",
        "colab": {
          "base_uri": "https://localhost:8080/",
          "height": 292
        },
        "outputId": "35e6e893-8505-46f5-d683-c120a35e8ed3"
      },
      "source": [
        "X_train_enhanced[:5]"
      ],
      "execution_count": 184,
      "outputs": [
        {
          "output_type": "execute_result",
          "data": {
            "text/plain": [
              "array([[ 1.00000000e+00, -5.14696757e-02,  4.44198631e-01,\n",
              "         2.64912752e-03,  1.97312424e-01, -1.36349734e-04,\n",
              "         8.76459084e-02],\n",
              "       [ 1.00000000e+00,  1.03201691e+00, -4.19741157e-01,\n",
              "         1.06505890e+00,  1.76182639e-01,  1.09915879e+00,\n",
              "        -7.39511049e-02],\n",
              "       [ 1.00000000e+00,  8.67891864e-01, -2.54827114e-01,\n",
              "         7.53236288e-01,  6.49368582e-02,  6.53727646e-01,\n",
              "        -1.65476722e-02],\n",
              "       [ 1.00000000e+00,  2.88850997e-01, -4.48668621e-01,\n",
              "         8.34348982e-02,  2.01303531e-01,  2.41002535e-02,\n",
              "        -9.03185778e-02],\n",
              "       [ 1.00000000e+00, -8.33439108e-01,  5.35056649e-01,\n",
              "         6.94620746e-01,  2.86285618e-01, -5.78924095e-01,\n",
              "         1.53179024e-01]])"
            ]
          },
          "metadata": {
            "tags": []
          },
          "execution_count": 184
        }
      ]
    },
    {
      "cell_type": "code",
      "metadata": {
        "id": "iSKEl4lqOj_2",
        "colab_type": "code",
        "colab": {}
      },
      "source": [
        "reset_graph()"
      ],
      "execution_count": 0,
      "outputs": []
    },
    {
      "cell_type": "code",
      "metadata": {
        "id": "Wh6bE7lXOnIy",
        "colab_type": "code",
        "colab": {}
      },
      "source": [
        "def logistic_regression(X,y,initializer=None, seed=42, learning_rate=0.01):\n",
        "  n_inputs_including_bias = int(X.get_shape()[1])\n",
        "  with tf.name_scope(\"logistic_regression\"):\n",
        "    with tf.name_scope(\"model\"):\n",
        "      if initializer is None:\n",
        "        initializer = tf.random_uniform([n_inputs_including_bias,1], -1.0, 1.0, seed=seed)\n",
        "        theta = tf.Variable(initializer, name=\"theta\")\n",
        "        logits = tf.matmul(X, theta, name=\"logits\")\n",
        "        y_proba = tf.sigmoid(logits)\n",
        "    with tf.name_scope(\"train\"):\n",
        "      loss = tf.losses.log_loss(y,y_proba, scope=\"loss\")\n",
        "      optimizer= tf.train.GradientDescentOptimizer(learning_rate=learning_rate)\n",
        "      training_op = optimizer.minimize(loss)\n",
        "      loss_summary = tf.summary.scalar('log_loss', loss)\n",
        "    with tf.name_scope(\"init\"):\n",
        "      init = tf.global_variables_initializer()\n",
        "    with tf.name_scope(\"save\"):\n",
        "      saver = tf.train.Saver()\n",
        "\n",
        "  return y_proba, loss, training_op, loss_summary, init, saver\n"
      ],
      "execution_count": 0,
      "outputs": []
    },
    {
      "cell_type": "markdown",
      "metadata": {
        "id": "UH6rgay1QJLo",
        "colab_type": "text"
      },
      "source": [
        "unction to get the name of the log directory to save the summaries for Tensorboard:"
      ]
    },
    {
      "cell_type": "code",
      "metadata": {
        "id": "eR4z_2gIQKpX",
        "colab_type": "code",
        "colab": {}
      },
      "source": [
        "from datetime import datetime\n",
        "\n",
        "def log_dir(prefix=\"\"):\n",
        "    now = datetime.utcnow().strftime(\"%Y%m%d%H%M%S\")\n",
        "    root_logdir = \"tf_logs\"\n",
        "    if prefix:\n",
        "        prefix += \"-\"\n",
        "    name = prefix + \"run-\" + now\n",
        "    return \"{}/{}/\".format(root_logdir, name)"
      ],
      "execution_count": 0,
      "outputs": []
    },
    {
      "cell_type": "code",
      "metadata": {
        "id": "5MycC-RJQNGZ",
        "colab_type": "code",
        "colab": {}
      },
      "source": [
        "\n",
        "n_inputs = 2 + 4\n",
        "logdir = log_dir(\"logreg\")\n",
        "\n",
        "X = tf.placeholder(tf.float32, shape=(None, n_inputs + 1), name=\"X\")\n",
        "y = tf.placeholder(tf.float32, shape=(None, 1), name=\"y\")\n",
        "\n",
        "y_proba, loss, training_op, loss_summary, init, saver = logistic_regression(X, y)\n",
        "\n",
        "file_writer = tf.summary.FileWriter(logdir, tf.get_default_graph())"
      ],
      "execution_count": 0,
      "outputs": []
    },
    {
      "cell_type": "code",
      "metadata": {
        "id": "LsMqNPsKQSKf",
        "colab_type": "code",
        "colab": {
          "base_uri": "https://localhost:8080/",
          "height": 402
        },
        "outputId": "28588703-fe30-4a07-ecb6-ffb27a12afdd"
      },
      "source": [
        "n_epochs = 10001\n",
        "batch_size = 50\n",
        "n_batches = int(np.ceil(m / batch_size))\n",
        "\n",
        "checkpoint_path = \"/tmp/my_logreg_model.ckpt\"\n",
        "checkpoint_epoch_path = checkpoint_path + \".epoch\"\n",
        "final_model_path = \"./my_logreg_model\"\n",
        "\n",
        "with tf.Session() as sess:\n",
        "    if os.path.isfile(checkpoint_epoch_path):\n",
        "        # if the checkpoint file exists, restore the model and load the epoch number\n",
        "        with open(checkpoint_epoch_path, \"rb\") as f:\n",
        "            start_epoch = int(f.read())\n",
        "        print(\"Training was interrupted. Continuing at epoch\", start_epoch)\n",
        "        saver.restore(sess, checkpoint_path)\n",
        "    else:\n",
        "        start_epoch = 0\n",
        "        sess.run(init)\n",
        "\n",
        "    for epoch in range(start_epoch, n_epochs):\n",
        "        for batch_index in range(n_batches):\n",
        "            X_batch, y_batch = random_batch(X_train_enhanced, y_train, batch_size)\n",
        "            sess.run(training_op, feed_dict={X: X_batch, y: y_batch})\n",
        "        loss_val, summary_str = sess.run([loss, loss_summary], feed_dict={X: X_test_enhanced, y: y_test})\n",
        "        file_writer.add_summary(summary_str, epoch)\n",
        "        if epoch % 500 == 0:\n",
        "            print(\"Epoch:\", epoch, \"\\tLoss:\", loss_val)\n",
        "            saver.save(sess, checkpoint_path)\n",
        "            with open(checkpoint_epoch_path, \"wb\") as f:\n",
        "                f.write(b\"%d\" % (epoch + 1))\n",
        "\n",
        "    saver.save(sess, final_model_path)\n",
        "    y_proba_val = y_proba.eval(feed_dict={X: X_test_enhanced, y: y_test})\n",
        "    os.remove(checkpoint_epoch_path)"
      ],
      "execution_count": 194,
      "outputs": [
        {
          "output_type": "stream",
          "text": [
            "Epoch: 0 \tLoss: 0.629985\n",
            "Epoch: 500 \tLoss: 0.16122366\n",
            "Epoch: 1000 \tLoss: 0.119032115\n",
            "Epoch: 1500 \tLoss: 0.09732921\n",
            "Epoch: 2000 \tLoss: 0.08369793\n",
            "Epoch: 2500 \tLoss: 0.07437582\n",
            "Epoch: 3000 \tLoss: 0.06750215\n",
            "Epoch: 3500 \tLoss: 0.062206887\n",
            "Epoch: 4000 \tLoss: 0.058026776\n",
            "Epoch: 4500 \tLoss: 0.054562964\n",
            "Epoch: 5000 \tLoss: 0.05170827\n",
            "Epoch: 5500 \tLoss: 0.049237728\n",
            "Epoch: 6000 \tLoss: 0.04716729\n",
            "Epoch: 6500 \tLoss: 0.045376644\n",
            "Epoch: 7000 \tLoss: 0.043818757\n",
            "Epoch: 7500 \tLoss: 0.04237423\n",
            "Epoch: 8000 \tLoss: 0.041089173\n",
            "Epoch: 8500 \tLoss: 0.039970923\n",
            "Epoch: 9000 \tLoss: 0.038920242\n",
            "Epoch: 9500 \tLoss: 0.038010746\n",
            "Epoch: 10000 \tLoss: 0.037155695\n"
          ],
          "name": "stdout"
        }
      ]
    },
    {
      "cell_type": "code",
      "metadata": {
        "id": "rhKbySB1Q-WX",
        "colab_type": "code",
        "colab": {}
      },
      "source": [
        "y_pred = (y_proba_val >= 0.5)"
      ],
      "execution_count": 0,
      "outputs": []
    },
    {
      "cell_type": "code",
      "metadata": {
        "id": "nE9-y8UERCp1",
        "colab_type": "code",
        "colab": {
          "base_uri": "https://localhost:8080/",
          "height": 35
        },
        "outputId": "382af4c3-75e3-45c5-b58e-257fe108efed"
      },
      "source": [
        "precision_score(y_test, y_pred)"
      ],
      "execution_count": 202,
      "outputs": [
        {
          "output_type": "execute_result",
          "data": {
            "text/plain": [
              "0.9797979797979798"
            ]
          },
          "metadata": {
            "tags": []
          },
          "execution_count": 202
        }
      ]
    },
    {
      "cell_type": "code",
      "metadata": {
        "id": "GOUt9zllREZl",
        "colab_type": "code",
        "colab": {
          "base_uri": "https://localhost:8080/",
          "height": 35
        },
        "outputId": "7171b3ce-ba51-40a0-b37b-56bbdc382a1d"
      },
      "source": [
        "recall_score(y_test, y_pred)"
      ],
      "execution_count": 203,
      "outputs": [
        {
          "output_type": "execute_result",
          "data": {
            "text/plain": [
              "0.9797979797979798"
            ]
          },
          "metadata": {
            "tags": []
          },
          "execution_count": 203
        }
      ]
    },
    {
      "cell_type": "code",
      "metadata": {
        "id": "C-FJDyGPRGJg",
        "colab_type": "code",
        "colab": {
          "base_uri": "https://localhost:8080/",
          "height": 268
        },
        "outputId": "8f455ed2-bfab-4b1d-969d-d7c73da1084b"
      },
      "source": [
        "y_pred_idx = y_pred.reshape(-1) # a 1D array rather than a column vector\n",
        "plt.plot(X_test[y_pred_idx, 1], X_test[y_pred_idx, 2], 'go', label=\"Positive\")\n",
        "plt.plot(X_test[~y_pred_idx, 1], X_test[~y_pred_idx, 2], 'r^', label=\"Negative\")\n",
        "plt.legend()\n",
        "plt.show()"
      ],
      "execution_count": 204,
      "outputs": [
        {
          "output_type": "display_data",
          "data": {
            "image/png": "[encoded data removed]",
            "text/plain": [
              "<Figure size 432x288 with 1 Axes>"
            ]
          },
          "metadata": {
            "tags": []
          }
        }
      ]
    },
    {
      "cell_type": "markdown",
      "metadata": {
        "id": "ly8fgoD0RMB0",
        "colab_type": "text"
      },
      "source": [
        "implementation of a randomized search on both the batch size and the learning rate"
      ]
    },
    {
      "cell_type": "code",
      "metadata": {
        "id": "5fBNBfI6UmD3",
        "colab_type": "code",
        "colab": {
          "base_uri": "https://localhost:8080/",
          "height": 1000
        },
        "outputId": "cfecb1e1-3c20-4a73-d301-b2f8e13cfff3"
      },
      "source": [
        "from scipy.stats import reciprocal\n",
        "\n",
        "n_search_iterations = 10\n",
        "\n",
        "for search_iteration in range(n_search_iterations):\n",
        "    batch_size = np.random.randint(1, 100)\n",
        "    learning_rate = reciprocal(0.0001, 0.1).rvs(random_state=search_iteration)\n",
        "\n",
        "    n_inputs = 2 + 4\n",
        "    logdir = log_dir(\"logreg\")\n",
        "    \n",
        "    print(\"Iteration\", search_iteration)\n",
        "    print(\"  logdir:\", logdir)\n",
        "    print(\"  batch size:\", batch_size)\n",
        "    print(\"  learning_rate:\", learning_rate)\n",
        "    print(\"  training: \", end=\"\")\n",
        "\n",
        "    reset_graph()\n",
        "\n",
        "    X = tf.placeholder(tf.float32, shape=(None, n_inputs + 1), name=\"X\")\n",
        "    y = tf.placeholder(tf.float32, shape=(None, 1), name=\"y\")\n",
        "\n",
        "    y_proba, loss, training_op, loss_summary, init, saver = logistic_regression(\n",
        "        X, y, learning_rate=learning_rate)\n",
        "\n",
        "    file_writer = tf.summary.FileWriter(logdir, tf.get_default_graph())\n",
        "\n",
        "    n_epochs = 10001\n",
        "    n_batches = int(np.ceil(m / batch_size))\n",
        "\n",
        "    final_model_path = \"./my_logreg_model_%d\" % search_iteration\n",
        "\n",
        "    with tf.Session() as sess:\n",
        "        sess.run(init)\n",
        "\n",
        "        for epoch in range(n_epochs):\n",
        "            for batch_index in range(n_batches):\n",
        "                X_batch, y_batch = random_batch(X_train_enhanced, y_train, batch_size)\n",
        "                sess.run(training_op, feed_dict={X: X_batch, y: y_batch})\n",
        "            loss_val, summary_str = sess.run([loss, loss_summary], feed_dict={X: X_test_enhanced, y: y_test})\n",
        "            file_writer.add_summary(summary_str, epoch)\n",
        "            if epoch % 500 == 0:\n",
        "                print(\".\", end=\"\")\n",
        "\n",
        "        saver.save(sess, final_model_path)\n",
        "\n",
        "        print()\n",
        "        y_proba_val = y_proba.eval(feed_dict={X: X_test_enhanced, y: y_test})\n",
        "        y_pred = (y_proba_val >= 0.5)\n",
        "        \n",
        "        print(\"  precision:\", precision_score(y_test, y_pred))\n",
        "        print(\"  recall:\", recall_score(y_test, y_pred))"
      ],
      "execution_count": 205,
      "outputs": [
        {
          "output_type": "stream",
          "text": [
            "Iteration 0\n",
            "  logdir: tf_logs/logreg-run-20191219132154/\n",
            "  batch size: 54\n",
            "  learning_rate: 0.004430375245218265\n",
            "  training: .....................\n",
            "  precision: 0.9797979797979798\n",
            "  recall: 0.9797979797979798\n",
            "Iteration 1\n",
            "  logdir: tf_logs/logreg-run-20191219132405/\n",
            "  batch size: 22\n",
            "  learning_rate: 0.0017826497151386947\n",
            "  training: .....................\n",
            "  precision: 0.9797979797979798\n",
            "  recall: 0.9797979797979798\n",
            "Iteration 2\n",
            "  logdir: tf_logs/logreg-run-20191219132852/\n",
            "  batch size: 74\n",
            "  learning_rate: 0.00203228544324115\n",
            "  training: .....................\n",
            "  precision: 0.9696969696969697\n",
            "  recall: 0.9696969696969697\n",
            "Iteration 3\n",
            "  logdir: tf_logs/logreg-run-20191219133031/\n",
            "  batch size: 58\n",
            "  learning_rate: 0.004491523825137997\n",
            "  training: .....................\n",
            "  precision: 0.9797979797979798\n",
            "  recall: 0.9797979797979798\n",
            "Iteration 4\n",
            "  logdir: tf_logs/logreg-run-20191219133235/\n",
            "  batch size: 61\n",
            "  learning_rate: 0.07963234721775589\n",
            "  training: .....................\n",
            "  precision: 0.9801980198019802\n",
            "  recall: 1.0\n",
            "Iteration 5\n",
            "  logdir: tf_logs/logreg-run-20191219133434/\n",
            "  batch size: 92\n",
            "  learning_rate: 0.0004634250583294876\n",
            "  training: .....................\n",
            "  precision: 0.912621359223301\n",
            "  recall: 0.9494949494949495\n",
            "Iteration 6\n",
            "  logdir: tf_logs/logreg-run-20191219133555/\n",
            "  batch size: 74\n",
            "  learning_rate: 0.047706818419354494\n",
            "  training: .....................\n",
            "  precision: 0.98\n",
            "  recall: 0.98989898989899\n",
            "Iteration 7\n",
            "  logdir: tf_logs/logreg-run-20191219133736/\n",
            "  batch size: 58\n",
            "  learning_rate: 0.0001694044709524274\n",
            "  training: .....................\n",
            "  precision: 0.9\n",
            "  recall: 0.9090909090909091\n",
            "Iteration 8\n",
            "  logdir: tf_logs/logreg-run-20191219133940/\n",
            "  batch size: 61\n",
            "  learning_rate: 0.04171461199412461\n",
            "  training: .....................\n",
            "  precision: 0.9801980198019802\n",
            "  recall: 1.0\n",
            "Iteration 9\n",
            "  logdir: tf_logs/logreg-run-20191219134138/\n",
            "  batch size: 92\n",
            "  learning_rate: 0.00010742922968438615\n",
            "  training: .....................\n",
            "  precision: 0.8823529411764706\n",
            "  recall: 0.7575757575757576\n"
          ],
          "name": "stdout"
        }
      ]
    }
  ]
}