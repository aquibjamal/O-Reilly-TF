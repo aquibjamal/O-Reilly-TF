{
  "nbformat": 4,
  "nbformat_minor": 0,
  "metadata": {
    "colab": {
      "name": "10_introduction_to_artificial_neural_networks.ipynb",
      "provenance": []
    },
    "kernelspec": {
      "name": "python3",
      "display_name": "Python 3"
    }
  },
  "cells": [
    {
      "cell_type": "code",
      "metadata": {
        "id": "PT_AOFHjbfil",
        "colab_type": "code",
        "colab": {}
      },
      "source": [
        "# To support both python 2 and python 3\n",
        "from __future__ import division, print_function, unicode_literals\n",
        "\n",
        "# Common imports\n",
        "import numpy as np\n",
        "import os\n",
        "\n",
        "# to make this notebook's output stable across runs\n",
        "def reset_graph(seed=42):\n",
        "    tf.reset_default_graph()\n",
        "    tf.set_random_seed(seed)\n",
        "    np.random.seed(seed)\n",
        "\n",
        "# To plot pretty figures\n",
        "%matplotlib inline\n",
        "import matplotlib\n",
        "import matplotlib.pyplot as plt\n",
        "plt.rcParams['axes.labelsize'] = 14\n",
        "plt.rcParams['xtick.labelsize'] = 12\n",
        "plt.rcParams['ytick.labelsize'] = 12\n",
        "\n",
        "# Where to save the figures\n",
        "PROJECT_ROOT_DIR = \"/tmp/chapter10/\"\n",
        "CHAPTER_ID = \"ann\"\n",
        "\n",
        "def save_fig(fig_id, tight_layout=True):\n",
        "    path = os.path.join(PROJECT_ROOT_DIR, \"images\", CHAPTER_ID, fig_id + \".png\")\n",
        "    print(\"Saving figure\", fig_id)\n",
        "    if tight_layout:\n",
        "        plt.tight_layout()\n",
        "    plt.savefig(path, format='png', dpi=300)"
      ],
      "execution_count": 0,
      "outputs": []
    },
    {
      "cell_type": "markdown",
      "metadata": {
        "id": "3fdytvxwbmtu",
        "colab_type": "text"
      },
      "source": [
        "Perceptrons"
      ]
    },
    {
      "cell_type": "code",
      "metadata": {
        "id": "BmIMtnzVbnJ0",
        "colab_type": "code",
        "colab": {}
      },
      "source": [
        "import numpy as np\n",
        "from sklearn.datasets import load_iris\n",
        "from sklearn.linear_model import Perceptron\n",
        "\n",
        "iris = load_iris()\n",
        "X = iris.data[:,(2,3)]\n",
        "y = (iris.target==0).astype(np.int)\n",
        "\n",
        "per_clf = Perceptron(max_iter=100, tol=-np.infty, random_state=42)\n",
        "per_clf.fit(X,y)\n",
        "\n",
        "y_pred = per_clf.predict([[2, 0.5]])"
      ],
      "execution_count": 0,
      "outputs": []
    },
    {
      "cell_type": "code",
      "metadata": {
        "id": "rV7HGRtUGlCG",
        "colab_type": "code",
        "colab": {
          "base_uri": "https://localhost:8080/",
          "height": 35
        },
        "outputId": "dfc2004e-606b-4262-8b77-4bf18c6cf518"
      },
      "source": [
        "y_pred"
      ],
      "execution_count": 3,
      "outputs": [
        {
          "output_type": "execute_result",
          "data": {
            "text/plain": [
              "array([1])"
            ]
          },
          "metadata": {
            "tags": []
          },
          "execution_count": 3
        }
      ]
    },
    {
      "cell_type": "code",
      "metadata": {
        "id": "LOCT50SVGmzY",
        "colab_type": "code",
        "colab": {
          "base_uri": "https://localhost:8080/",
          "height": 291
        },
        "outputId": "48b909e4-3a7a-46bd-f082-e1e7f85dd3f1"
      },
      "source": [
        "a = -per_clf.coef_[0][0] / per_clf.coef_[0][1]\n",
        "b = -per_clf.intercept_ /per_clf.coef_[0][1]\n",
        "\n",
        "axes = [0,5,0,2]\n",
        "\n",
        "x0,x1= np.meshgrid(\n",
        "    np.linspace(axes[0], axes[1], 500).reshape(-1,1),\n",
        "    np.linspace(axes[2], axes[3], 200).reshape(-1,1),\n",
        ")\n",
        "\n",
        "X_new = np.c_[x0.ravel(), x1.ravel()]\n",
        "y_predict = per_clf.predict(X_new)\n",
        "zz = y_predict.reshape(x0.shape)\n",
        "\n",
        "plt.figure(figsize=(10, 4))\n",
        "plt.plot(X[y==0, 0], X[y==0, 1], \"bs\", label=\"Not Iris-Setosa\")\n",
        "plt.plot(X[y==1, 0], X[y==1, 1], \"yo\", label=\"Iris-Setosa\")\n",
        "\n",
        "plt.plot([axes[0], axes[1]], [a * axes[0] + b, a * axes[1] + b], \"k-\", linewidth=3)\n",
        "from matplotlib.colors import ListedColormap\n",
        "custom_cmap = ListedColormap(['#9898ff', '#fafab0'])\n",
        "\n",
        "plt.contourf(x0, x1, zz, cmap=custom_cmap)\n",
        "plt.xlabel(\"Petal length\", fontsize=14)\n",
        "plt.ylabel(\"Petal width\", fontsize=14)\n",
        "plt.legend(loc=\"lower right\", fontsize=14)\n",
        "plt.axis(axes)\n",
        "\n",
        "# save_fig(\"perceptron_iris_plot\")\n",
        "plt.show()"
      ],
      "execution_count": 9,
      "outputs": [
        {
          "output_type": "display_data",
          "data": {
            "image/png": "[encoded data removed]",
            "text/plain": [
              "<Figure size 720x288 with 1 Axes>"
            ]
          },
          "metadata": {
            "tags": []
          }
        }
      ]
    },
    {
      "cell_type": "markdown",
      "metadata": {
        "id": "Kh_qEwnxH4sz",
        "colab_type": "text"
      },
      "source": [
        "Activation functions"
      ]
    },
    {
      "cell_type": "code",
      "metadata": {
        "id": "gyAG7iOoH6YF",
        "colab_type": "code",
        "colab": {}
      },
      "source": [
        "def sigmoid(z):\n",
        "  return 1/(1+np.exp(-z))\n",
        "\n",
        "def relu(z):\n",
        "  return np.maximum(0,z)\n",
        "\n",
        "def derivative(f,z,eps=0.0000001):\n",
        "  return (f(z+eps) - f(z-eps))/(2*eps)"
      ],
      "execution_count": 0,
      "outputs": []
    },
    {
      "cell_type": "code",
      "metadata": {
        "id": "poj1sWgxIW4r",
        "colab_type": "code",
        "colab": {
          "base_uri": "https://localhost:8080/",
          "height": 285
        },
        "outputId": "0a8bf752-8d18-452e-9fe5-31cfde2d3e18"
      },
      "source": [
        "z = np.linspace(-5, 5, 200)\n",
        "\n",
        "plt.figure(figsize=(11,4))\n",
        "\n",
        "plt.subplot(121)\n",
        "plt.plot(z, np.sign(z), \"r-\", linewidth=1, label=\"Step\")\n",
        "plt.plot(z, sigmoid(z), \"g--\", linewidth=2, label=\"Sigmoid\")\n",
        "plt.plot(z, np.tanh(z), \"b-\", linewidth=2, label=\"Tanh\")\n",
        "plt.plot(z, relu(z), \"m-.\", linewidth=2, label=\"ReLU\")\n",
        "plt.grid(True)\n",
        "plt.legend(loc=\"center right\", fontsize=14)\n",
        "plt.title(\"Activation functions\", fontsize=14)\n",
        "plt.axis([-5, 5, -1.2, 1.2])\n",
        "\n",
        "plt.subplot(122)\n",
        "plt.plot(z, derivative(np.sign, z), \"r-\", linewidth=1, label=\"Step\")\n",
        "plt.plot(0, 0, \"ro\", markersize=5)\n",
        "plt.plot(0, 0, \"rx\", markersize=10)\n",
        "plt.plot(z, derivative(sigmoid, z), \"g--\", linewidth=2, label=\"Sigmoid\")\n",
        "plt.plot(z, derivative(np.tanh, z), \"b-\", linewidth=2, label=\"Tanh\")\n",
        "plt.plot(z, derivative(relu, z), \"m-.\", linewidth=2, label=\"ReLU\")\n",
        "plt.grid(True)\n",
        "#plt.legend(loc=\"center right\", fontsize=14)\n",
        "plt.title(\"Derivatives\", fontsize=14)\n",
        "plt.axis([-5, 5, -0.2, 1.2])\n",
        "\n",
        "# save_fig(\"activation_functions_plot\")\n",
        "plt.show()"
      ],
      "execution_count": 12,
      "outputs": [
        {
          "output_type": "display_data",
          "data": {
            "image/png": "[encoded data removed]",
            "text/plain": [
              "<Figure size 792x288 with 2 Axes>"
            ]
          },
          "metadata": {
            "tags": []
          }
        }
      ]
    },
    {
      "cell_type": "code",
      "metadata": {
        "id": "32I6e9AQIkmp",
        "colab_type": "code",
        "colab": {}
      },
      "source": [
        "def heaviside(z):\n",
        "  return (z>=0).astype(z.dtype)\n",
        "\n",
        "def mlp_xor(x1,x2, activation=heaviside):\n",
        "  return activation(-activation(x1+x2-1.5)+activation(x1+x2-0.5)-0.5)"
      ],
      "execution_count": 0,
      "outputs": []
    },
    {
      "cell_type": "code",
      "metadata": {
        "id": "jcmOWwaAI7Ox",
        "colab_type": "code",
        "colab": {
          "base_uri": "https://localhost:8080/",
          "height": 285
        },
        "outputId": "e2fbdbbe-93ea-4e66-97d1-e11ca0f3a4cc"
      },
      "source": [
        "x1s = np.linspace(-0.2, 1.2, 100)\n",
        "x2s = np.linspace(-0.2, 1.2, 100)\n",
        "x1, x2 = np.meshgrid(x1s, x2s)\n",
        "\n",
        "z1 = mlp_xor(x1, x2, activation=heaviside)\n",
        "z2 = mlp_xor(x1, x2, activation=sigmoid)\n",
        "\n",
        "plt.figure(figsize=(10,4))\n",
        "\n",
        "plt.subplot(121)\n",
        "plt.contourf(x1, x2, z1)\n",
        "plt.plot([0, 1], [0, 1], \"gs\", markersize=20)\n",
        "plt.plot([0, 1], [1, 0], \"y^\", markersize=20)\n",
        "plt.title(\"Activation function: heaviside\", fontsize=14)\n",
        "plt.grid(True)\n",
        "\n",
        "plt.subplot(122)\n",
        "plt.contourf(x1, x2, z2)\n",
        "plt.plot([0, 1], [0, 1], \"gs\", markersize=20)\n",
        "plt.plot([0, 1], [1, 0], \"y^\", markersize=20)\n",
        "plt.title(\"Activation function: sigmoid\", fontsize=14)\n",
        "plt.grid(True)"
      ],
      "execution_count": 14,
      "outputs": [
        {
          "output_type": "display_data",
          "data": {
            "image/png": "[encoded data removed]",
            "text/plain": [
              "<Figure size 720x288 with 2 Axes>"
            ]
          },
          "metadata": {
            "tags": []
          }
        }
      ]
    },
    {
      "cell_type": "markdown",
      "metadata": {
        "id": "Sj5b6DClI92V",
        "colab_type": "text"
      },
      "source": [
        "FNN for MNIST"
      ]
    },
    {
      "cell_type": "markdown",
      "metadata": {
        "id": "fcyV6YyWI__P",
        "colab_type": "text"
      },
      "source": [
        "Using the Estimator API (formerly tf.contrib.learn)"
      ]
    },
    {
      "cell_type": "code",
      "metadata": {
        "id": "5rMhmItZJBxa",
        "colab_type": "code",
        "colab": {
          "base_uri": "https://localhost:8080/",
          "height": 83
        },
        "outputId": "e7efa761-43d4-41d8-dcb8-81770cd9a8d9"
      },
      "source": [
        "import tensorflow as tf"
      ],
      "execution_count": 15,
      "outputs": [
        {
          "output_type": "display_data",
          "data": {
            "text/html": [
              "<p style=\"color: red;\">\n",
              "The default version of TensorFlow in Colab will soon switch to TensorFlow 2.x.<br>\n",
              "We recommend you <a href=\"https://www.tensorflow.org/guide/migrate\" target=\"_blank\">upgrade</a> now \n",
              "or ensure your notebook will continue to use TensorFlow 1.x via the <code>%tensorflow_version 1.x</code> magic:\n",
              "<a href=\"https://colab.research.google.com/notebooks/tensorflow_version.ipynb\" target=\"_blank\">more info</a>.</p>\n"
            ],
            "text/plain": [
              "<IPython.core.display.HTML object>"
            ]
          },
          "metadata": {
            "tags": []
          }
        }
      ]
    },
    {
      "cell_type": "code",
      "metadata": {
        "id": "g6iEAhigJD6d",
        "colab_type": "code",
        "colab": {
          "base_uri": "https://localhost:8080/",
          "height": 53
        },
        "outputId": "9f0c45f7-0bf5-41e3-c1ea-c6c4dd47653d"
      },
      "source": [
        "(X_train, y_train), (X_test, y_test) = tf.keras.datasets.mnist.load_data()\n",
        "X_train = X_train.astype(np.float32).reshape(-1,28*28)/255.0\n",
        "X_test = X_test.astype(np.float32).reshape(-1,28*28)/255.0\n",
        "y_train = y_train.astype(np.int32)\n",
        "y_test = y_test.astype(np.int32)\n",
        "X_valid, X_train  = X_train[:5000], X_train[5000:]\n",
        "y_valid, y_train = y_train[:5000], y_train[5000:]"
      ],
      "execution_count": 17,
      "outputs": [
        {
          "output_type": "stream",
          "text": [
            "Downloading data from https://storage.googleapis.com/tensorflow/tf-keras-datasets/mnist.npz\n",
            "11493376/11490434 [==============================] - 0s 0us/step\n"
          ],
          "name": "stdout"
        }
      ]
    },
    {
      "cell_type": "code",
      "metadata": {
        "id": "vQzDE_GMJrPS",
        "colab_type": "code",
        "colab": {
          "base_uri": "https://localhost:8080/",
          "height": 1000
        },
        "outputId": "fc0ba83b-eea8-4ab9-9201-b0d9afe56dd7"
      },
      "source": [
        "feature_cols = [tf.feature_column.numeric_column(\"X\",shape=[28*28])]\n",
        "dnn_clf = tf.estimator.DNNClassifier(hidden_units=[300,100], n_classes=10,\n",
        "                                     feature_columns= feature_cols)\n",
        "input_fn = tf.estimator.inputs.numpy_input_fn(x={\"X\":X_train}, y=y_train, num_epochs=40, \n",
        "                                                 batch_size=50, shuffle=True)\n",
        "dnn_clf.train(input_fn=input_fn)"
      ],
      "execution_count": 21,
      "outputs": [
        {
          "output_type": "stream",
          "text": [
            "INFO:tensorflow:Using default config.\n",
            "WARNING:tensorflow:Using temporary folder as model directory: /tmp/tmp88zulb9x\n",
            "INFO:tensorflow:Using config: {'_model_dir': '/tmp/tmp88zulb9x', '_tf_random_seed': None, '_save_summary_steps': 100, '_save_checkpoints_steps': None, '_save_checkpoints_secs': 600, '_session_config': allow_soft_placement: true\n",
            "graph_options {\n",
            "  rewrite_options {\n",
            "    meta_optimizer_iterations: ONE\n",
            "  }\n",
            "}\n",
            ", '_keep_checkpoint_max': 5, '_keep_checkpoint_every_n_hours': 10000, '_log_step_count_steps': 100, '_train_distribute': None, '_device_fn': None, '_protocol': None, '_eval_distribute': None, '_experimental_distribute': None, '_experimental_max_worker_delay_secs': None, '_session_creation_timeout_secs': 7200, '_service': None, '_cluster_spec': <tensorflow.python.training.server_lib.ClusterSpec object at 0x7f9b87ddd860>, '_task_type': 'worker', '_task_id': 0, '_global_id_in_cluster': 0, '_master': '', '_evaluation_master': '', '_is_chief': True, '_num_ps_replicas': 0, '_num_worker_replicas': 1}\n",
            "WARNING:tensorflow:From /usr/local/lib/python3.6/dist-packages/tensorflow_core/python/training/training_util.py:236: Variable.initialized_value (from tensorflow.python.ops.variables) is deprecated and will be removed in a future version.\n",
            "Instructions for updating:\n",
            "Use Variable.read_value. Variables in 2.X are initialized automatically both in eager and graph (inside tf.defun) contexts.\n",
            "WARNING:tensorflow:From /usr/local/lib/python3.6/dist-packages/tensorflow_estimator/python/estimator/inputs/queues/feeding_queue_runner.py:62: QueueRunner.__init__ (from tensorflow.python.training.queue_runner_impl) is deprecated and will be removed in a future version.\n",
            "Instructions for updating:\n",
            "To construct input pipelines, use the `tf.data` module.\n",
            "WARNING:tensorflow:From /usr/local/lib/python3.6/dist-packages/tensorflow_estimator/python/estimator/inputs/queues/feeding_functions.py:500: add_queue_runner (from tensorflow.python.training.queue_runner_impl) is deprecated and will be removed in a future version.\n",
            "Instructions for updating:\n",
            "To construct input pipelines, use the `tf.data` module.\n",
            "INFO:tensorflow:Calling model_fn.\n",
            "WARNING:tensorflow:From /usr/local/lib/python3.6/dist-packages/tensorflow_core/python/ops/resource_variable_ops.py:1630: calling BaseResourceVariable.__init__ (from tensorflow.python.ops.resource_variable_ops) with constraint is deprecated and will be removed in a future version.\n",
            "Instructions for updating:\n",
            "If using Keras pass *_constraint arguments to layers.\n",
            "WARNING:tensorflow:From /usr/local/lib/python3.6/dist-packages/tensorflow_estimator/python/estimator/canned/head.py:437: to_float (from tensorflow.python.ops.math_ops) is deprecated and will be removed in a future version.\n",
            "Instructions for updating:\n",
            "Use `tf.cast` instead.\n",
            "WARNING:tensorflow:From /usr/local/lib/python3.6/dist-packages/tensorflow_core/python/training/adagrad.py:76: calling Constant.__init__ (from tensorflow.python.ops.init_ops) with dtype is deprecated and will be removed in a future version.\n",
            "Instructions for updating:\n",
            "Call initializer instance with the dtype argument instead of passing it to the constructor\n",
            "INFO:tensorflow:Done calling model_fn.\n",
            "INFO:tensorflow:Create CheckpointSaverHook.\n",
            "WARNING:tensorflow:From /usr/local/lib/python3.6/dist-packages/tensorflow_core/python/ops/array_ops.py:1475: where (from tensorflow.python.ops.array_ops) is deprecated and will be removed in a future version.\n",
            "Instructions for updating:\n",
            "Use tf.where in 2.0, which has the same broadcast rule as np.where\n",
            "INFO:tensorflow:Graph was finalized.\n",
            "INFO:tensorflow:Running local_init_op.\n",
            "INFO:tensorflow:Done running local_init_op.\n",
            "WARNING:tensorflow:From /usr/local/lib/python3.6/dist-packages/tensorflow_core/python/training/monitored_session.py:882: start_queue_runners (from tensorflow.python.training.queue_runner_impl) is deprecated and will be removed in a future version.\n",
            "Instructions for updating:\n",
            "To construct input pipelines, use the `tf.data` module.\n",
            "INFO:tensorflow:Saving checkpoints for 0 into /tmp/tmp88zulb9x/model.ckpt.\n",
            "INFO:tensorflow:loss = 119.73528, step = 1\n",
            "INFO:tensorflow:global_step/sec: 231.944\n",
            "INFO:tensorflow:loss = 28.451965, step = 101 (0.433 sec)\n",
            "INFO:tensorflow:global_step/sec: 267.206\n",
            "INFO:tensorflow:loss = 17.153141, step = 201 (0.374 sec)\n",
            "INFO:tensorflow:global_step/sec: 268.067\n",
            "INFO:tensorflow:loss = 10.798913, step = 301 (0.372 sec)\n",
            "INFO:tensorflow:global_step/sec: 267.577\n",
            "INFO:tensorflow:loss = 20.789768, step = 401 (0.374 sec)\n",
            "INFO:tensorflow:global_step/sec: 266.228\n",
            "INFO:tensorflow:loss = 4.359273, step = 501 (0.376 sec)\n",
            "INFO:tensorflow:global_step/sec: 255.763\n",
            "INFO:tensorflow:loss = 10.882725, step = 601 (0.391 sec)\n",
            "INFO:tensorflow:global_step/sec: 251.841\n",
            "INFO:tensorflow:loss = 2.5924826, step = 701 (0.397 sec)\n",
            "INFO:tensorflow:global_step/sec: 251.941\n",
            "INFO:tensorflow:loss = 4.8360357, step = 801 (0.397 sec)\n",
            "INFO:tensorflow:global_step/sec: 266.06\n",
            "INFO:tensorflow:loss = 4.939514, step = 901 (0.376 sec)\n",
            "INFO:tensorflow:global_step/sec: 253.528\n",
            "INFO:tensorflow:loss = 2.697712, step = 1001 (0.394 sec)\n",
            "INFO:tensorflow:global_step/sec: 251.619\n",
            "INFO:tensorflow:loss = 5.9810147, step = 1101 (0.398 sec)\n",
            "INFO:tensorflow:global_step/sec: 258.355\n",
            "INFO:tensorflow:loss = 9.013947, step = 1201 (0.387 sec)\n",
            "INFO:tensorflow:global_step/sec: 247.467\n",
            "INFO:tensorflow:loss = 3.6497943, step = 1301 (0.404 sec)\n",
            "INFO:tensorflow:global_step/sec: 255.027\n",
            "INFO:tensorflow:loss = 16.496264, step = 1401 (0.392 sec)\n",
            "INFO:tensorflow:global_step/sec: 251.628\n",
            "INFO:tensorflow:loss = 6.2824507, step = 1501 (0.398 sec)\n",
            "INFO:tensorflow:global_step/sec: 254.325\n",
            "INFO:tensorflow:loss = 5.0766807, step = 1601 (0.393 sec)\n",
            "INFO:tensorflow:global_step/sec: 265.012\n",
            "INFO:tensorflow:loss = 1.7334886, step = 1701 (0.377 sec)\n",
            "INFO:tensorflow:global_step/sec: 253.981\n",
            "INFO:tensorflow:loss = 5.6947045, step = 1801 (0.394 sec)\n",
            "INFO:tensorflow:global_step/sec: 253.65\n",
            "INFO:tensorflow:loss = 0.94526416, step = 1901 (0.394 sec)\n",
            "INFO:tensorflow:global_step/sec: 270.191\n",
            "INFO:tensorflow:loss = 3.8334632, step = 2001 (0.370 sec)\n",
            "INFO:tensorflow:global_step/sec: 266.419\n",
            "INFO:tensorflow:loss = 7.0291634, step = 2101 (0.375 sec)\n",
            "INFO:tensorflow:global_step/sec: 262.178\n",
            "INFO:tensorflow:loss = 0.89289534, step = 2201 (0.383 sec)\n",
            "INFO:tensorflow:global_step/sec: 237.455\n",
            "INFO:tensorflow:loss = 4.337149, step = 2301 (0.420 sec)\n",
            "INFO:tensorflow:global_step/sec: 253.227\n",
            "INFO:tensorflow:loss = 4.022265, step = 2401 (0.395 sec)\n",
            "INFO:tensorflow:global_step/sec: 255.777\n",
            "INFO:tensorflow:loss = 8.606535, step = 2501 (0.391 sec)\n",
            "INFO:tensorflow:global_step/sec: 254.492\n",
            "INFO:tensorflow:loss = 3.0018659, step = 2601 (0.393 sec)\n",
            "INFO:tensorflow:global_step/sec: 248.53\n",
            "INFO:tensorflow:loss = 0.653543, step = 2701 (0.403 sec)\n",
            "INFO:tensorflow:global_step/sec: 260.468\n",
            "INFO:tensorflow:loss = 1.036898, step = 2801 (0.385 sec)\n",
            "INFO:tensorflow:global_step/sec: 239.716\n",
            "INFO:tensorflow:loss = 2.9610212, step = 2901 (0.417 sec)\n",
            "INFO:tensorflow:global_step/sec: 265.107\n",
            "INFO:tensorflow:loss = 11.477787, step = 3001 (0.375 sec)\n",
            "INFO:tensorflow:global_step/sec: 268.551\n",
            "INFO:tensorflow:loss = 0.32142127, step = 3101 (0.372 sec)\n",
            "INFO:tensorflow:global_step/sec: 262.608\n",
            "INFO:tensorflow:loss = 6.8441563, step = 3201 (0.381 sec)\n",
            "INFO:tensorflow:global_step/sec: 270.834\n",
            "INFO:tensorflow:loss = 3.2311897, step = 3301 (0.370 sec)\n",
            "INFO:tensorflow:global_step/sec: 260.107\n",
            "INFO:tensorflow:loss = 2.534057, step = 3401 (0.385 sec)\n",
            "INFO:tensorflow:global_step/sec: 257.26\n",
            "INFO:tensorflow:loss = 3.1349535, step = 3501 (0.388 sec)\n",
            "INFO:tensorflow:global_step/sec: 255.796\n",
            "INFO:tensorflow:loss = 0.74357903, step = 3601 (0.391 sec)\n",
            "INFO:tensorflow:global_step/sec: 266.677\n",
            "INFO:tensorflow:loss = 1.7007682, step = 3701 (0.376 sec)\n",
            "INFO:tensorflow:global_step/sec: 251.954\n",
            "INFO:tensorflow:loss = 6.3120675, step = 3801 (0.400 sec)\n",
            "INFO:tensorflow:global_step/sec: 257.066\n",
            "INFO:tensorflow:loss = 0.6998085, step = 3901 (0.385 sec)\n",
            "INFO:tensorflow:global_step/sec: 266.632\n",
            "INFO:tensorflow:loss = 1.9100279, step = 4001 (0.375 sec)\n",
            "INFO:tensorflow:global_step/sec: 256.399\n",
            "INFO:tensorflow:loss = 0.9832527, step = 4101 (0.390 sec)\n",
            "INFO:tensorflow:global_step/sec: 254.156\n",
            "INFO:tensorflow:loss = 0.98870385, step = 4201 (0.394 sec)\n",
            "INFO:tensorflow:global_step/sec: 259.628\n",
            "INFO:tensorflow:loss = 1.7401649, step = 4301 (0.386 sec)\n",
            "INFO:tensorflow:global_step/sec: 254.043\n",
            "INFO:tensorflow:loss = 1.6196481, step = 4401 (0.393 sec)\n",
            "INFO:tensorflow:global_step/sec: 265.455\n",
            "INFO:tensorflow:loss = 2.466789, step = 4501 (0.377 sec)\n",
            "INFO:tensorflow:global_step/sec: 265.237\n",
            "INFO:tensorflow:loss = 0.3620027, step = 4601 (0.377 sec)\n",
            "INFO:tensorflow:global_step/sec: 262.476\n",
            "INFO:tensorflow:loss = 0.90280443, step = 4701 (0.381 sec)\n",
            "INFO:tensorflow:global_step/sec: 270.371\n",
            "INFO:tensorflow:loss = 0.79685926, step = 4801 (0.370 sec)\n",
            "INFO:tensorflow:global_step/sec: 250.084\n",
            "INFO:tensorflow:loss = 3.2109618, step = 4901 (0.401 sec)\n",
            "INFO:tensorflow:global_step/sec: 267.602\n",
            "INFO:tensorflow:loss = 0.39375234, step = 5001 (0.373 sec)\n",
            "INFO:tensorflow:global_step/sec: 267.182\n",
            "INFO:tensorflow:loss = 3.183801, step = 5101 (0.375 sec)\n",
            "INFO:tensorflow:global_step/sec: 259.071\n",
            "INFO:tensorflow:loss = 2.5918264, step = 5201 (0.386 sec)\n",
            "INFO:tensorflow:global_step/sec: 268.63\n",
            "INFO:tensorflow:loss = 0.19221078, step = 5301 (0.372 sec)\n",
            "INFO:tensorflow:global_step/sec: 262.45\n",
            "INFO:tensorflow:loss = 0.15027136, step = 5401 (0.381 sec)\n",
            "INFO:tensorflow:global_step/sec: 270.591\n",
            "INFO:tensorflow:loss = 1.1581287, step = 5501 (0.372 sec)\n",
            "INFO:tensorflow:global_step/sec: 264.217\n",
            "INFO:tensorflow:loss = 0.92948437, step = 5601 (0.376 sec)\n",
            "INFO:tensorflow:global_step/sec: 262.683\n",
            "INFO:tensorflow:loss = 2.5735745, step = 5701 (0.383 sec)\n",
            "INFO:tensorflow:global_step/sec: 266.097\n",
            "INFO:tensorflow:loss = 1.7846231, step = 5801 (0.374 sec)\n",
            "INFO:tensorflow:global_step/sec: 264.839\n",
            "INFO:tensorflow:loss = 0.357962, step = 5901 (0.377 sec)\n",
            "INFO:tensorflow:global_step/sec: 271.844\n",
            "INFO:tensorflow:loss = 0.20911528, step = 6001 (0.368 sec)\n",
            "INFO:tensorflow:global_step/sec: 274.395\n",
            "INFO:tensorflow:loss = 0.2752468, step = 6101 (0.365 sec)\n",
            "INFO:tensorflow:global_step/sec: 272.169\n",
            "INFO:tensorflow:loss = 0.67812383, step = 6201 (0.367 sec)\n",
            "INFO:tensorflow:global_step/sec: 265.724\n",
            "INFO:tensorflow:loss = 2.2304533, step = 6301 (0.376 sec)\n",
            "INFO:tensorflow:global_step/sec: 270.706\n",
            "INFO:tensorflow:loss = 0.8382806, step = 6401 (0.373 sec)\n",
            "INFO:tensorflow:global_step/sec: 267.045\n",
            "INFO:tensorflow:loss = 3.2397528, step = 6501 (0.371 sec)\n",
            "INFO:tensorflow:global_step/sec: 255.136\n",
            "INFO:tensorflow:loss = 0.5724763, step = 6601 (0.395 sec)\n",
            "INFO:tensorflow:global_step/sec: 261.433\n",
            "INFO:tensorflow:loss = 0.7476861, step = 6701 (0.379 sec)\n",
            "INFO:tensorflow:global_step/sec: 250.167\n",
            "INFO:tensorflow:loss = 1.4309572, step = 6801 (0.400 sec)\n",
            "INFO:tensorflow:global_step/sec: 246.141\n",
            "INFO:tensorflow:loss = 2.5965517, step = 6901 (0.406 sec)\n",
            "INFO:tensorflow:global_step/sec: 251.817\n",
            "INFO:tensorflow:loss = 0.69320035, step = 7001 (0.397 sec)\n",
            "INFO:tensorflow:global_step/sec: 255.234\n",
            "INFO:tensorflow:loss = 2.7330997, step = 7101 (0.395 sec)\n",
            "INFO:tensorflow:global_step/sec: 242.447\n",
            "INFO:tensorflow:loss = 0.7124129, step = 7201 (0.413 sec)\n",
            "INFO:tensorflow:global_step/sec: 254.475\n",
            "INFO:tensorflow:loss = 0.6267488, step = 7301 (0.392 sec)\n",
            "INFO:tensorflow:global_step/sec: 258.915\n",
            "INFO:tensorflow:loss = 0.80364865, step = 7401 (0.387 sec)\n",
            "INFO:tensorflow:global_step/sec: 243.108\n",
            "INFO:tensorflow:loss = 0.21667084, step = 7501 (0.409 sec)\n",
            "INFO:tensorflow:global_step/sec: 236.593\n",
            "INFO:tensorflow:loss = 0.2205269, step = 7601 (0.426 sec)\n",
            "INFO:tensorflow:global_step/sec: 256.228\n",
            "INFO:tensorflow:loss = 0.32955894, step = 7701 (0.387 sec)\n",
            "INFO:tensorflow:global_step/sec: 260.729\n",
            "INFO:tensorflow:loss = 0.7830403, step = 7801 (0.383 sec)\n",
            "INFO:tensorflow:global_step/sec: 249.204\n",
            "INFO:tensorflow:loss = 3.7982867, step = 7901 (0.402 sec)\n",
            "INFO:tensorflow:global_step/sec: 267.18\n",
            "INFO:tensorflow:loss = 0.13553634, step = 8001 (0.374 sec)\n",
            "INFO:tensorflow:global_step/sec: 257.28\n",
            "INFO:tensorflow:loss = 1.5072479, step = 8101 (0.389 sec)\n",
            "INFO:tensorflow:global_step/sec: 256.31\n",
            "INFO:tensorflow:loss = 0.0871005, step = 8201 (0.390 sec)\n",
            "INFO:tensorflow:global_step/sec: 254.082\n",
            "INFO:tensorflow:loss = 0.16120711, step = 8301 (0.393 sec)\n",
            "INFO:tensorflow:global_step/sec: 260.936\n",
            "INFO:tensorflow:loss = 0.834764, step = 8401 (0.383 sec)\n",
            "INFO:tensorflow:global_step/sec: 258.79\n",
            "INFO:tensorflow:loss = 0.041845653, step = 8501 (0.389 sec)\n",
            "INFO:tensorflow:global_step/sec: 267.704\n",
            "INFO:tensorflow:loss = 0.18332171, step = 8601 (0.372 sec)\n",
            "INFO:tensorflow:global_step/sec: 256.384\n",
            "INFO:tensorflow:loss = 0.06047704, step = 8701 (0.392 sec)\n",
            "INFO:tensorflow:global_step/sec: 265.496\n",
            "INFO:tensorflow:loss = 0.66747105, step = 8801 (0.376 sec)\n",
            "INFO:tensorflow:global_step/sec: 260.23\n",
            "INFO:tensorflow:loss = 0.08187083, step = 8901 (0.381 sec)\n",
            "INFO:tensorflow:global_step/sec: 258.796\n",
            "INFO:tensorflow:loss = 0.052124385, step = 9001 (0.387 sec)\n",
            "INFO:tensorflow:global_step/sec: 260.363\n",
            "INFO:tensorflow:loss = 0.67570806, step = 9101 (0.385 sec)\n",
            "INFO:tensorflow:global_step/sec: 267.869\n",
            "INFO:tensorflow:loss = 1.1735771, step = 9201 (0.375 sec)\n",
            "INFO:tensorflow:global_step/sec: 262.29\n",
            "INFO:tensorflow:loss = 0.14894603, step = 9301 (0.379 sec)\n",
            "INFO:tensorflow:global_step/sec: 256.855\n",
            "INFO:tensorflow:loss = 0.7862891, step = 9401 (0.390 sec)\n",
            "INFO:tensorflow:global_step/sec: 269.216\n",
            "INFO:tensorflow:loss = 0.17635486, step = 9501 (0.371 sec)\n",
            "INFO:tensorflow:global_step/sec: 267.019\n",
            "INFO:tensorflow:loss = 1.0595055, step = 9601 (0.374 sec)\n",
            "INFO:tensorflow:global_step/sec: 268.605\n",
            "INFO:tensorflow:loss = 0.5873934, step = 9701 (0.372 sec)\n",
            "INFO:tensorflow:global_step/sec: 268.322\n",
            "INFO:tensorflow:loss = 1.145127, step = 9801 (0.373 sec)\n",
            "INFO:tensorflow:global_step/sec: 265.566\n",
            "INFO:tensorflow:loss = 3.0469174, step = 9901 (0.377 sec)\n",
            "INFO:tensorflow:global_step/sec: 271.703\n",
            "INFO:tensorflow:loss = 0.13582942, step = 10001 (0.369 sec)\n",
            "INFO:tensorflow:global_step/sec: 265.654\n",
            "INFO:tensorflow:loss = 0.2117916, step = 10101 (0.377 sec)\n",
            "INFO:tensorflow:global_step/sec: 253.415\n",
            "INFO:tensorflow:loss = 0.12499764, step = 10201 (0.394 sec)\n",
            "INFO:tensorflow:global_step/sec: 242.481\n",
            "INFO:tensorflow:loss = 0.23625772, step = 10301 (0.412 sec)\n",
            "INFO:tensorflow:global_step/sec: 252.266\n",
            "INFO:tensorflow:loss = 1.4640169, step = 10401 (0.396 sec)\n",
            "INFO:tensorflow:global_step/sec: 247.733\n",
            "INFO:tensorflow:loss = 0.045306835, step = 10501 (0.406 sec)\n",
            "INFO:tensorflow:global_step/sec: 257.786\n",
            "INFO:tensorflow:loss = 0.32581863, step = 10601 (0.389 sec)\n",
            "INFO:tensorflow:global_step/sec: 260.316\n",
            "INFO:tensorflow:loss = 1.0760764, step = 10701 (0.385 sec)\n",
            "INFO:tensorflow:global_step/sec: 253.213\n",
            "INFO:tensorflow:loss = 0.17798445, step = 10801 (0.392 sec)\n",
            "INFO:tensorflow:global_step/sec: 245.293\n",
            "INFO:tensorflow:loss = 0.30755448, step = 10901 (0.407 sec)\n",
            "INFO:tensorflow:global_step/sec: 257.395\n",
            "INFO:tensorflow:loss = 0.21170549, step = 11001 (0.388 sec)\n",
            "INFO:tensorflow:global_step/sec: 258.126\n",
            "INFO:tensorflow:loss = 0.16923471, step = 11101 (0.387 sec)\n",
            "INFO:tensorflow:global_step/sec: 262.908\n",
            "INFO:tensorflow:loss = 0.072480716, step = 11201 (0.380 sec)\n",
            "INFO:tensorflow:global_step/sec: 263.979\n",
            "INFO:tensorflow:loss = 0.28556252, step = 11301 (0.380 sec)\n",
            "INFO:tensorflow:global_step/sec: 253.495\n",
            "INFO:tensorflow:loss = 0.3236903, step = 11401 (0.394 sec)\n",
            "INFO:tensorflow:global_step/sec: 265.245\n",
            "INFO:tensorflow:loss = 0.29959115, step = 11501 (0.377 sec)\n",
            "INFO:tensorflow:global_step/sec: 265.764\n",
            "INFO:tensorflow:loss = 1.073613, step = 11601 (0.376 sec)\n",
            "INFO:tensorflow:global_step/sec: 265.446\n",
            "INFO:tensorflow:loss = 0.11014727, step = 11701 (0.376 sec)\n",
            "INFO:tensorflow:global_step/sec: 252.239\n",
            "INFO:tensorflow:loss = 0.4040046, step = 11801 (0.397 sec)\n",
            "INFO:tensorflow:global_step/sec: 256.311\n",
            "INFO:tensorflow:loss = 0.10299469, step = 11901 (0.390 sec)\n",
            "INFO:tensorflow:global_step/sec: 261.83\n",
            "INFO:tensorflow:loss = 0.28364125, step = 12001 (0.382 sec)\n",
            "INFO:tensorflow:global_step/sec: 263.403\n",
            "INFO:tensorflow:loss = 0.11729457, step = 12101 (0.380 sec)\n",
            "INFO:tensorflow:global_step/sec: 261.22\n",
            "INFO:tensorflow:loss = 0.10810931, step = 12201 (0.383 sec)\n",
            "INFO:tensorflow:global_step/sec: 265.349\n",
            "INFO:tensorflow:loss = 0.12121902, step = 12301 (0.376 sec)\n",
            "INFO:tensorflow:global_step/sec: 266.504\n",
            "INFO:tensorflow:loss = 0.18455157, step = 12401 (0.375 sec)\n",
            "INFO:tensorflow:global_step/sec: 269.948\n",
            "INFO:tensorflow:loss = 0.053756014, step = 12501 (0.370 sec)\n",
            "INFO:tensorflow:global_step/sec: 272.054\n",
            "INFO:tensorflow:loss = 1.1547618, step = 12601 (0.368 sec)\n",
            "INFO:tensorflow:global_step/sec: 272.48\n",
            "INFO:tensorflow:loss = 0.5177358, step = 12701 (0.370 sec)\n",
            "INFO:tensorflow:global_step/sec: 269.597\n",
            "INFO:tensorflow:loss = 0.015414715, step = 12801 (0.372 sec)\n",
            "INFO:tensorflow:global_step/sec: 261.31\n",
            "INFO:tensorflow:loss = 0.15599233, step = 12901 (0.379 sec)\n",
            "INFO:tensorflow:global_step/sec: 241.713\n",
            "INFO:tensorflow:loss = 0.40234682, step = 13001 (0.416 sec)\n",
            "INFO:tensorflow:global_step/sec: 264.351\n",
            "INFO:tensorflow:loss = 0.4431235, step = 13101 (0.376 sec)\n",
            "INFO:tensorflow:global_step/sec: 277.086\n",
            "INFO:tensorflow:loss = 0.3491641, step = 13201 (0.361 sec)\n",
            "INFO:tensorflow:global_step/sec: 268.032\n",
            "INFO:tensorflow:loss = 0.10336249, step = 13301 (0.376 sec)\n",
            "INFO:tensorflow:global_step/sec: 249.175\n",
            "INFO:tensorflow:loss = 0.033960395, step = 13401 (0.398 sec)\n",
            "INFO:tensorflow:global_step/sec: 251.542\n",
            "INFO:tensorflow:loss = 0.55560833, step = 13501 (0.398 sec)\n",
            "INFO:tensorflow:global_step/sec: 258.585\n",
            "INFO:tensorflow:loss = 0.65473, step = 13601 (0.388 sec)\n",
            "INFO:tensorflow:global_step/sec: 268.407\n",
            "INFO:tensorflow:loss = 0.12781155, step = 13701 (0.371 sec)\n",
            "INFO:tensorflow:global_step/sec: 273.31\n",
            "INFO:tensorflow:loss = 0.033622906, step = 13801 (0.366 sec)\n",
            "INFO:tensorflow:global_step/sec: 276.363\n",
            "INFO:tensorflow:loss = 0.116587594, step = 13901 (0.362 sec)\n",
            "INFO:tensorflow:global_step/sec: 281.096\n",
            "INFO:tensorflow:loss = 0.2274147, step = 14001 (0.356 sec)\n",
            "INFO:tensorflow:global_step/sec: 272.792\n",
            "INFO:tensorflow:loss = 0.22454958, step = 14101 (0.367 sec)\n",
            "INFO:tensorflow:global_step/sec: 274.154\n",
            "INFO:tensorflow:loss = 0.052175287, step = 14201 (0.365 sec)\n",
            "INFO:tensorflow:global_step/sec: 272.419\n",
            "INFO:tensorflow:loss = 0.1021325, step = 14301 (0.367 sec)\n",
            "INFO:tensorflow:global_step/sec: 267.598\n",
            "INFO:tensorflow:loss = 0.08368854, step = 14401 (0.374 sec)\n",
            "INFO:tensorflow:global_step/sec: 254.901\n",
            "INFO:tensorflow:loss = 0.090382256, step = 14501 (0.395 sec)\n",
            "INFO:tensorflow:global_step/sec: 262.765\n",
            "INFO:tensorflow:loss = 0.18738323, step = 14601 (0.380 sec)\n",
            "INFO:tensorflow:global_step/sec: 264.239\n",
            "INFO:tensorflow:loss = 0.44141188, step = 14701 (0.377 sec)\n",
            "INFO:tensorflow:global_step/sec: 258.623\n",
            "INFO:tensorflow:loss = 0.11005139, step = 14801 (0.386 sec)\n",
            "INFO:tensorflow:global_step/sec: 264.759\n",
            "INFO:tensorflow:loss = 0.07965182, step = 14901 (0.378 sec)\n",
            "INFO:tensorflow:global_step/sec: 272.547\n",
            "INFO:tensorflow:loss = 0.020272117, step = 15001 (0.370 sec)\n",
            "INFO:tensorflow:global_step/sec: 263.919\n",
            "INFO:tensorflow:loss = 0.007613257, step = 15101 (0.376 sec)\n",
            "INFO:tensorflow:global_step/sec: 269.39\n",
            "INFO:tensorflow:loss = 0.07600632, step = 15201 (0.372 sec)\n",
            "INFO:tensorflow:global_step/sec: 269.071\n",
            "INFO:tensorflow:loss = 0.15855601, step = 15301 (0.370 sec)\n",
            "INFO:tensorflow:global_step/sec: 252.54\n",
            "INFO:tensorflow:loss = 0.2083596, step = 15401 (0.396 sec)\n",
            "INFO:tensorflow:global_step/sec: 260.69\n",
            "INFO:tensorflow:loss = 0.26713404, step = 15501 (0.384 sec)\n",
            "INFO:tensorflow:global_step/sec: 264.644\n",
            "INFO:tensorflow:loss = 0.13572718, step = 15601 (0.380 sec)\n",
            "INFO:tensorflow:global_step/sec: 248.785\n",
            "INFO:tensorflow:loss = 0.006007357, step = 15701 (0.400 sec)\n",
            "INFO:tensorflow:global_step/sec: 267.237\n",
            "INFO:tensorflow:loss = 0.514846, step = 15801 (0.374 sec)\n",
            "INFO:tensorflow:global_step/sec: 259.499\n",
            "INFO:tensorflow:loss = 0.11044077, step = 15901 (0.388 sec)\n",
            "INFO:tensorflow:global_step/sec: 262.102\n",
            "INFO:tensorflow:loss = 0.0728524, step = 16001 (0.379 sec)\n",
            "INFO:tensorflow:global_step/sec: 251.822\n",
            "INFO:tensorflow:loss = 0.272978, step = 16101 (0.397 sec)\n",
            "INFO:tensorflow:global_step/sec: 261.281\n",
            "INFO:tensorflow:loss = 0.046261594, step = 16201 (0.386 sec)\n",
            "INFO:tensorflow:global_step/sec: 258.483\n",
            "INFO:tensorflow:loss = 0.19864616, step = 16301 (0.384 sec)\n",
            "INFO:tensorflow:global_step/sec: 257.314\n",
            "INFO:tensorflow:loss = 0.1180887, step = 16401 (0.388 sec)\n",
            "INFO:tensorflow:global_step/sec: 264.199\n",
            "INFO:tensorflow:loss = 0.025173105, step = 16501 (0.378 sec)\n",
            "INFO:tensorflow:global_step/sec: 274.372\n",
            "INFO:tensorflow:loss = 0.059644125, step = 16601 (0.364 sec)\n",
            "INFO:tensorflow:global_step/sec: 266.129\n",
            "INFO:tensorflow:loss = 0.118399374, step = 16701 (0.376 sec)\n",
            "INFO:tensorflow:global_step/sec: 254.5\n",
            "INFO:tensorflow:loss = 0.075826995, step = 16801 (0.393 sec)\n",
            "INFO:tensorflow:global_step/sec: 263.037\n",
            "INFO:tensorflow:loss = 0.07103948, step = 16901 (0.380 sec)\n",
            "INFO:tensorflow:global_step/sec: 263.198\n",
            "INFO:tensorflow:loss = 0.11003336, step = 17001 (0.380 sec)\n",
            "INFO:tensorflow:global_step/sec: 266.018\n",
            "INFO:tensorflow:loss = 0.06488559, step = 17101 (0.376 sec)\n",
            "INFO:tensorflow:global_step/sec: 267.023\n",
            "INFO:tensorflow:loss = 0.33873865, step = 17201 (0.377 sec)\n",
            "INFO:tensorflow:global_step/sec: 259.54\n",
            "INFO:tensorflow:loss = 0.07105468, step = 17301 (0.383 sec)\n",
            "INFO:tensorflow:global_step/sec: 257.615\n",
            "INFO:tensorflow:loss = 0.08399907, step = 17401 (0.388 sec)\n",
            "INFO:tensorflow:global_step/sec: 260.536\n",
            "INFO:tensorflow:loss = 0.053773515, step = 17501 (0.384 sec)\n",
            "INFO:tensorflow:global_step/sec: 258.496\n",
            "INFO:tensorflow:loss = 0.14919537, step = 17601 (0.389 sec)\n",
            "INFO:tensorflow:global_step/sec: 268.599\n",
            "INFO:tensorflow:loss = 0.057361186, step = 17701 (0.370 sec)\n",
            "INFO:tensorflow:global_step/sec: 262.241\n",
            "INFO:tensorflow:loss = 0.054006904, step = 17801 (0.381 sec)\n",
            "INFO:tensorflow:global_step/sec: 257.214\n",
            "INFO:tensorflow:loss = 0.0890827, step = 17901 (0.389 sec)\n",
            "INFO:tensorflow:global_step/sec: 261.075\n",
            "INFO:tensorflow:loss = 0.06447801, step = 18001 (0.383 sec)\n",
            "INFO:tensorflow:global_step/sec: 248.387\n",
            "INFO:tensorflow:loss = 0.30365568, step = 18101 (0.403 sec)\n",
            "INFO:tensorflow:global_step/sec: 262.364\n",
            "INFO:tensorflow:loss = 0.005491883, step = 18201 (0.381 sec)\n",
            "INFO:tensorflow:global_step/sec: 259.693\n",
            "INFO:tensorflow:loss = 0.0865626, step = 18301 (0.385 sec)\n",
            "INFO:tensorflow:global_step/sec: 242.263\n",
            "INFO:tensorflow:loss = 1.6501064, step = 18401 (0.412 sec)\n",
            "INFO:tensorflow:global_step/sec: 256.678\n",
            "INFO:tensorflow:loss = 0.07475852, step = 18501 (0.390 sec)\n",
            "INFO:tensorflow:global_step/sec: 257.941\n",
            "INFO:tensorflow:loss = 0.019581243, step = 18601 (0.388 sec)\n",
            "INFO:tensorflow:global_step/sec: 261.609\n",
            "INFO:tensorflow:loss = 0.060638286, step = 18701 (0.384 sec)\n",
            "INFO:tensorflow:global_step/sec: 256.834\n",
            "INFO:tensorflow:loss = 0.11534613, step = 18801 (0.391 sec)\n",
            "INFO:tensorflow:global_step/sec: 263.35\n",
            "INFO:tensorflow:loss = 0.07987275, step = 18901 (0.380 sec)\n",
            "INFO:tensorflow:global_step/sec: 252.301\n",
            "INFO:tensorflow:loss = 0.07847654, step = 19001 (0.393 sec)\n",
            "INFO:tensorflow:global_step/sec: 270.93\n",
            "INFO:tensorflow:loss = 0.038255967, step = 19101 (0.369 sec)\n",
            "INFO:tensorflow:global_step/sec: 267.768\n",
            "INFO:tensorflow:loss = 0.19023043, step = 19201 (0.374 sec)\n",
            "INFO:tensorflow:global_step/sec: 257.499\n",
            "INFO:tensorflow:loss = 0.01029323, step = 19301 (0.389 sec)\n",
            "INFO:tensorflow:global_step/sec: 264.52\n",
            "INFO:tensorflow:loss = 0.033457942, step = 19401 (0.377 sec)\n",
            "INFO:tensorflow:global_step/sec: 271.276\n",
            "INFO:tensorflow:loss = 0.19393907, step = 19501 (0.369 sec)\n",
            "INFO:tensorflow:global_step/sec: 266.904\n",
            "INFO:tensorflow:loss = 0.09289772, step = 19601 (0.375 sec)\n",
            "INFO:tensorflow:global_step/sec: 267.455\n",
            "INFO:tensorflow:loss = 0.17535192, step = 19701 (0.374 sec)\n",
            "INFO:tensorflow:global_step/sec: 261.612\n",
            "INFO:tensorflow:loss = 0.10710466, step = 19801 (0.382 sec)\n",
            "INFO:tensorflow:global_step/sec: 255.2\n",
            "INFO:tensorflow:loss = 0.025792994, step = 19901 (0.392 sec)\n",
            "INFO:tensorflow:global_step/sec: 254.23\n",
            "INFO:tensorflow:loss = 0.28430748, step = 20001 (0.395 sec)\n",
            "INFO:tensorflow:global_step/sec: 259.894\n",
            "INFO:tensorflow:loss = 0.06693773, step = 20101 (0.383 sec)\n",
            "INFO:tensorflow:global_step/sec: 274.752\n",
            "INFO:tensorflow:loss = 0.056614053, step = 20201 (0.364 sec)\n",
            "INFO:tensorflow:global_step/sec: 269.629\n",
            "INFO:tensorflow:loss = 0.021383839, step = 20301 (0.373 sec)\n",
            "INFO:tensorflow:global_step/sec: 272.658\n",
            "INFO:tensorflow:loss = 0.015737463, step = 20401 (0.365 sec)\n",
            "INFO:tensorflow:global_step/sec: 264.454\n",
            "INFO:tensorflow:loss = 0.19531731, step = 20501 (0.378 sec)\n",
            "INFO:tensorflow:global_step/sec: 261.644\n",
            "INFO:tensorflow:loss = 0.10478035, step = 20601 (0.382 sec)\n",
            "INFO:tensorflow:global_step/sec: 272.122\n",
            "INFO:tensorflow:loss = 0.059790306, step = 20701 (0.371 sec)\n",
            "INFO:tensorflow:global_step/sec: 267.71\n",
            "INFO:tensorflow:loss = 0.04586291, step = 20801 (0.374 sec)\n",
            "INFO:tensorflow:global_step/sec: 257.443\n",
            "INFO:tensorflow:loss = 0.08023131, step = 20901 (0.385 sec)\n",
            "INFO:tensorflow:global_step/sec: 264.521\n",
            "INFO:tensorflow:loss = 0.05550537, step = 21001 (0.378 sec)\n",
            "INFO:tensorflow:global_step/sec: 270.305\n",
            "INFO:tensorflow:loss = 0.19711575, step = 21101 (0.370 sec)\n",
            "INFO:tensorflow:global_step/sec: 245.684\n",
            "INFO:tensorflow:loss = 0.15363772, step = 21201 (0.408 sec)\n",
            "INFO:tensorflow:global_step/sec: 264.653\n",
            "INFO:tensorflow:loss = 0.19073914, step = 21301 (0.380 sec)\n",
            "INFO:tensorflow:global_step/sec: 262.406\n",
            "INFO:tensorflow:loss = 0.021497224, step = 21401 (0.379 sec)\n",
            "INFO:tensorflow:global_step/sec: 269.764\n",
            "INFO:tensorflow:loss = 0.04821622, step = 21501 (0.370 sec)\n",
            "INFO:tensorflow:global_step/sec: 273.445\n",
            "INFO:tensorflow:loss = 0.114894316, step = 21601 (0.366 sec)\n",
            "INFO:tensorflow:global_step/sec: 258.843\n",
            "INFO:tensorflow:loss = 0.8701083, step = 21701 (0.386 sec)\n",
            "INFO:tensorflow:global_step/sec: 269.599\n",
            "INFO:tensorflow:loss = 0.022643179, step = 21801 (0.371 sec)\n",
            "INFO:tensorflow:global_step/sec: 265.682\n",
            "INFO:tensorflow:loss = 0.1747149, step = 21901 (0.377 sec)\n",
            "INFO:tensorflow:global_step/sec: 255.673\n",
            "INFO:tensorflow:loss = 0.035579175, step = 22001 (0.390 sec)\n",
            "INFO:tensorflow:global_step/sec: 263.848\n",
            "INFO:tensorflow:loss = 0.02719728, step = 22101 (0.379 sec)\n",
            "INFO:tensorflow:global_step/sec: 256.767\n",
            "INFO:tensorflow:loss = 0.088024855, step = 22201 (0.390 sec)\n",
            "INFO:tensorflow:global_step/sec: 262.6\n",
            "INFO:tensorflow:loss = 0.08481722, step = 22301 (0.382 sec)\n",
            "INFO:tensorflow:global_step/sec: 274.025\n",
            "INFO:tensorflow:loss = 0.11674097, step = 22401 (0.364 sec)\n",
            "INFO:tensorflow:global_step/sec: 261.81\n",
            "INFO:tensorflow:loss = 0.03976874, step = 22501 (0.381 sec)\n",
            "INFO:tensorflow:global_step/sec: 267.899\n",
            "INFO:tensorflow:loss = 0.030989045, step = 22601 (0.373 sec)\n",
            "INFO:tensorflow:global_step/sec: 255.038\n",
            "INFO:tensorflow:loss = 0.082824394, step = 22701 (0.392 sec)\n",
            "INFO:tensorflow:global_step/sec: 274.446\n",
            "INFO:tensorflow:loss = 0.0118159475, step = 22801 (0.364 sec)\n",
            "INFO:tensorflow:global_step/sec: 259.708\n",
            "INFO:tensorflow:loss = 0.09470672, step = 22901 (0.386 sec)\n",
            "INFO:tensorflow:global_step/sec: 263.537\n",
            "INFO:tensorflow:loss = 0.05058392, step = 23001 (0.379 sec)\n",
            "INFO:tensorflow:global_step/sec: 260.68\n",
            "INFO:tensorflow:loss = 0.10024564, step = 23101 (0.384 sec)\n",
            "INFO:tensorflow:global_step/sec: 263.392\n",
            "INFO:tensorflow:loss = 0.016372062, step = 23201 (0.381 sec)\n",
            "INFO:tensorflow:global_step/sec: 268.186\n",
            "INFO:tensorflow:loss = 0.07268509, step = 23301 (0.373 sec)\n",
            "INFO:tensorflow:global_step/sec: 262.845\n",
            "INFO:tensorflow:loss = 0.040799484, step = 23401 (0.378 sec)\n",
            "INFO:tensorflow:global_step/sec: 264.534\n",
            "INFO:tensorflow:loss = 0.040235855, step = 23501 (0.379 sec)\n",
            "INFO:tensorflow:global_step/sec: 271.22\n",
            "INFO:tensorflow:loss = 0.015068265, step = 23601 (0.368 sec)\n",
            "INFO:tensorflow:global_step/sec: 274.729\n",
            "INFO:tensorflow:loss = 0.06692423, step = 23701 (0.364 sec)\n",
            "INFO:tensorflow:global_step/sec: 269.253\n",
            "INFO:tensorflow:loss = 0.045514014, step = 23801 (0.371 sec)\n",
            "INFO:tensorflow:global_step/sec: 273.305\n",
            "INFO:tensorflow:loss = 0.0056108506, step = 23901 (0.366 sec)\n",
            "INFO:tensorflow:global_step/sec: 250.728\n",
            "INFO:tensorflow:loss = 0.0008075653, step = 24001 (0.400 sec)\n",
            "INFO:tensorflow:global_step/sec: 277.171\n",
            "INFO:tensorflow:loss = 0.037089672, step = 24101 (0.360 sec)\n",
            "INFO:tensorflow:global_step/sec: 260.879\n",
            "INFO:tensorflow:loss = 0.06971568, step = 24201 (0.384 sec)\n",
            "INFO:tensorflow:global_step/sec: 262.181\n",
            "INFO:tensorflow:loss = 0.018599566, step = 24301 (0.381 sec)\n",
            "INFO:tensorflow:global_step/sec: 270.148\n",
            "INFO:tensorflow:loss = 0.012290841, step = 24401 (0.371 sec)\n",
            "INFO:tensorflow:global_step/sec: 260.09\n",
            "INFO:tensorflow:loss = 0.118152045, step = 24501 (0.384 sec)\n",
            "INFO:tensorflow:global_step/sec: 268.531\n",
            "INFO:tensorflow:loss = 0.070488885, step = 24601 (0.372 sec)\n",
            "INFO:tensorflow:global_step/sec: 269.28\n",
            "INFO:tensorflow:loss = 0.04882428, step = 24701 (0.371 sec)\n",
            "INFO:tensorflow:global_step/sec: 268.699\n",
            "INFO:tensorflow:loss = 0.043567255, step = 24801 (0.372 sec)\n",
            "INFO:tensorflow:global_step/sec: 265.851\n",
            "INFO:tensorflow:loss = 0.009102919, step = 24901 (0.380 sec)\n",
            "INFO:tensorflow:global_step/sec: 263.332\n",
            "INFO:tensorflow:loss = 0.042992264, step = 25001 (0.376 sec)\n",
            "INFO:tensorflow:global_step/sec: 270.189\n",
            "INFO:tensorflow:loss = 0.005248058, step = 25101 (0.372 sec)\n",
            "INFO:tensorflow:global_step/sec: 261.453\n",
            "INFO:tensorflow:loss = 0.07018986, step = 25201 (0.381 sec)\n",
            "INFO:tensorflow:global_step/sec: 269.158\n",
            "INFO:tensorflow:loss = 0.04257345, step = 25301 (0.371 sec)\n",
            "INFO:tensorflow:global_step/sec: 269.756\n",
            "INFO:tensorflow:loss = 0.036608323, step = 25401 (0.371 sec)\n",
            "INFO:tensorflow:global_step/sec: 256.839\n",
            "INFO:tensorflow:loss = 0.016755914, step = 25501 (0.390 sec)\n",
            "INFO:tensorflow:global_step/sec: 254.832\n",
            "INFO:tensorflow:loss = 0.055202257, step = 25601 (0.393 sec)\n",
            "INFO:tensorflow:global_step/sec: 256.977\n",
            "INFO:tensorflow:loss = 0.011133973, step = 25701 (0.390 sec)\n",
            "INFO:tensorflow:global_step/sec: 262.226\n",
            "INFO:tensorflow:loss = 0.051319633, step = 25801 (0.380 sec)\n",
            "INFO:tensorflow:global_step/sec: 267.993\n",
            "INFO:tensorflow:loss = 0.14013414, step = 25901 (0.373 sec)\n",
            "INFO:tensorflow:global_step/sec: 256.799\n",
            "INFO:tensorflow:loss = 0.03408589, step = 26001 (0.389 sec)\n",
            "INFO:tensorflow:global_step/sec: 259.495\n",
            "INFO:tensorflow:loss = 0.037359208, step = 26101 (0.385 sec)\n",
            "INFO:tensorflow:global_step/sec: 266.509\n",
            "INFO:tensorflow:loss = 0.08340158, step = 26201 (0.376 sec)\n",
            "INFO:tensorflow:global_step/sec: 259.915\n",
            "INFO:tensorflow:loss = 0.024401795, step = 26301 (0.384 sec)\n",
            "INFO:tensorflow:global_step/sec: 257.747\n",
            "INFO:tensorflow:loss = 0.01911679, step = 26401 (0.390 sec)\n",
            "INFO:tensorflow:global_step/sec: 254.567\n",
            "INFO:tensorflow:loss = 0.030369498, step = 26501 (0.391 sec)\n",
            "INFO:tensorflow:global_step/sec: 251.983\n",
            "INFO:tensorflow:loss = 0.00805302, step = 26601 (0.397 sec)\n",
            "INFO:tensorflow:global_step/sec: 245.14\n",
            "INFO:tensorflow:loss = 0.06278868, step = 26701 (0.410 sec)\n",
            "INFO:tensorflow:global_step/sec: 253.857\n",
            "INFO:tensorflow:loss = 0.0099055115, step = 26801 (0.392 sec)\n",
            "INFO:tensorflow:global_step/sec: 254.994\n",
            "INFO:tensorflow:loss = 0.10770736, step = 26901 (0.392 sec)\n",
            "INFO:tensorflow:global_step/sec: 261.776\n",
            "INFO:tensorflow:loss = 0.019894235, step = 27001 (0.382 sec)\n",
            "INFO:tensorflow:global_step/sec: 270.548\n",
            "INFO:tensorflow:loss = 0.05938486, step = 27101 (0.369 sec)\n",
            "INFO:tensorflow:global_step/sec: 259.58\n",
            "INFO:tensorflow:loss = 0.011089088, step = 27201 (0.388 sec)\n",
            "INFO:tensorflow:global_step/sec: 268\n",
            "INFO:tensorflow:loss = 0.10076195, step = 27301 (0.375 sec)\n",
            "INFO:tensorflow:global_step/sec: 261.345\n",
            "INFO:tensorflow:loss = 0.053952932, step = 27401 (0.380 sec)\n",
            "INFO:tensorflow:global_step/sec: 261.122\n",
            "INFO:tensorflow:loss = 0.027156021, step = 27501 (0.384 sec)\n",
            "INFO:tensorflow:global_step/sec: 265.588\n",
            "INFO:tensorflow:loss = 0.026680354, step = 27601 (0.374 sec)\n",
            "INFO:tensorflow:global_step/sec: 250.055\n",
            "INFO:tensorflow:loss = 0.021708552, step = 27701 (0.400 sec)\n",
            "INFO:tensorflow:global_step/sec: 263.125\n",
            "INFO:tensorflow:loss = 0.019964106, step = 27801 (0.380 sec)\n",
            "INFO:tensorflow:global_step/sec: 249.578\n",
            "INFO:tensorflow:loss = 0.097233884, step = 27901 (0.404 sec)\n",
            "INFO:tensorflow:global_step/sec: 255.636\n",
            "INFO:tensorflow:loss = 0.02618486, step = 28001 (0.391 sec)\n",
            "INFO:tensorflow:global_step/sec: 262.437\n",
            "INFO:tensorflow:loss = 0.03958441, step = 28101 (0.378 sec)\n",
            "INFO:tensorflow:global_step/sec: 265.809\n",
            "INFO:tensorflow:loss = 0.027189156, step = 28201 (0.376 sec)\n",
            "INFO:tensorflow:global_step/sec: 264.196\n",
            "INFO:tensorflow:loss = 0.004316256, step = 28301 (0.378 sec)\n",
            "INFO:tensorflow:global_step/sec: 266.837\n",
            "INFO:tensorflow:loss = 0.015171319, step = 28401 (0.375 sec)\n",
            "INFO:tensorflow:global_step/sec: 262.629\n",
            "INFO:tensorflow:loss = 0.022700218, step = 28501 (0.381 sec)\n",
            "INFO:tensorflow:global_step/sec: 253.847\n",
            "INFO:tensorflow:loss = 0.034802224, step = 28601 (0.396 sec)\n",
            "INFO:tensorflow:global_step/sec: 252.612\n",
            "INFO:tensorflow:loss = 0.03445378, step = 28701 (0.393 sec)\n",
            "INFO:tensorflow:global_step/sec: 252.523\n",
            "INFO:tensorflow:loss = 0.010507863, step = 28801 (0.396 sec)\n",
            "INFO:tensorflow:global_step/sec: 258.353\n",
            "INFO:tensorflow:loss = 0.019127991, step = 28901 (0.387 sec)\n",
            "INFO:tensorflow:global_step/sec: 238.126\n",
            "INFO:tensorflow:loss = 0.031879652, step = 29001 (0.422 sec)\n",
            "INFO:tensorflow:global_step/sec: 253.48\n",
            "INFO:tensorflow:loss = 0.04195629, step = 29101 (0.393 sec)\n",
            "INFO:tensorflow:global_step/sec: 258.861\n",
            "INFO:tensorflow:loss = 0.031768087, step = 29201 (0.386 sec)\n",
            "INFO:tensorflow:global_step/sec: 245.019\n",
            "INFO:tensorflow:loss = 0.063252375, step = 29301 (0.408 sec)\n",
            "INFO:tensorflow:global_step/sec: 231.552\n",
            "INFO:tensorflow:loss = 0.01886039, step = 29401 (0.432 sec)\n",
            "INFO:tensorflow:global_step/sec: 266.221\n",
            "INFO:tensorflow:loss = 0.079227194, step = 29501 (0.376 sec)\n",
            "INFO:tensorflow:global_step/sec: 264.042\n",
            "INFO:tensorflow:loss = 0.0838942, step = 29601 (0.379 sec)\n",
            "INFO:tensorflow:global_step/sec: 260.864\n",
            "INFO:tensorflow:loss = 0.047540933, step = 29701 (0.383 sec)\n",
            "INFO:tensorflow:global_step/sec: 254.267\n",
            "INFO:tensorflow:loss = 0.019121684, step = 29801 (0.396 sec)\n",
            "INFO:tensorflow:global_step/sec: 251.791\n",
            "INFO:tensorflow:loss = 0.029539894, step = 29901 (0.395 sec)\n",
            "INFO:tensorflow:global_step/sec: 260.28\n",
            "INFO:tensorflow:loss = 0.007830178, step = 30001 (0.384 sec)\n",
            "INFO:tensorflow:global_step/sec: 250.427\n",
            "INFO:tensorflow:loss = 0.10224104, step = 30101 (0.400 sec)\n",
            "INFO:tensorflow:global_step/sec: 254.762\n",
            "INFO:tensorflow:loss = 0.025043886, step = 30201 (0.392 sec)\n",
            "INFO:tensorflow:global_step/sec: 257.534\n",
            "INFO:tensorflow:loss = 0.01791691, step = 30301 (0.388 sec)\n",
            "INFO:tensorflow:global_step/sec: 261.362\n",
            "INFO:tensorflow:loss = 0.003595073, step = 30401 (0.383 sec)\n",
            "INFO:tensorflow:global_step/sec: 264.442\n",
            "INFO:tensorflow:loss = 0.0011176097, step = 30501 (0.379 sec)\n",
            "INFO:tensorflow:global_step/sec: 253.36\n",
            "INFO:tensorflow:loss = 0.037988275, step = 30601 (0.394 sec)\n",
            "INFO:tensorflow:global_step/sec: 259.513\n",
            "INFO:tensorflow:loss = 0.06109003, step = 30701 (0.385 sec)\n",
            "INFO:tensorflow:global_step/sec: 257.891\n",
            "INFO:tensorflow:loss = 0.0026285509, step = 30801 (0.388 sec)\n",
            "INFO:tensorflow:global_step/sec: 262.965\n",
            "INFO:tensorflow:loss = 0.0048704105, step = 30901 (0.380 sec)\n",
            "INFO:tensorflow:global_step/sec: 260.755\n",
            "INFO:tensorflow:loss = 0.021654943, step = 31001 (0.384 sec)\n",
            "INFO:tensorflow:global_step/sec: 254.306\n",
            "INFO:tensorflow:loss = 0.012230373, step = 31101 (0.392 sec)\n",
            "INFO:tensorflow:global_step/sec: 252.137\n",
            "INFO:tensorflow:loss = 0.019000942, step = 31201 (0.397 sec)\n",
            "INFO:tensorflow:global_step/sec: 258.594\n",
            "INFO:tensorflow:loss = 0.0077348277, step = 31301 (0.388 sec)\n",
            "INFO:tensorflow:global_step/sec: 262.013\n",
            "INFO:tensorflow:loss = 0.00809276, step = 31401 (0.380 sec)\n",
            "INFO:tensorflow:global_step/sec: 265.809\n",
            "INFO:tensorflow:loss = 0.0021387981, step = 31501 (0.377 sec)\n",
            "INFO:tensorflow:global_step/sec: 265.68\n",
            "INFO:tensorflow:loss = 0.00012445248, step = 31601 (0.376 sec)\n",
            "INFO:tensorflow:global_step/sec: 263.001\n",
            "INFO:tensorflow:loss = 0.0075452826, step = 31701 (0.383 sec)\n",
            "INFO:tensorflow:global_step/sec: 263.599\n",
            "INFO:tensorflow:loss = 0.03545042, step = 31801 (0.381 sec)\n",
            "INFO:tensorflow:global_step/sec: 265.421\n",
            "INFO:tensorflow:loss = 0.0037723633, step = 31901 (0.374 sec)\n",
            "INFO:tensorflow:global_step/sec: 249.745\n",
            "INFO:tensorflow:loss = 0.0077342708, step = 32001 (0.403 sec)\n",
            "INFO:tensorflow:global_step/sec: 236.427\n",
            "INFO:tensorflow:loss = 0.016656741, step = 32101 (0.420 sec)\n",
            "INFO:tensorflow:global_step/sec: 251.801\n",
            "INFO:tensorflow:loss = 0.014688995, step = 32201 (0.401 sec)\n",
            "INFO:tensorflow:global_step/sec: 249.617\n",
            "INFO:tensorflow:loss = 0.04694268, step = 32301 (0.400 sec)\n",
            "INFO:tensorflow:global_step/sec: 262.864\n",
            "INFO:tensorflow:loss = 0.049313016, step = 32401 (0.378 sec)\n",
            "INFO:tensorflow:global_step/sec: 261.372\n",
            "INFO:tensorflow:loss = 0.010681088, step = 32501 (0.382 sec)\n",
            "INFO:tensorflow:global_step/sec: 262.222\n",
            "INFO:tensorflow:loss = 0.17533799, step = 32601 (0.385 sec)\n",
            "INFO:tensorflow:global_step/sec: 246.638\n",
            "INFO:tensorflow:loss = 0.017085167, step = 32701 (0.402 sec)\n",
            "INFO:tensorflow:global_step/sec: 265.01\n",
            "INFO:tensorflow:loss = 0.023157649, step = 32801 (0.377 sec)\n",
            "INFO:tensorflow:global_step/sec: 261.983\n",
            "INFO:tensorflow:loss = 0.03695224, step = 32901 (0.382 sec)\n",
            "INFO:tensorflow:global_step/sec: 266.465\n",
            "INFO:tensorflow:loss = 0.012761459, step = 33001 (0.375 sec)\n",
            "INFO:tensorflow:global_step/sec: 260.263\n",
            "INFO:tensorflow:loss = 0.007832587, step = 33101 (0.384 sec)\n",
            "INFO:tensorflow:global_step/sec: 255.375\n",
            "INFO:tensorflow:loss = 0.013769224, step = 33201 (0.392 sec)\n",
            "INFO:tensorflow:global_step/sec: 251.112\n",
            "INFO:tensorflow:loss = 0.041640297, step = 33301 (0.398 sec)\n",
            "INFO:tensorflow:global_step/sec: 257.775\n",
            "INFO:tensorflow:loss = 0.003451642, step = 33401 (0.388 sec)\n",
            "INFO:tensorflow:global_step/sec: 261.443\n",
            "INFO:tensorflow:loss = 0.046942487, step = 33501 (0.383 sec)\n",
            "INFO:tensorflow:global_step/sec: 259.371\n",
            "INFO:tensorflow:loss = 0.06518382, step = 33601 (0.385 sec)\n",
            "INFO:tensorflow:global_step/sec: 256.342\n",
            "INFO:tensorflow:loss = 0.0053657596, step = 33701 (0.390 sec)\n",
            "INFO:tensorflow:global_step/sec: 254.26\n",
            "INFO:tensorflow:loss = 0.005335844, step = 33801 (0.397 sec)\n",
            "INFO:tensorflow:global_step/sec: 258.031\n",
            "INFO:tensorflow:loss = 0.010394301, step = 33901 (0.384 sec)\n",
            "INFO:tensorflow:global_step/sec: 259.927\n",
            "INFO:tensorflow:loss = 0.045486566, step = 34001 (0.388 sec)\n",
            "INFO:tensorflow:global_step/sec: 255.543\n",
            "INFO:tensorflow:loss = 0.04604127, step = 34101 (0.388 sec)\n",
            "INFO:tensorflow:global_step/sec: 254.513\n",
            "INFO:tensorflow:loss = 0.025780581, step = 34201 (0.393 sec)\n",
            "INFO:tensorflow:global_step/sec: 239.194\n",
            "INFO:tensorflow:loss = 0.0013382065, step = 34301 (0.418 sec)\n",
            "INFO:tensorflow:global_step/sec: 245.673\n",
            "INFO:tensorflow:loss = 0.018959863, step = 34401 (0.407 sec)\n",
            "INFO:tensorflow:global_step/sec: 268.81\n",
            "INFO:tensorflow:loss = 0.028834542, step = 34501 (0.372 sec)\n",
            "INFO:tensorflow:global_step/sec: 257.096\n",
            "INFO:tensorflow:loss = 0.0146106705, step = 34601 (0.390 sec)\n",
            "INFO:tensorflow:global_step/sec: 240.072\n",
            "INFO:tensorflow:loss = 0.019934494, step = 34701 (0.415 sec)\n",
            "INFO:tensorflow:global_step/sec: 259.879\n",
            "INFO:tensorflow:loss = 0.008407047, step = 34801 (0.385 sec)\n",
            "INFO:tensorflow:global_step/sec: 256.718\n",
            "INFO:tensorflow:loss = 0.0029178457, step = 34901 (0.389 sec)\n",
            "INFO:tensorflow:global_step/sec: 253.122\n",
            "INFO:tensorflow:loss = 0.0040425304, step = 35001 (0.397 sec)\n",
            "INFO:tensorflow:global_step/sec: 267.236\n",
            "INFO:tensorflow:loss = 0.034377035, step = 35101 (0.372 sec)\n",
            "INFO:tensorflow:global_step/sec: 260.565\n",
            "INFO:tensorflow:loss = 0.025117407, step = 35201 (0.384 sec)\n",
            "INFO:tensorflow:global_step/sec: 259.897\n",
            "INFO:tensorflow:loss = 0.014636657, step = 35301 (0.385 sec)\n",
            "INFO:tensorflow:global_step/sec: 266.723\n",
            "INFO:tensorflow:loss = 0.019595835, step = 35401 (0.375 sec)\n",
            "INFO:tensorflow:global_step/sec: 255.553\n",
            "INFO:tensorflow:loss = 0.008599031, step = 35501 (0.391 sec)\n",
            "INFO:tensorflow:global_step/sec: 252.207\n",
            "INFO:tensorflow:loss = 0.018775184, step = 35601 (0.396 sec)\n",
            "INFO:tensorflow:global_step/sec: 248.162\n",
            "INFO:tensorflow:loss = 0.015579866, step = 35701 (0.404 sec)\n",
            "INFO:tensorflow:global_step/sec: 251.227\n",
            "INFO:tensorflow:loss = 0.054682348, step = 35801 (0.398 sec)\n",
            "INFO:tensorflow:global_step/sec: 255.015\n",
            "INFO:tensorflow:loss = 0.09111954, step = 35901 (0.392 sec)\n",
            "INFO:tensorflow:global_step/sec: 262.06\n",
            "INFO:tensorflow:loss = 0.006270367, step = 36001 (0.382 sec)\n",
            "INFO:tensorflow:global_step/sec: 258.431\n",
            "INFO:tensorflow:loss = 0.0070397723, step = 36101 (0.387 sec)\n",
            "INFO:tensorflow:global_step/sec: 264.597\n",
            "INFO:tensorflow:loss = 0.06422097, step = 36201 (0.378 sec)\n",
            "INFO:tensorflow:global_step/sec: 267.421\n",
            "INFO:tensorflow:loss = 0.018281937, step = 36301 (0.374 sec)\n",
            "INFO:tensorflow:global_step/sec: 264.609\n",
            "INFO:tensorflow:loss = 0.017015994, step = 36401 (0.378 sec)\n",
            "INFO:tensorflow:global_step/sec: 264.459\n",
            "INFO:tensorflow:loss = 0.055779926, step = 36501 (0.378 sec)\n",
            "INFO:tensorflow:global_step/sec: 258.6\n",
            "INFO:tensorflow:loss = 0.010854771, step = 36601 (0.386 sec)\n",
            "INFO:tensorflow:global_step/sec: 252.504\n",
            "INFO:tensorflow:loss = 0.006109002, step = 36701 (0.397 sec)\n",
            "INFO:tensorflow:global_step/sec: 260.772\n",
            "INFO:tensorflow:loss = 0.05351662, step = 36801 (0.384 sec)\n",
            "INFO:tensorflow:global_step/sec: 272.052\n",
            "INFO:tensorflow:loss = 0.020552384, step = 36901 (0.367 sec)\n",
            "INFO:tensorflow:global_step/sec: 265.432\n",
            "INFO:tensorflow:loss = 0.0041962606, step = 37001 (0.377 sec)\n",
            "INFO:tensorflow:global_step/sec: 252.319\n",
            "INFO:tensorflow:loss = 0.00084786187, step = 37101 (0.396 sec)\n",
            "INFO:tensorflow:global_step/sec: 256.136\n",
            "INFO:tensorflow:loss = 0.015254988, step = 37201 (0.390 sec)\n",
            "INFO:tensorflow:global_step/sec: 260.66\n",
            "INFO:tensorflow:loss = 0.036682464, step = 37301 (0.384 sec)\n",
            "INFO:tensorflow:global_step/sec: 241.159\n",
            "INFO:tensorflow:loss = 0.04735557, step = 37401 (0.415 sec)\n",
            "INFO:tensorflow:global_step/sec: 249.193\n",
            "INFO:tensorflow:loss = 0.010386316, step = 37501 (0.401 sec)\n",
            "INFO:tensorflow:global_step/sec: 259.242\n",
            "INFO:tensorflow:loss = 0.018641997, step = 37601 (0.386 sec)\n",
            "INFO:tensorflow:global_step/sec: 256.159\n",
            "INFO:tensorflow:loss = 0.018233716, step = 37701 (0.393 sec)\n",
            "INFO:tensorflow:global_step/sec: 257.824\n",
            "INFO:tensorflow:loss = 0.012061377, step = 37801 (0.386 sec)\n",
            "INFO:tensorflow:global_step/sec: 258.408\n",
            "INFO:tensorflow:loss = 0.033743847, step = 37901 (0.387 sec)\n",
            "INFO:tensorflow:global_step/sec: 261.874\n",
            "INFO:tensorflow:loss = 0.050798193, step = 38001 (0.384 sec)\n",
            "INFO:tensorflow:global_step/sec: 258.592\n",
            "INFO:tensorflow:loss = 0.030640857, step = 38101 (0.385 sec)\n",
            "INFO:tensorflow:global_step/sec: 260.126\n",
            "INFO:tensorflow:loss = 0.048098214, step = 38201 (0.386 sec)\n",
            "INFO:tensorflow:global_step/sec: 255.094\n",
            "INFO:tensorflow:loss = 0.024268514, step = 38301 (0.391 sec)\n",
            "INFO:tensorflow:global_step/sec: 270.722\n",
            "INFO:tensorflow:loss = 0.019413587, step = 38401 (0.369 sec)\n",
            "INFO:tensorflow:global_step/sec: 256.363\n",
            "INFO:tensorflow:loss = 0.0027642944, step = 38501 (0.391 sec)\n",
            "INFO:tensorflow:global_step/sec: 257.309\n",
            "INFO:tensorflow:loss = 0.0047345725, step = 38601 (0.388 sec)\n",
            "INFO:tensorflow:global_step/sec: 258.262\n",
            "INFO:tensorflow:loss = 0.011736515, step = 38701 (0.387 sec)\n",
            "INFO:tensorflow:global_step/sec: 255.588\n",
            "INFO:tensorflow:loss = 0.03540519, step = 38801 (0.393 sec)\n",
            "INFO:tensorflow:global_step/sec: 254.111\n",
            "INFO:tensorflow:loss = 0.004137841, step = 38901 (0.391 sec)\n",
            "INFO:tensorflow:global_step/sec: 260.246\n",
            "INFO:tensorflow:loss = 0.02229363, step = 39001 (0.385 sec)\n",
            "INFO:tensorflow:global_step/sec: 257.685\n",
            "INFO:tensorflow:loss = 0.007837409, step = 39101 (0.387 sec)\n",
            "INFO:tensorflow:global_step/sec: 273.332\n",
            "INFO:tensorflow:loss = 0.050463807, step = 39201 (0.366 sec)\n",
            "INFO:tensorflow:global_step/sec: 261.172\n",
            "INFO:tensorflow:loss = 0.0027892287, step = 39301 (0.383 sec)\n",
            "INFO:tensorflow:global_step/sec: 260.202\n",
            "INFO:tensorflow:loss = 0.037510067, step = 39401 (0.384 sec)\n",
            "INFO:tensorflow:global_step/sec: 259.363\n",
            "INFO:tensorflow:loss = 0.0069814827, step = 39501 (0.386 sec)\n",
            "INFO:tensorflow:global_step/sec: 255.297\n",
            "INFO:tensorflow:loss = 0.00841441, step = 39601 (0.392 sec)\n",
            "INFO:tensorflow:global_step/sec: 256.571\n",
            "INFO:tensorflow:loss = 0.015691929, step = 39701 (0.390 sec)\n",
            "INFO:tensorflow:global_step/sec: 254.446\n",
            "INFO:tensorflow:loss = 0.010169952, step = 39801 (0.392 sec)\n",
            "INFO:tensorflow:global_step/sec: 259.195\n",
            "INFO:tensorflow:loss = 0.038367607, step = 39901 (0.386 sec)\n",
            "INFO:tensorflow:global_step/sec: 258.417\n",
            "INFO:tensorflow:loss = 0.019285455, step = 40001 (0.387 sec)\n",
            "INFO:tensorflow:global_step/sec: 236.332\n",
            "INFO:tensorflow:loss = 0.02161903, step = 40101 (0.424 sec)\n",
            "INFO:tensorflow:global_step/sec: 263.821\n",
            "INFO:tensorflow:loss = 0.0031844925, step = 40201 (0.378 sec)\n",
            "INFO:tensorflow:global_step/sec: 257.2\n",
            "INFO:tensorflow:loss = 0.0151618915, step = 40301 (0.389 sec)\n",
            "INFO:tensorflow:global_step/sec: 246.941\n",
            "INFO:tensorflow:loss = 0.0013506864, step = 40401 (0.405 sec)\n",
            "INFO:tensorflow:global_step/sec: 249.337\n",
            "INFO:tensorflow:loss = 0.018814554, step = 40501 (0.401 sec)\n",
            "INFO:tensorflow:global_step/sec: 258.912\n",
            "INFO:tensorflow:loss = 0.016815823, step = 40601 (0.390 sec)\n",
            "INFO:tensorflow:global_step/sec: 254.188\n",
            "INFO:tensorflow:loss = 0.01662087, step = 40701 (0.394 sec)\n",
            "INFO:tensorflow:global_step/sec: 258.572\n",
            "INFO:tensorflow:loss = 0.03139157, step = 40801 (0.386 sec)\n",
            "INFO:tensorflow:global_step/sec: 258.98\n",
            "INFO:tensorflow:loss = 0.04676171, step = 40901 (0.383 sec)\n",
            "INFO:tensorflow:global_step/sec: 263.13\n",
            "INFO:tensorflow:loss = 0.030004455, step = 41001 (0.381 sec)\n",
            "INFO:tensorflow:global_step/sec: 263.453\n",
            "INFO:tensorflow:loss = 0.034994338, step = 41101 (0.379 sec)\n",
            "INFO:tensorflow:global_step/sec: 259.42\n",
            "INFO:tensorflow:loss = 0.022700392, step = 41201 (0.386 sec)\n",
            "INFO:tensorflow:global_step/sec: 262.401\n",
            "INFO:tensorflow:loss = 0.030185986, step = 41301 (0.384 sec)\n",
            "INFO:tensorflow:global_step/sec: 253.788\n",
            "INFO:tensorflow:loss = 0.008141879, step = 41401 (0.393 sec)\n",
            "INFO:tensorflow:global_step/sec: 263.737\n",
            "INFO:tensorflow:loss = 0.1250609, step = 41501 (0.377 sec)\n",
            "INFO:tensorflow:global_step/sec: 270.824\n",
            "INFO:tensorflow:loss = 0.0075457627, step = 41601 (0.369 sec)\n",
            "INFO:tensorflow:global_step/sec: 254.426\n",
            "INFO:tensorflow:loss = 0.021046557, step = 41701 (0.397 sec)\n",
            "INFO:tensorflow:global_step/sec: 254.47\n",
            "INFO:tensorflow:loss = 0.01837969, step = 41801 (0.393 sec)\n",
            "INFO:tensorflow:global_step/sec: 251.011\n",
            "INFO:tensorflow:loss = 0.005163382, step = 41901 (0.396 sec)\n",
            "INFO:tensorflow:global_step/sec: 257.858\n",
            "INFO:tensorflow:loss = 0.0018366827, step = 42001 (0.387 sec)\n",
            "INFO:tensorflow:global_step/sec: 253.754\n",
            "INFO:tensorflow:loss = 0.021934131, step = 42101 (0.393 sec)\n",
            "INFO:tensorflow:global_step/sec: 266.926\n",
            "INFO:tensorflow:loss = 0.018742008, step = 42201 (0.376 sec)\n",
            "INFO:tensorflow:global_step/sec: 267.597\n",
            "INFO:tensorflow:loss = 0.0018705149, step = 42301 (0.373 sec)\n",
            "INFO:tensorflow:global_step/sec: 251.584\n",
            "INFO:tensorflow:loss = 0.0054300185, step = 42401 (0.400 sec)\n",
            "INFO:tensorflow:global_step/sec: 247.359\n",
            "INFO:tensorflow:loss = 0.013712748, step = 42501 (0.402 sec)\n",
            "INFO:tensorflow:global_step/sec: 256.977\n",
            "INFO:tensorflow:loss = 0.018924482, step = 42601 (0.389 sec)\n",
            "INFO:tensorflow:global_step/sec: 254.892\n",
            "INFO:tensorflow:loss = 0.027320167, step = 42701 (0.393 sec)\n",
            "INFO:tensorflow:global_step/sec: 252.053\n",
            "INFO:tensorflow:loss = 0.05568271, step = 42801 (0.396 sec)\n",
            "INFO:tensorflow:global_step/sec: 270.293\n",
            "INFO:tensorflow:loss = 0.011972016, step = 42901 (0.370 sec)\n",
            "INFO:tensorflow:global_step/sec: 261.028\n",
            "INFO:tensorflow:loss = 0.022682458, step = 43001 (0.383 sec)\n",
            "INFO:tensorflow:global_step/sec: 277.343\n",
            "INFO:tensorflow:loss = 0.027562447, step = 43101 (0.361 sec)\n",
            "INFO:tensorflow:global_step/sec: 265.389\n",
            "INFO:tensorflow:loss = 0.040632915, step = 43201 (0.378 sec)\n",
            "INFO:tensorflow:global_step/sec: 263.666\n",
            "INFO:tensorflow:loss = 0.026246559, step = 43301 (0.380 sec)\n",
            "INFO:tensorflow:global_step/sec: 264.841\n",
            "INFO:tensorflow:loss = 0.014571566, step = 43401 (0.378 sec)\n",
            "INFO:tensorflow:global_step/sec: 260.211\n",
            "INFO:tensorflow:loss = 0.017444106, step = 43501 (0.381 sec)\n",
            "INFO:tensorflow:global_step/sec: 270.028\n",
            "INFO:tensorflow:loss = 0.061046723, step = 43601 (0.370 sec)\n",
            "INFO:tensorflow:global_step/sec: 268.534\n",
            "INFO:tensorflow:loss = 0.0039933743, step = 43701 (0.374 sec)\n",
            "INFO:tensorflow:global_step/sec: 267.273\n",
            "INFO:tensorflow:loss = 0.0049672355, step = 43801 (0.372 sec)\n",
            "INFO:tensorflow:global_step/sec: 266.281\n",
            "INFO:tensorflow:loss = 0.0046448065, step = 43901 (0.376 sec)\n",
            "INFO:tensorflow:Saving checkpoints for 44000 into /tmp/tmp88zulb9x/model.ckpt.\n",
            "INFO:tensorflow:Loss for final step: 0.0010359864.\n"
          ],
          "name": "stdout"
        },
        {
          "output_type": "execute_result",
          "data": {
            "text/plain": [
              "<tensorflow_estimator.python.estimator.canned.dnn.DNNClassifier at 0x7f9b87e2e208>"
            ]
          },
          "metadata": {
            "tags": []
          },
          "execution_count": 21
        }
      ]
    },
    {
      "cell_type": "code",
      "metadata": {
        "id": "kG5Yv7SJKtFM",
        "colab_type": "code",
        "colab": {
          "base_uri": "https://localhost:8080/",
          "height": 218
        },
        "outputId": "48689b3a-a14c-427d-c03b-0f2699d57171"
      },
      "source": [
        "test_input_fn = tf.estimator.inputs.numpy_input_fn(\n",
        "    x={\"X\":X_test}, y=y_test, shuffle=False)\n",
        "eval_results= dnn_clf.evaluate(input_fn=test_input_fn)"
      ],
      "execution_count": 22,
      "outputs": [
        {
          "output_type": "stream",
          "text": [
            "INFO:tensorflow:Calling model_fn.\n",
            "INFO:tensorflow:Done calling model_fn.\n",
            "INFO:tensorflow:Starting evaluation at 2019-12-21T01:58:00Z\n",
            "INFO:tensorflow:Graph was finalized.\n",
            "INFO:tensorflow:Restoring parameters from /tmp/tmp88zulb9x/model.ckpt-44000\n",
            "INFO:tensorflow:Running local_init_op.\n",
            "INFO:tensorflow:Done running local_init_op.\n",
            "INFO:tensorflow:Finished evaluation at 2019-12-21-01:58:00\n",
            "INFO:tensorflow:Saving dict for global step 44000: accuracy = 0.9807, average_loss = 0.09927771, global_step = 44000, loss = 12.566799\n",
            "INFO:tensorflow:Saving 'checkpoint_path' summary for global step 44000: /tmp/tmp88zulb9x/model.ckpt-44000\n"
          ],
          "name": "stdout"
        }
      ]
    },
    {
      "cell_type": "code",
      "metadata": {
        "id": "iU-JIpgeLFv3",
        "colab_type": "code",
        "colab": {
          "base_uri": "https://localhost:8080/",
          "height": 89
        },
        "outputId": "6a1164f5-2205-432d-e077-ce3d01b53eae"
      },
      "source": [
        "eval_results"
      ],
      "execution_count": 23,
      "outputs": [
        {
          "output_type": "execute_result",
          "data": {
            "text/plain": [
              "{'accuracy': 0.9807,\n",
              " 'average_loss': 0.09927771,\n",
              " 'global_step': 44000,\n",
              " 'loss': 12.566799}"
            ]
          },
          "metadata": {
            "tags": []
          },
          "execution_count": 23
        }
      ]
    },
    {
      "cell_type": "code",
      "metadata": {
        "id": "KDOmVwcXLH3n",
        "colab_type": "code",
        "colab": {
          "base_uri": "https://localhost:8080/",
          "height": 325
        },
        "outputId": "9e99a9d3-edac-4e2c-8a49-cae8b35dcf1f"
      },
      "source": [
        "y_pred_iter = dnn_clf.predict(input_fn=test_input_fn)\n",
        "y_pred=list(y_pred_iter)\n",
        "y_pred[0]"
      ],
      "execution_count": 25,
      "outputs": [
        {
          "output_type": "stream",
          "text": [
            "INFO:tensorflow:Calling model_fn.\n",
            "INFO:tensorflow:Done calling model_fn.\n",
            "INFO:tensorflow:Graph was finalized.\n",
            "INFO:tensorflow:Restoring parameters from /tmp/tmp88zulb9x/model.ckpt-44000\n",
            "INFO:tensorflow:Running local_init_op.\n",
            "INFO:tensorflow:Done running local_init_op.\n"
          ],
          "name": "stdout"
        },
        {
          "output_type": "execute_result",
          "data": {
            "text/plain": [
              "{'all_class_ids': array([0, 1, 2, 3, 4, 5, 6, 7, 8, 9], dtype=int32),\n",
              " 'all_classes': array([b'0', b'1', b'2', b'3', b'4', b'5', b'6', b'7', b'8', b'9'],\n",
              "       dtype=object),\n",
              " 'class_ids': array([7]),\n",
              " 'classes': array([b'7'], dtype=object),\n",
              " 'logits': array([ -3.4191854 ,   0.03407572,  -3.4285192 ,   6.8053493 ,\n",
              "         -4.448294  ,  -4.9567866 , -13.072114  ,  20.311287  ,\n",
              "         -5.1945004 ,   1.8349665 ], dtype=float32),\n",
              " 'probabilities': array([4.9429492e-11, 1.5621334e-09, 4.8970238e-11, 1.3628412e-06,\n",
              "        1.7662422e-11, 1.0622197e-11, 3.1752144e-15, 9.9999869e-01,\n",
              "        8.3748486e-12, 9.4587884e-09], dtype=float32)}"
            ]
          },
          "metadata": {
            "tags": []
          },
          "execution_count": 25
        }
      ]
    },
    {
      "cell_type": "markdown",
      "metadata": {
        "id": "Ig4pBY19Ld1o",
        "colab_type": "text"
      },
      "source": [
        "Using plain TensorFlow"
      ]
    },
    {
      "cell_type": "code",
      "metadata": {
        "id": "BNWssPMjLeRn",
        "colab_type": "code",
        "colab": {}
      },
      "source": [
        "import tensorflow as tf\n",
        "\n",
        "n_inputs = 28*28 # mnist\n",
        "n_hidden1=300\n",
        "n_hidden2=100\n",
        "n_outputs=10"
      ],
      "execution_count": 0,
      "outputs": []
    },
    {
      "cell_type": "code",
      "metadata": {
        "id": "ll4VbIp6LnzL",
        "colab_type": "code",
        "colab": {}
      },
      "source": [
        "reset_graph()\n",
        "\n",
        "X=tf.placeholder(tf.float32, shape=(None, n_inputs), name=\"X\")\n",
        "y=tf.placeholder(tf.int32, shape=(None), name=\"y\")"
      ],
      "execution_count": 0,
      "outputs": []
    },
    {
      "cell_type": "code",
      "metadata": {
        "id": "wq0Wr3-YL0oa",
        "colab_type": "code",
        "colab": {}
      },
      "source": [
        "def neuron_layer(X, n_neurons, name, activation=None):\n",
        "  with tf.name_scope(name):\n",
        "    n_inputs = int(X.get_shape()[1])\n",
        "    stddev=2/np.sqrt(n_inputs)\n",
        "    init=tf.truncated_normal((n_inputs, n_neurons),stddev=stddev)\n",
        "    W=tf.Variable(init, name=\"kernel\")\n",
        "    b=tf.Variable(tf.zeros([n_neurons]), name=\"bias\")\n",
        "    Z = tf.matmul(X,W)+b\n",
        "    if activation is not None:\n",
        "      return activation(Z)\n",
        "    else:\n",
        "      return Z"
      ],
      "execution_count": 0,
      "outputs": []
    },
    {
      "cell_type": "code",
      "metadata": {
        "id": "gwWtex7BMeMs",
        "colab_type": "code",
        "colab": {}
      },
      "source": [
        "with tf.name_scope(\"dnn\"):\n",
        "  hidden1=neuron_layer(X,n_hidden1,name=\"hidden1\",\n",
        "                       activation = tf.nn.relu)\n",
        "  hidden2=neuron_layer(hidden1, n_hidden2, name=\"hidden2\",\n",
        "                       activation=tf.nn.relu)\n",
        "  logits=neuron_layer(hidden2, n_outputs,name=\"outputs\")"
      ],
      "execution_count": 0,
      "outputs": []
    },
    {
      "cell_type": "code",
      "metadata": {
        "id": "uDtaIvGuM8JU",
        "colab_type": "code",
        "colab": {}
      },
      "source": [
        "with tf.name_scope(\"loss\"):\n",
        "  xentropy = tf.nn.sparse_softmax_cross_entropy_with_logits(labels=y,logits=logits)\n",
        "  loss=tf.reduce_mean(xentropy, name=\"loss\")"
      ],
      "execution_count": 0,
      "outputs": []
    },
    {
      "cell_type": "code",
      "metadata": {
        "id": "7QLS9nZrNOzW",
        "colab_type": "code",
        "colab": {}
      },
      "source": [
        "learning_rate = 0.01\n",
        "\n",
        "with tf.name_scope(\"train\"):\n",
        "  optimizer = tf.train.GradientDescentOptimizer(learning_rate)\n",
        "  training_op = optimizer.minimize(loss)"
      ],
      "execution_count": 0,
      "outputs": []
    },
    {
      "cell_type": "code",
      "metadata": {
        "id": "2kps4yITNc9P",
        "colab_type": "code",
        "colab": {}
      },
      "source": [
        "with tf.name_scope(\"eval\"):\n",
        "  correct = tf.nn.in_top_k(logits,y,1)\n",
        "  accuracy = tf.reduce_mean(tf.cast(correct,tf.float32))"
      ],
      "execution_count": 0,
      "outputs": []
    },
    {
      "cell_type": "code",
      "metadata": {
        "id": "4owAEdeDNseS",
        "colab_type": "code",
        "colab": {}
      },
      "source": [
        "init=tf.global_variables_initializer()\n",
        "saver = tf.train.Saver()"
      ],
      "execution_count": 0,
      "outputs": []
    },
    {
      "cell_type": "code",
      "metadata": {
        "id": "Rjt92YfjNfGD",
        "colab_type": "code",
        "colab": {}
      },
      "source": [
        "n_epochs=40\n",
        "batch_size=50"
      ],
      "execution_count": 0,
      "outputs": []
    },
    {
      "cell_type": "code",
      "metadata": {
        "id": "B4QUMEReN1hV",
        "colab_type": "code",
        "colab": {}
      },
      "source": [
        "def shuffle_batch(X,y,batch_size):\n",
        "  rnd_idx=np.random.permutation(len(X))\n",
        "  n_batches = len(X)//batch_size\n",
        "  for batch_idx in np.array_split(rnd_idx, n_batches):\n",
        "    X_batch, y_batch= X[batch_idx], y[batch_idx]\n",
        "    yield X_batch, y_batch"
      ],
      "execution_count": 0,
      "outputs": []
    },
    {
      "cell_type": "code",
      "metadata": {
        "id": "vtmkSxu1ORlt",
        "colab_type": "code",
        "colab": {
          "base_uri": "https://localhost:8080/",
          "height": 742
        },
        "outputId": "c050d507-b0ad-4eab-84fd-3b4d1eeba096"
      },
      "source": [
        "with tf.Session() as sess:\n",
        "  init.run()\n",
        "\n",
        "  for epoch in range(n_epochs):\n",
        "    for X_batch, y_batch in shuffle_batch(X_train, y_train, batch_size):\n",
        "      sess.run(training_op, feed_dict={X:X_batch, y:y_batch})\n",
        "    acc_batch = accuracy.eval(feed_dict={X:X_batch, y:y_batch})\n",
        "    acc_val = accuracy.eval(feed_dict={X:X_valid, y:y_valid})\n",
        "    print(epoch, \"Batch accuracy:\", acc_batch, \"Val accuracy:\", acc_val)\n",
        "\n",
        "  save_path = saver.save(sess, \"./my_model_final.ckpt\")"
      ],
      "execution_count": 38,
      "outputs": [
        {
          "output_type": "stream",
          "text": [
            "0 Batch accuracy: 0.9 Val accuracy: 0.9146\n",
            "1 Batch accuracy: 0.92 Val accuracy: 0.936\n",
            "2 Batch accuracy: 0.96 Val accuracy: 0.945\n",
            "3 Batch accuracy: 0.92 Val accuracy: 0.9514\n",
            "4 Batch accuracy: 0.98 Val accuracy: 0.956\n",
            "5 Batch accuracy: 0.96 Val accuracy: 0.9566\n",
            "6 Batch accuracy: 1.0 Val accuracy: 0.9612\n",
            "7 Batch accuracy: 0.94 Val accuracy: 0.9632\n",
            "8 Batch accuracy: 0.98 Val accuracy: 0.965\n",
            "9 Batch accuracy: 0.96 Val accuracy: 0.9662\n",
            "10 Batch accuracy: 0.92 Val accuracy: 0.9686\n",
            "11 Batch accuracy: 0.98 Val accuracy: 0.9686\n",
            "12 Batch accuracy: 0.98 Val accuracy: 0.9672\n",
            "13 Batch accuracy: 0.98 Val accuracy: 0.9708\n",
            "14 Batch accuracy: 1.0 Val accuracy: 0.9714\n",
            "15 Batch accuracy: 0.94 Val accuracy: 0.9732\n",
            "16 Batch accuracy: 1.0 Val accuracy: 0.973\n",
            "17 Batch accuracy: 1.0 Val accuracy: 0.974\n",
            "18 Batch accuracy: 1.0 Val accuracy: 0.9748\n",
            "19 Batch accuracy: 0.98 Val accuracy: 0.9744\n",
            "20 Batch accuracy: 1.0 Val accuracy: 0.975\n",
            "21 Batch accuracy: 1.0 Val accuracy: 0.9756\n",
            "22 Batch accuracy: 0.98 Val accuracy: 0.9766\n",
            "23 Batch accuracy: 0.98 Val accuracy: 0.9754\n",
            "24 Batch accuracy: 0.98 Val accuracy: 0.9768\n",
            "25 Batch accuracy: 1.0 Val accuracy: 0.9768\n",
            "26 Batch accuracy: 0.98 Val accuracy: 0.9776\n",
            "27 Batch accuracy: 1.0 Val accuracy: 0.9776\n",
            "28 Batch accuracy: 0.96 Val accuracy: 0.9754\n",
            "29 Batch accuracy: 0.98 Val accuracy: 0.9778\n",
            "30 Batch accuracy: 1.0 Val accuracy: 0.9752\n",
            "31 Batch accuracy: 0.98 Val accuracy: 0.9772\n",
            "32 Batch accuracy: 0.98 Val accuracy: 0.9772\n",
            "33 Batch accuracy: 0.98 Val accuracy: 0.979\n",
            "34 Batch accuracy: 1.0 Val accuracy: 0.9784\n",
            "35 Batch accuracy: 1.0 Val accuracy: 0.9782\n",
            "36 Batch accuracy: 0.98 Val accuracy: 0.9782\n",
            "37 Batch accuracy: 1.0 Val accuracy: 0.978\n",
            "38 Batch accuracy: 1.0 Val accuracy: 0.9796\n",
            "39 Batch accuracy: 1.0 Val accuracy: 0.9776\n"
          ],
          "name": "stdout"
        }
      ]
    },
    {
      "cell_type": "code",
      "metadata": {
        "id": "BeDE3UGRPZ_g",
        "colab_type": "code",
        "colab": {
          "base_uri": "https://localhost:8080/",
          "height": 35
        },
        "outputId": "bbb4016f-e0ca-4138-9947-c4971a1d427c"
      },
      "source": [
        "with tf.Session() as sess:\n",
        "  saver.restore(sess, \"./my_model_final.ckpt\")\n",
        "  X_new_scaled = X_test[:20]\n",
        "  Z = logits.eval(feed_dict={X:X_new_scaled})\n",
        "  y_pred = np.argmax(Z, axis=1)"
      ],
      "execution_count": 39,
      "outputs": [
        {
          "output_type": "stream",
          "text": [
            "INFO:tensorflow:Restoring parameters from ./my_model_final.ckpt\n"
          ],
          "name": "stdout"
        }
      ]
    },
    {
      "cell_type": "code",
      "metadata": {
        "id": "2sB9w9hdPv2u",
        "colab_type": "code",
        "colab": {
          "base_uri": "https://localhost:8080/",
          "height": 53
        },
        "outputId": "538abc3c-ceb5-4393-d0da-6e23ce08a4c2"
      },
      "source": [
        "print(\"Predicted class:\", y_pred)\n",
        "print(\"Actual class:\", y_test[:20])"
      ],
      "execution_count": 40,
      "outputs": [
        {
          "output_type": "stream",
          "text": [
            "Predicted class: [7 2 1 0 4 1 4 9 6 9 0 6 9 0 1 5 9 7 3 4]\n",
            "Actual class: [7 2 1 0 4 1 4 9 5 9 0 6 9 0 1 5 9 7 3 4]\n"
          ],
          "name": "stdout"
        }
      ]
    },
    {
      "cell_type": "markdown",
      "metadata": {
        "id": "AU-JNy0rP9Z1",
        "colab_type": "text"
      },
      "source": [
        "Using dense() instead of neuron_layer()\n",
        "\n",
        "\n",
        "Note: previous releases of the book used tensorflow.contrib.layers.fully_connected() rather than tf.layers.dense() (which did not exist when this chapter was written). It is now preferable to use tf.layers.dense(), because anything in the contrib module may change or be deleted without notice. The dense() function is almost identical to the fully_connected() function, except for a few minor differences:\n",
        "\n",
        "\n",
        "\n",
        "\n",
        "\n",
        "several parameters are renamed: scope becomes name, activation_fn becomes activation (and similarly the _fn suffix is removed from other parameters such as normalizer_fn), weights_initializer becomes kernel_initializer, etc.\n",
        "\n",
        "the default activation is now None rather than tf.nn.relu.\n",
        "\n",
        "a few more differences are presented in chapter 11."
      ]
    },
    {
      "cell_type": "code",
      "metadata": {
        "id": "icUcKRi2QFLv",
        "colab_type": "code",
        "colab": {}
      },
      "source": [
        "n_inputs= 28*28 # mnist\n",
        "n_hidden1=300\n",
        "n_hidden2=100\n",
        "n_outputs = 10"
      ],
      "execution_count": 0,
      "outputs": []
    },
    {
      "cell_type": "code",
      "metadata": {
        "id": "rfiOvYFpQOvi",
        "colab_type": "code",
        "colab": {}
      },
      "source": [
        "reset_graph()\n",
        "\n",
        "X=tf.placeholder(tf.float32, shape=(None, n_inputs), name=\"X\")\n",
        "y=tf.placeholder(tf.int32, shape=(None), name=\"y\")"
      ],
      "execution_count": 0,
      "outputs": []
    },
    {
      "cell_type": "code",
      "metadata": {
        "id": "EAIrGHjsQcM5",
        "colab_type": "code",
        "colab": {
          "base_uri": "https://localhost:8080/",
          "height": 146
        },
        "outputId": "37fab516-081b-4cb5-891b-f2e04a9f9f60"
      },
      "source": [
        "with tf.name_scope(\"dnn\"):\n",
        "  hidden1 = tf.layers.dense(X, n_hidden1, name=\"hidden_1\", activation=tf.nn.relu)\n",
        "  hidden2 = tf.layers.dense(hidden1, n_hidden2, name=\"hidden_2\", activation=tf.nn.relu)\n",
        "  logits=tf.layers.dense(hidden2, n_outputs, name=\"outputs\")\n",
        "  y_proba = tf.nn.softmax(logits)"
      ],
      "execution_count": 43,
      "outputs": [
        {
          "output_type": "stream",
          "text": [
            "WARNING:tensorflow:From <ipython-input-43-2118252a15ba>:2: dense (from tensorflow.python.layers.core) is deprecated and will be removed in a future version.\n",
            "Instructions for updating:\n",
            "Use keras.layers.Dense instead.\n",
            "WARNING:tensorflow:From /usr/local/lib/python3.6/dist-packages/tensorflow_core/python/layers/core.py:187: Layer.apply (from tensorflow.python.keras.engine.base_layer) is deprecated and will be removed in a future version.\n",
            "Instructions for updating:\n",
            "Please use `layer.__call__` method instead.\n"
          ],
          "name": "stdout"
        }
      ]
    },
    {
      "cell_type": "code",
      "metadata": {
        "id": "5A1hTW8DQ9yu",
        "colab_type": "code",
        "colab": {}
      },
      "source": [
        "with tf.name_scope(\"loss\"):\n",
        "  xentropy = tf.nn.sparse_softmax_cross_entropy_with_logits(labels=y, logits=logits)\n",
        "  loss = tf.reduce_mean(xentropy, name=\"loss\")"
      ],
      "execution_count": 0,
      "outputs": []
    },
    {
      "cell_type": "code",
      "metadata": {
        "id": "hzXa070jRMNI",
        "colab_type": "code",
        "colab": {}
      },
      "source": [
        "learning_rate=0.01\n",
        "\n",
        "with tf.name_scope(\"train\"):\n",
        "  optimizer = tf.train.GradientDescentOptimizer(learning_rate=learning_rate)\n",
        "  training_op = optimizer.minimize(loss)"
      ],
      "execution_count": 0,
      "outputs": []
    },
    {
      "cell_type": "code",
      "metadata": {
        "id": "Jatj0MyRRZ_S",
        "colab_type": "code",
        "colab": {}
      },
      "source": [
        "with tf.name_scope(\"eval\"):\n",
        "  correct = tf.nn.in_top_k(logits, y,1)\n",
        "  accuracy = tf.reduce_mean(tf.cast(correct, tf.float32))"
      ],
      "execution_count": 0,
      "outputs": []
    },
    {
      "cell_type": "code",
      "metadata": {
        "id": "LhynKauTRlyJ",
        "colab_type": "code",
        "colab": {}
      },
      "source": [
        "init = tf.global_variables_initializer()\n",
        "saver = tf.train.Saver()"
      ],
      "execution_count": 0,
      "outputs": []
    },
    {
      "cell_type": "code",
      "metadata": {
        "id": "O0X5-CksRqvw",
        "colab_type": "code",
        "colab": {
          "base_uri": "https://localhost:8080/",
          "height": 379
        },
        "outputId": "4b8d0e3e-4536-4c19-9d5c-aeead14cc222"
      },
      "source": [
        "n_epochs=20\n",
        "n_batches=50\n",
        "\n",
        "with tf.Session() as sess:\n",
        "  init.run()\n",
        "\n",
        "  for epoch in range(n_epochs):\n",
        "    for X_batch, y_batch in shuffle_batch(X_train, y_train, batch_size):\n",
        "      sess.run(training_op, feed_dict={X:X_batch, y:y_batch})\n",
        "    acc_batch = accuracy.eval(feed_dict={X:X_batch, y:y_batch})\n",
        "    acc_valid = accuracy.eval(feed_dict={X:X_valid, y:y_valid})\n",
        "    print(\"epoch:\", epoch, \"Batch accuracy:\",acc_batch, \"Val accuracy:\", acc_val)\n",
        "\n",
        "  save_path = saver.save(sess, \"./my_model_final.ckpt\")"
      ],
      "execution_count": 49,
      "outputs": [
        {
          "output_type": "stream",
          "text": [
            "epoch: 0 Batch accuracy: 0.94 Val accuracy: 0.9776\n",
            "epoch: 1 Batch accuracy: 0.94 Val accuracy: 0.9776\n",
            "epoch: 2 Batch accuracy: 0.9 Val accuracy: 0.9776\n",
            "epoch: 3 Batch accuracy: 0.94 Val accuracy: 0.9776\n",
            "epoch: 4 Batch accuracy: 0.94 Val accuracy: 0.9776\n",
            "epoch: 5 Batch accuracy: 1.0 Val accuracy: 0.9776\n",
            "epoch: 6 Batch accuracy: 0.94 Val accuracy: 0.9776\n",
            "epoch: 7 Batch accuracy: 0.96 Val accuracy: 0.9776\n",
            "epoch: 8 Batch accuracy: 0.94 Val accuracy: 0.9776\n",
            "epoch: 9 Batch accuracy: 0.92 Val accuracy: 0.9776\n",
            "epoch: 10 Batch accuracy: 0.98 Val accuracy: 0.9776\n",
            "epoch: 11 Batch accuracy: 0.98 Val accuracy: 0.9776\n",
            "epoch: 12 Batch accuracy: 0.98 Val accuracy: 0.9776\n",
            "epoch: 13 Batch accuracy: 1.0 Val accuracy: 0.9776\n",
            "epoch: 14 Batch accuracy: 0.94 Val accuracy: 0.9776\n",
            "epoch: 15 Batch accuracy: 0.98 Val accuracy: 0.9776\n",
            "epoch: 16 Batch accuracy: 1.0 Val accuracy: 0.9776\n",
            "epoch: 17 Batch accuracy: 0.98 Val accuracy: 0.9776\n",
            "epoch: 18 Batch accuracy: 0.96 Val accuracy: 0.9776\n",
            "epoch: 19 Batch accuracy: 1.0 Val accuracy: 0.9776\n"
          ],
          "name": "stdout"
        }
      ]
    },
    {
      "cell_type": "markdown",
      "metadata": {
        "id": "rfL3-ZvkSrOL",
        "colab_type": "text"
      },
      "source": [
        "Exercise solutions"
      ]
    },
    {
      "cell_type": "markdown",
      "metadata": {
        "id": "0K5lUTbOStRZ",
        "colab_type": "text"
      },
      "source": [
        "Train a deep MLP on the MNIST dataset and see if you can get over 98% precision. Just like in the last exercise of chapter 9, try adding all the bells and whistles (i.e., save checkpoints, restore the last checkpoint in case of an interruption, add summaries, plot learning curves using TensorBoard, and so on).\n",
        "\n",
        "First let's create the deep net. It's exactly the same as earlier, with just one addition: we add a tf.summary.scalar() to track the loss and the accuracy during training, so we can view nice learning curves using TensorBoard."
      ]
    },
    {
      "cell_type": "code",
      "metadata": {
        "id": "Yj1Al9atSu3F",
        "colab_type": "code",
        "colab": {}
      },
      "source": [
        "n_inputs = 28*28 #mnist\n",
        "n_hidden1=300\n",
        "n_hidden2=100\n",
        "n_outputs=10"
      ],
      "execution_count": 0,
      "outputs": []
    },
    {
      "cell_type": "code",
      "metadata": {
        "id": "vld4eIAeS7aO",
        "colab_type": "code",
        "colab": {}
      },
      "source": [
        "reset_graph()\n",
        "\n",
        "X=tf.placeholder(tf.float32, shape=(None, n_inputs), name=\"X\")\n",
        "y=tf.placeholder(tf.int32, shape=(None), name=\"y\")"
      ],
      "execution_count": 0,
      "outputs": []
    },
    {
      "cell_type": "code",
      "metadata": {
        "id": "Mp2i_-DvTLjL",
        "colab_type": "code",
        "colab": {}
      },
      "source": [
        "with tf.name_scope(\"dnn\"):\n",
        "  hidden1= tf.layers.dense(X, n_hidden1, name=\"hidden1\", activation=tf.nn.relu)\n",
        "  hidden2=tf.layers.dense(hidden1, n_hidden2, name=\"hidden2\", activation=tf.nn.relu)\n",
        "  logits = tf.layers.dense(hidden2, n_outputs, name=\"output\")"
      ],
      "execution_count": 0,
      "outputs": []
    },
    {
      "cell_type": "code",
      "metadata": {
        "id": "zcrekdN2TkYi",
        "colab_type": "code",
        "colab": {
          "base_uri": "https://localhost:8080/",
          "height": 35
        },
        "outputId": "0a01f9b6-4651-49ac-f792-3b79b7784338"
      },
      "source": [
        "with tf.name_scope(\"loss\"):\n",
        "  xentropy = tf.nn.sparse_softmax_cross_entropy_with_logits(labels=y, logits=logits)\n",
        "  loss=tf.reduce_mean(xentropy)\n",
        "  loss_summary=tf.summary.scalar(\"log loss\", loss)"
      ],
      "execution_count": 54,
      "outputs": [
        {
          "output_type": "stream",
          "text": [
            "INFO:tensorflow:Summary name log loss is illegal; using log_loss instead.\n"
          ],
          "name": "stdout"
        }
      ]
    },
    {
      "cell_type": "code",
      "metadata": {
        "id": "vlmVZAkCT4_X",
        "colab_type": "code",
        "colab": {}
      },
      "source": [
        "learning_rate=0.01\n",
        "\n",
        "with tf.name_scope(\"train\"):\n",
        "  optimizer =tf.train.GradientDescentOptimizer(learning_rate)\n",
        "  training_op= optimizer.minimize(loss)"
      ],
      "execution_count": 0,
      "outputs": []
    },
    {
      "cell_type": "code",
      "metadata": {
        "id": "6VDp_0jAUK2q",
        "colab_type": "code",
        "colab": {}
      },
      "source": [
        "with tf.name_scope(\"eval\"):\n",
        "  correct =tf.nn.in_top_k(logits, y,1)\n",
        "  accuracy = tf.reduce_mean(tf.cast(correct, tf.float32))\n",
        "  accuracy_summary= tf.summary.scalar(\"accuracy\", accuracy)"
      ],
      "execution_count": 0,
      "outputs": []
    },
    {
      "cell_type": "code",
      "metadata": {
        "id": "hskx08zJUeoT",
        "colab_type": "code",
        "colab": {}
      },
      "source": [
        "init =tf.global_variables_initializer()\n",
        "saver=tf.train.Saver()"
      ],
      "execution_count": 0,
      "outputs": []
    },
    {
      "cell_type": "markdown",
      "metadata": {
        "id": "htViM9pLUlt3",
        "colab_type": "text"
      },
      "source": [
        "Now we need to define the directory to write the TensorBoard logs to:\n",
        "\n"
      ]
    },
    {
      "cell_type": "code",
      "metadata": {
        "id": "8bbll0ftUmMf",
        "colab_type": "code",
        "colab": {}
      },
      "source": [
        "from datetime import datetime\n",
        "\n",
        "def log_dir(prefix=\"\"):\n",
        "  now = datetime.utcnow().strftime(\"%Y%m%d%H%M%S\")\n",
        "  root_logdir=\"tf_logs\"\n",
        "  if prefix:\n",
        "    prefix += \"-\"\n",
        "  name = prefix + \"run-\"+now\n",
        "  return \"{}/{}/\".format(root_logdir, name)"
      ],
      "execution_count": 0,
      "outputs": []
    },
    {
      "cell_type": "code",
      "metadata": {
        "id": "BLm594XlVPXw",
        "colab_type": "code",
        "colab": {}
      },
      "source": [
        "logdir = log_dir(\"mnist_dnn\")"
      ],
      "execution_count": 0,
      "outputs": []
    },
    {
      "cell_type": "markdown",
      "metadata": {
        "id": "Uu7GSyW9VVFq",
        "colab_type": "text"
      },
      "source": [
        "Now we can create the FileWriter that we will use to write the TensorBoard logs:\n",
        "\n"
      ]
    },
    {
      "cell_type": "code",
      "metadata": {
        "id": "0kQ4nOeeVTms",
        "colab_type": "code",
        "colab": {}
      },
      "source": [
        "file_writer = tf.summary.FileWriter(logdir, tf.get_default_graph())"
      ],
      "execution_count": 0,
      "outputs": []
    },
    {
      "cell_type": "markdown",
      "metadata": {
        "id": "531jVVooVXxf",
        "colab_type": "text"
      },
      "source": [
        "Hey! Why don't we implement early stopping? For this, we are going to need to use the validation set.\n",
        "\n"
      ]
    },
    {
      "cell_type": "code",
      "metadata": {
        "id": "PnaYNLCVVZse",
        "colab_type": "code",
        "colab": {}
      },
      "source": [
        "m,n=X_train.shape"
      ],
      "execution_count": 0,
      "outputs": []
    },
    {
      "cell_type": "code",
      "metadata": {
        "id": "5xfT8pntVdmX",
        "colab_type": "code",
        "colab": {
          "base_uri": "https://localhost:8080/",
          "height": 452
        },
        "outputId": "ac3304a6-b8c6-4468-cfa5-0901c4838159"
      },
      "source": [
        "n_epochs=10001\n",
        "batch_size=50\n",
        "n_batches= int(np.ceil(m/batch_size))\n",
        "\n",
        "checkpoint_path = \"/tmp/my_deep_mnist_model.ckpt\"\n",
        "checkpoint_epoch_path = checkpoint_path + \".epoch\"\n",
        "final_model_path = \"./my_deep_mnist_model\"\n",
        "\n",
        "best_loss = np.infty\n",
        "epochs_without_progress=0\n",
        "max_epochs_without_progress=50\n",
        "\n",
        "with tf.Session() as sess:\n",
        "  if os.path.isfile(checkpoint_epoch_path):\n",
        "    # if the checkpoint file exists, restore the model and load the epoch number\n",
        "    with open(checkpoint_epoch_path,\"rb\") as f:\n",
        "      start_epoch=int(f.read())\n",
        "    print(\"training was interrrupted, continuing at epoch\", start_epoch)\n",
        "    saver.restore(sess, checkpoint_path)\n",
        "\n",
        "  else:\n",
        "    start_epoch=0\n",
        "    sess.run(init)\n",
        "\n",
        "  for epoch in range(start_epoch, n_epochs):\n",
        "    for X_batch, y_batch in shuffle_batch(X_train, y_train, batch_size):\n",
        "      sess.run(training_op, feed_dict={X:X_batch, y:y_batch})\n",
        "    accuracy_val, loss_val, accuracy_summary_str, loss_summary_str = sess.run(\n",
        "        [accuracy, loss, accuracy_summary, loss_summary], feed_dict={X:X_valid, y:y_valid}\n",
        "    )\n",
        "\n",
        "    file_writer.add_summary(accuracy_summary_str, epoch)\n",
        "    file_writer.add_summary(loss_summary_str, epoch)\n",
        "    if epoch%5==0:\n",
        "      print(\"epoch:\", epoch, \"val accuracy:\", accuracy_val*100, \"loss:\", loss_val)\n",
        "      saver.save(sess, checkpoint_path)\n",
        "      with open(checkpoint_epoch_path, \"wb\") as f:\n",
        "        f.write(b\"%d\"%(epoch+1))\n",
        "      if loss_val<best_loss:\n",
        "        saver.save(sess, final_model_path)\n",
        "        best_loss = loss_val\n",
        "      else:\n",
        "        epochs_without_progress +=5\n",
        "        if epochs_without_progress > max_epochs_without_progress:\n",
        "          print(\"early stopping\")\n",
        "          break"
      ],
      "execution_count": 66,
      "outputs": [
        {
          "output_type": "stream",
          "text": [
            "epoch: 0 val accuracy: 90.20000100135803 loss: 0.35498813\n",
            "epoch: 5 val accuracy: 95.09999752044678 loss: 0.17518954\n",
            "epoch: 10 val accuracy: 96.70000076293945 loss: 0.12527336\n",
            "epoch: 15 val accuracy: 97.18000292778015 loss: 0.104002535\n",
            "epoch: 20 val accuracy: 97.46000170707703 loss: 0.0916198\n",
            "epoch: 25 val accuracy: 97.61999845504761 loss: 0.08382479\n",
            "epoch: 30 val accuracy: 97.71999716758728 loss: 0.075975604\n",
            "epoch: 35 val accuracy: 97.78000116348267 loss: 0.073199205\n",
            "epoch: 40 val accuracy: 97.89999723434448 loss: 0.06978728\n",
            "epoch: 45 val accuracy: 97.87999987602234 loss: 0.069676846\n",
            "epoch: 50 val accuracy: 98.0400025844574 loss: 0.06623281\n",
            "epoch: 55 val accuracy: 98.0400025844574 loss: 0.06568668\n",
            "epoch: 60 val accuracy: 98.14000129699707 loss: 0.06641677\n",
            "epoch: 65 val accuracy: 98.15999865531921 loss: 0.065890074\n",
            "epoch: 70 val accuracy: 98.14000129699707 loss: 0.06596501\n",
            "epoch: 75 val accuracy: 98.18000197410583 loss: 0.06590006\n",
            "epoch: 80 val accuracy: 98.15999865531921 loss: 0.06600225\n",
            "epoch: 85 val accuracy: 98.2200026512146 loss: 0.066824384\n",
            "epoch: 90 val accuracy: 98.11999797821045 loss: 0.067366235\n",
            "epoch: 95 val accuracy: 98.18000197410583 loss: 0.06831167\n",
            "epoch: 100 val accuracy: 98.14000129699707 loss: 0.069202416\n",
            "epoch: 105 val accuracy: 98.15999865531921 loss: 0.06938333\n",
            "epoch: 110 val accuracy: 98.11999797821045 loss: 0.06894919\n",
            "early stopping\n"
          ],
          "name": "stdout"
        }
      ]
    },
    {
      "cell_type": "code",
      "metadata": {
        "id": "99-xcYYFX0Lf",
        "colab_type": "code",
        "colab": {}
      },
      "source": [
        "os.remove(checkpoint_epoch_path)"
      ],
      "execution_count": 0,
      "outputs": []
    },
    {
      "cell_type": "code",
      "metadata": {
        "id": "1HV80swXX4sd",
        "colab_type": "code",
        "colab": {
          "base_uri": "https://localhost:8080/",
          "height": 35
        },
        "outputId": "2e7729a2-928a-4dad-c66d-0343c3283bdf"
      },
      "source": [
        "with tf.Session() as sess:\n",
        "  saver.restore(sess, final_model_path)\n",
        "  accuracy_val = accuracy.eval(feed_dict={X:X_test, y:y_test})"
      ],
      "execution_count": 64,
      "outputs": [
        {
          "output_type": "stream",
          "text": [
            "INFO:tensorflow:Restoring parameters from ./my_deep_mnist_model\n"
          ],
          "name": "stdout"
        }
      ]
    },
    {
      "cell_type": "code",
      "metadata": {
        "id": "CPXQvxujYF8L",
        "colab_type": "code",
        "colab": {
          "base_uri": "https://localhost:8080/",
          "height": 35
        },
        "outputId": "a1872e6b-e9cd-4f33-a21f-077af4e151f9"
      },
      "source": [
        "accuracy_val"
      ],
      "execution_count": 65,
      "outputs": [
        {
          "output_type": "execute_result",
          "data": {
            "text/plain": [
              "0.9773"
            ]
          },
          "metadata": {
            "tags": []
          },
          "execution_count": 65
        }
      ]
    }
  ]
}